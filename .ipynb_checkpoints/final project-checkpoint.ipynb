{
 "cells": [
  {
   "cell_type": "markdown",
   "metadata": {},
   "source": [
    "Setup"
   ]
  },
  {
   "cell_type": "code",
   "execution_count": 38,
   "metadata": {
    "collapsed": false
   },
   "outputs": [],
   "source": [
    "from sklearn.linear_model import LogisticRegression\n",
    "from sklearn import svm\n",
    "from sklearn import preprocessing\n",
    "from sklearn.model_selection import train_test_split\n",
    "from sklearn.metrics import accuracy_score\n",
    "from sklearn.metrics import classification_report\n",
    "from sklearn.metrics import precision_recall_fscore_support\n",
    "from sklearn import linear_model\n",
    "#from plotly import tools\n",
    "import numpy.random as r\n",
    "#import plotly.plotly as py\n",
    "#import plotly.graph_obj as go\n",
    "import numpy as np\n",
    "import pandas as pd\n",
    "import math\n",
    "\n",
    "import matplotlib.pyplot as plt\n",
    "import numpy.polynomial.polynomial as poly\n",
    "%matplotlib inline"
   ]
  },
  {
   "cell_type": "code",
   "execution_count": 4,
   "metadata": {
    "collapsed": false
   },
   "outputs": [],
   "source": [
    "df = pd.read_csv(\"qudditch_training.csv\")\n",
    "df.drop([\"id\",\"player_id\",\"weight\",\"foul_type_id\",\"game_move_id\",\"penalty_id\",\"player_code\",\"move_speciality\",\"snitchnip\",\n",
    "         \"checking\",\"dopplebeater_defence\",\"hawkshead_attacking_formation\",\"no_hands_tackle\",\"power_play\",\"spiral_dive\",\n",
    "         \"starfish_and_stick\",\"twirl\",\"wronski_feint\",\"zig-zag\",\"bludger_backbeat\",\"chelmondiston_charge\",\n",
    "         \"dionysus_dive\",\"double_eight_loop\",\"finbourgh_flick\",\"parkins_pincer\",\"plumpton_pass\",\"porskoff_ploy\",\n",
    "         \"transylvanian_tackle\",\"woollongong_shimmy\"],axis=1,inplace=True)\n",
    "df = (df[~pd.isnull(df).any(axis=1)])"
   ]
  },
  {
   "cell_type": "code",
   "execution_count": 5,
   "metadata": {
    "collapsed": false,
    "scrolled": true
   },
   "outputs": [
    {
     "name": "stdout",
     "output_type": "stream",
     "text": [
      "Index(['house', 'gender', 'age', 'game_duration', 'num_game_moves',\n",
      "       'num_game_losses', 'num_practice_sessions', 'num_games_satout',\n",
      "       'num_games_injured', 'num_games_notpartof', 'player_type',\n",
      "       'num_games_won', 'stooging', 'body_blow', 'sloth_grip_roll',\n",
      "       'reverse_pass', 'change', 'snitch_caught', 'quidditch_league_player'],\n",
      "      dtype='object')\n",
      "['Gryffindor' 'Female' 11.0 1.0 41.0 0.0 1.0 0.0 0.0 0.0 'Beater' 1.0\n",
      " 'None' 'No' 'No' 'No' 'No' 'No' 0]\n",
      "quidditch_league_player\n",
      "['Gryffindor' 'Female' 11.0 1.0 41.0 0.0 1.0 0.0 0.0 0.0 'Beater' 1.0 0 0 0\n",
      " 0 0 0 0]\n",
      "24\n"
     ]
    }
   ],
   "source": [
    "print(df.columns)\n",
    "data = df.values\n",
    "X1 = data[0:101267] # This leaves 101265 entries.\n",
    "\n",
    "Y = data[:,-1]\n",
    "\n",
    "#Y1 = Y1=='YES'\n",
    "for i in range(len(Y)):\n",
    "    if Y[i]==\"NO\":\n",
    "        Y[i]=0\n",
    "    elif Y[i]==\"YES\":\n",
    "        Y[i]=1\n",
    "\n",
    "#Y = Y.reshape((Y.shape[0],1))\n",
    "\n",
    "gryffindor = np.zeros((X1.shape[0],1))\n",
    "hufflepuff = np.zeros((X1.shape[0],1))\n",
    "ravenclaw = np.zeros((X1.shape[0],1))\n",
    "slytherin = np.zeros((X1.shape[0],1))\n",
    "\n",
    "female = np.zeros((X1.shape[0],1))\n",
    "male = np.zeros((X1.shape[0],1))\n",
    "\n",
    "beater = np.zeros((X1.shape[0],1))\n",
    "chaser = np.zeros((X1.shape[0],1))\n",
    "seeker = np.zeros((X1.shape[0],1))\n",
    "\n",
    "print(X1[0])\n",
    "\n",
    "for row in range(len(X1)):\n",
    "    if X1[row][0]==\"Gryffindor\":\n",
    "        gryffindor[row]=1\n",
    "    elif X1[row][0]==\"Hufflepuff\":\n",
    "        hufflepuff[row]=1\n",
    "    elif X1[row][0]==\"Ravenclaw\":\n",
    "        ravenclaw[row]=1\n",
    "    elif X1[row][0]==\"Slytherin\":\n",
    "        slytherin[row]=1\n",
    "        \n",
    "    if X1[row][1]==\"Female\":\n",
    "        female[row]=1\n",
    "    elif X1[row][1]==\"Male\":\n",
    "        male[row]=1\n",
    "        \n",
    "#    if X1[row][7]==\"?\":\n",
    "#        X1[row][7]=0;\n",
    "#    else:\n",
    "#        X1[row][7]=float(X1[row][7])\n",
    "\n",
    "    if X1[row][10]==\"Beater\":\n",
    "        beater[row]=1\n",
    "    elif X1[row][10]==\"Chaser\":\n",
    "        chaser[row]=1\n",
    "    elif X1[row][10]==\"Seeker\":\n",
    "        seeker[row]=1\n",
    "        \n",
    "    if X1[row][12]==\"Norm\":\n",
    "        X1[row][12]=1\n",
    "    elif X1[row][12]==\">7\":\n",
    "        X1[row][12]=2\n",
    "    elif X1[row][12]==\">8\":\n",
    "        X1[row][12]=3\n",
    "    elif X1[row][12]==\"None\":\n",
    "        X1[row][12]=0\n",
    "    \n",
    "    if X1[row][13]==\"No\":\n",
    "        X1[row][13]=0\n",
    "    elif X1[row][13]==\"Down\":\n",
    "        X1[row][13]=1\n",
    "    elif X1[row][13]==\"Steady\":\n",
    "        X1[row][13]=2\n",
    "    elif X1[row][13]==\"Up\":\n",
    "        X1[row][13]=3\n",
    "        \n",
    "    if X1[row][14]==\"No\":\n",
    "        X1[row][14]=0\n",
    "    elif X1[row][14]==\"Down\":\n",
    "        X1[row][14]=1\n",
    "    elif X1[row][14]==\"Steady\":\n",
    "        X1[row][14]=2\n",
    "    elif X1[row][14]==\"Up\":\n",
    "        X1[row][14]=3\n",
    "        \n",
    "    if X1[row][15]==\"No\":\n",
    "        X1[row][15]=0\n",
    "    elif X1[row][15]==\"Down\":\n",
    "        X1[row][15]=1\n",
    "    elif X1[row][15]==\"Steady\":\n",
    "        X1[row][15]=2\n",
    "    elif X1[row][15]==\"Up\":\n",
    "        X1[row][15]=3\n",
    "        \n",
    "    if X1[row][-2]==\"No\":\n",
    "        X1[row][-2]=0\n",
    "    elif X1[row][-2]==\"Yes\":\n",
    "        X1[row][-2]=1\n",
    "\n",
    "    if X1[row][-3]==\"No\":\n",
    "        X1[row][-3]=0\n",
    "    elif X1[row][-3]==\"Ch\":\n",
    "        X1[row][-3]=1\n",
    "        \n",
    "print(df.columns[18])\n",
    "#X1[:,-2] = X1[:,-2]==\"Yes\"\n",
    "#X1[:,-3] = X1[:,-3]==\"Ch\"\n",
    "\n",
    "print(X1[0])\n",
    "\n",
    "X1 = np.hstack((X1,gryffindor,hufflepuff,ravenclaw,slytherin,female,male,beater,chaser,seeker))\n",
    "#X1: [\n",
    "#0'house', \n",
    "#1'gender', \n",
    "#2'age', \n",
    "#3'game_duration', \n",
    "#4'num_game_moves',\n",
    "#5'num_game_losses',\n",
    "#6'num_practice_sessions',\n",
    "#7'num_games_satout',\n",
    "#8'num_games_injured',\n",
    "#9'num_games_notpartof',\n",
    "#10'player_type',\n",
    "#11'num_games_won',\n",
    "#12'stooging',\n",
    "#13'body_blow',\n",
    "#14'sloth_grip_roll',\n",
    "#15'reverse_pass',\n",
    "#16'change',\n",
    "#17'snitch_caught',\n",
    "#    'quidditch_league_player'?\n",
    "#18'gryffindor',\n",
    "#19'hufflepuff',\n",
    "#20'ravenclaw',\n",
    "#21'slytherin',\n",
    "#22'female',\n",
    "#23'male',\n",
    "#24'beater',\n",
    "#25'chaser',\n",
    "#26'seeker']\n",
    "X = np.delete(X1,[0,1,10,18],1)\n",
    "\n",
    "#X:  ['age', 'game_duration', 'num_game_moves',\n",
    "#       'num_game_losses', 'num_practice_sessions', 'num_games_satout',\n",
    "#       'num_games_injured', 'num_games_notpartof',\n",
    "#       'num_games_won', 'stooging', 'body_blow', 'sloth_grip_roll',\n",
    "#       'reverse_pass', 'change', 'snitch_caught',\n",
    "#       'gryffindor','hufflepuff','ravenclaw','slytherin','female','male',\n",
    "#       'beater','chaser','seeker']\n",
    "\n",
    "print(len(X[0]))\n",
    "\n",
    "\n",
    "#print(X[0:20,-6:-2])\n",
    "\n",
    "#print(X[0:20,-2:])"
   ]
  },
  {
   "cell_type": "code",
   "execution_count": 14,
   "metadata": {
    "collapsed": false
   },
   "outputs": [
    {
     "name": "stderr",
     "output_type": "stream",
     "text": [
      "C:\\Users\\Rafi\\AppData\\Local\\Continuum\\Anaconda3\\lib\\site-packages\\sklearn\\utils\\validation.py:444: DataConversionWarning: Data with input dtype object was converted to float64 by the scale function.\n",
      "  warnings.warn(msg, DataConversionWarning)\n"
     ]
    },
    {
     "name": "stdout",
     "output_type": "stream",
     "text": [
      "24\n",
      "325\n"
     ]
    }
   ],
   "source": [
    "X_scale = preprocessing.scale(X)\n",
    "Xp=preprocessing.PolynomialFeatures(degree=2)\n",
    "\n",
    "trainX,testX,trainY,testY=train_test_split(X_scale,Y,test_size=0.5)\n",
    "trainXpoly=Xp.fit_transform(trainX)\n",
    "testXpoly=Xp.fit_transform(testX)\n",
    "print(len(trainX[0]))\n",
    "print(len(trainXpoly[0]))"
   ]
  },
  {
   "cell_type": "code",
   "execution_count": 120,
   "metadata": {
    "collapsed": false
   },
   "outputs": [
    {
     "data": {
      "image/png": "[encoded data removed]",
      "text/plain": [
       "<matplotlib.figure.Figure at 0x179e7d21710>"
      ]
     },
     "metadata": {},
     "output_type": "display_data"
    }
   ],
   "source": [
    "# Unsupervised Analysis\n",
    "# Plot every x parameter with y\n",
    "\n",
    "for i in range(24):\n",
    "    fig=plt.subplot(24,1,i+1)\n",
    "    plt.scatter(X[:,i],Y)\n",
    "    plt.show()\n",
    "\n",
    "# We gotta change this so that every pair of features are plotted in subplots."
   ]
  },
  {
   "cell_type": "code",
   "execution_count": 116,
   "metadata": {
    "collapsed": false
   },
   "outputs": [
    {
     "data": {
      "text/plain": [
       "<matplotlib.collections.PathCollection at 0x179ecca5630>"
      ]
     },
     "execution_count": 116,
     "metadata": {},
     "output_type": "execute_result"
    },
    {
     "data": {
      "image/png": "[encoded data removed]",
      "text/plain": [
       "<matplotlib.figure.Figure at 0x179e63c3b00>"
      ]
     },
     "metadata": {},
     "output_type": "display_data"
    }
   ],
   "source": [
    "# Plot every pair of x parameters with y\n",
    "\n",
    "# We gotta change this so that every pair of features are plotted in subplots.\n",
    "\n",
    "for i in range(24):\n",
    "    for j in range(24):\n",
    "        if i!=j:\n",
    "            fig = plt.subplot(276,1,i+1)\n",
    "            plt.scatter(X[:,i],X[:,j],c=Y,cmap='autumn')\n",
    "            plt.show()"
   ]
  },
  {
   "cell_type": "markdown",
   "metadata": {},
   "source": [
    "Logistic Regression"
   ]
  },
  {
   "cell_type": "code",
   "execution_count": 36,
   "metadata": {
    "collapsed": false,
    "scrolled": false
   },
   "outputs": [],
   "source": [
    "# Variations:\n",
    "# Regularization (use L1 and L2)\n",
    "# Polynomial transformation\n",
    "# c values\n",
    "\n",
    "#this is from the slides for logisitic regression\n",
    "#clf = LogisticRegression(solver='lbfgs',multi_class='multinomial')\n",
    "#clf.fit(trainX, trainY)\n",
    "#yhat_test = clf.predict(testX)\n",
    "#score = clf.score(testX, testY)\n",
    "\n",
    "#helpful link for log reg: https://towardsdatascience.com/logistic-regression-a-simplified-approach-using-python-c4bc81a87c31\\n\",\n",
    "\n",
    "#train test split:\\n\",\n",
    "#preprocessing to scale the data and use train_test_split to split the data (70% train and 30% test)\\n\",\n",
    "\n",
    "#x_train, x_test, y_train, y_test = train_test_split(x_scale, Y)\n",
    "#print(x_train.shape)\n",
    "#print(y_train.shape)\n",
    "\n",
    "#this trains and predicts\\n\",\n",
    "#logmodel = LogisticRegression()\n",
    "#logmodel.fit(X_train,y_train)\n",
    "#predictions = logmodel.predict(X_test)\n",
    "\n",
    "#check precision, recall, f1-score using classification report\\n\",\n",
    "#print(classification_report(y_test,predictions))\n",
    "\n",
    "#another option found in hw5\n",
    "#log reg with lasso(l1) regularization\n",
    "# Initialize an empty list to store values of training set accuracy.\n",
    "acc_train_logreg = []\n",
    "# Initialize an empty list to store values of test set accuracy.\n",
    "acc_test_logreg = []\n",
    "# Initialize an empty list to store different values of parameter 'c'.\n",
    "c_logreg = []\n",
    "# Complete the function logreg that accepts 'c' as a parameter, which is used to create logreg model \n",
    "# with different values of C.\n",
    "def logreg_model(c , X_train, Y_train, X_test, Y_test,reg=None):\n",
    "    # Create an object of logistic regression model using linear_model.\n",
    "    # Pass the value of penalty as 'L1'. By default, it is 'L2'.\n",
    "    # Pass the value of C = c. Note that C is the inverse of lambda. So, small value of C i.e. b/w 0 and 1 \\n\",\n",
    "    # means stronger regularization and large value means less regularization.\\n\",\n",
    "    # Also, in sklearn, L1 is only supported with solver = 'saga'. Solver is the type of optimization algorithm like GDA or\\n\",\n",
    "    # SGDA, which is to be used. So, 'saga' is another algorithm like that. Pass the value of solver as 'saga\n",
    "    #Create the Logistic Regression model object as described above and save it to logreg\\n\",\n",
    "    \n",
    "    if reg==\"LASSO\" or reg==\"Lasso\" or reg==\"lasso\" or reg==\"l2\" or reg==None:\n",
    "        logreg = linear_model.LogisticRegression(C=c,penalty='l2', warm_start=True, solver='saga')\n",
    "    elif reg==\"Ridge\" or reg==\"ridge\" or reg==\"l1\":\n",
    "        logreg = linear_model.LogisticRegression(C=c,penalty='l1', warm_start=True, solver='saga')\n",
    "    \n",
    "    #Fit the model on the training set\\n\",\n",
    "    logreg.fit(X_train, Y_train)\n",
    "    \n",
    "    #Find the prediction on training set\\n\",\n",
    "    Yhat_train = logreg.predict(X_train)\n",
    "    \n",
    "    # Adding training accuracy to acc_train_logreg\\n\",\n",
    "    acc_train = np.mean(Yhat_train == Y_train)\n",
    "    acc_train_logreg.append(acc_train)\n",
    "    print(\"Accuracy on training data = %f\" % acc_train)\n",
    "    \n",
    "    #Find the prediction on test set\\n\",\n",
    "    Yhat_test = logreg.predict(X_test)\n",
    "    \n",
    "    # Adding testing accuracy to acc_test_logreg\\n\",\n",
    "    acc_test = np.mean(Yhat_test == Y_test)\n",
    "    acc_test_logreg.append(acc_test)\n",
    "    print(\"Accuracy on tesr data = %f\" % acc_test)\n",
    "    # Appending value of c for graphing purposes\\n\",\n",
    "    c_logreg.append(c)"
   ]
  },
  {
   "cell_type": "code",
   "execution_count": 39,
   "metadata": {
    "collapsed": false
   },
   "outputs": [
    {
     "name": "stderr",
     "output_type": "stream",
     "text": [
      "C:\\Users\\Rafi\\AppData\\Local\\Continuum\\Anaconda3\\lib\\site-packages\\sklearn\\utils\\validation.py:547: DataConversionWarning: A column-vector y was passed when a 1d array was expected. Please change the shape of y to (n_samples, ), for example using ravel().\n",
      "  y = column_or_1d(y, warn=True)\n"
     ]
    },
    {
     "ename": "ValueError",
     "evalue": "Unknown label type: 'unknown'",
     "output_type": "error",
     "traceback": [
      "\u001b[1;31m---------------------------------------------------------------------------\u001b[0m",
      "\u001b[1;31mValueError\u001b[0m                                Traceback (most recent call last)",
      "\u001b[1;32m<ipython-input-39-60a8dacf8b6c>\u001b[0m in \u001b[0;36m<module>\u001b[1;34m()\u001b[0m\n\u001b[0;32m      1\u001b[0m \u001b[0mc\u001b[0m \u001b[1;33m=\u001b[0m \u001b[1;36m0.01\u001b[0m\u001b[1;33m\u001b[0m\u001b[0m\n\u001b[1;32m----> 2\u001b[1;33m \u001b[0mlogreg_model\u001b[0m\u001b[1;33m(\u001b[0m\u001b[0mc\u001b[0m\u001b[1;33m,\u001b[0m\u001b[0mtrainX\u001b[0m\u001b[1;33m,\u001b[0m\u001b[0mtrainY\u001b[0m\u001b[1;33m,\u001b[0m\u001b[0mtestX\u001b[0m\u001b[1;33m,\u001b[0m\u001b[0mtestY\u001b[0m\u001b[1;33m,\u001b[0m\u001b[1;34m'LASSO'\u001b[0m\u001b[1;33m)\u001b[0m\u001b[1;33m\u001b[0m\u001b[0m\n\u001b[0m",
      "\u001b[1;32m<ipython-input-36-0e061715003a>\u001b[0m in \u001b[0;36mlogreg_model\u001b[1;34m(c, X_train, Y_train, X_test, Y_test, reg)\u001b[0m\n\u001b[0;32m     52\u001b[0m \u001b[1;33m\u001b[0m\u001b[0m\n\u001b[0;32m     53\u001b[0m     \u001b[1;31m#Fit the model on the training set\\n\",\u001b[0m\u001b[1;33m\u001b[0m\u001b[1;33m\u001b[0m\u001b[0m\n\u001b[1;32m---> 54\u001b[1;33m     \u001b[0mlogreg\u001b[0m\u001b[1;33m.\u001b[0m\u001b[0mfit\u001b[0m\u001b[1;33m(\u001b[0m\u001b[0mX_train\u001b[0m\u001b[1;33m,\u001b[0m \u001b[0mY_train\u001b[0m\u001b[1;33m)\u001b[0m\u001b[1;33m\u001b[0m\u001b[0m\n\u001b[0m\u001b[0;32m     55\u001b[0m \u001b[1;33m\u001b[0m\u001b[0m\n\u001b[0;32m     56\u001b[0m     \u001b[1;31m#Find the prediction on training set\\n\",\u001b[0m\u001b[1;33m\u001b[0m\u001b[1;33m\u001b[0m\u001b[0m\n",
      "\u001b[1;32mC:\\Users\\Rafi\\AppData\\Local\\Continuum\\Anaconda3\\lib\\site-packages\\sklearn\\linear_model\\logistic.py\u001b[0m in \u001b[0;36mfit\u001b[1;34m(self, X, y, sample_weight)\u001b[0m\n\u001b[0;32m   1215\u001b[0m         X, y = check_X_y(X, y, accept_sparse='csr', dtype=_dtype,\n\u001b[0;32m   1216\u001b[0m                          order=\"C\")\n\u001b[1;32m-> 1217\u001b[1;33m         \u001b[0mcheck_classification_targets\u001b[0m\u001b[1;33m(\u001b[0m\u001b[0my\u001b[0m\u001b[1;33m)\u001b[0m\u001b[1;33m\u001b[0m\u001b[0m\n\u001b[0m\u001b[0;32m   1218\u001b[0m         \u001b[0mself\u001b[0m\u001b[1;33m.\u001b[0m\u001b[0mclasses_\u001b[0m \u001b[1;33m=\u001b[0m \u001b[0mnp\u001b[0m\u001b[1;33m.\u001b[0m\u001b[0munique\u001b[0m\u001b[1;33m(\u001b[0m\u001b[0my\u001b[0m\u001b[1;33m)\u001b[0m\u001b[1;33m\u001b[0m\u001b[0m\n\u001b[0;32m   1219\u001b[0m         \u001b[0mn_samples\u001b[0m\u001b[1;33m,\u001b[0m \u001b[0mn_features\u001b[0m \u001b[1;33m=\u001b[0m \u001b[0mX\u001b[0m\u001b[1;33m.\u001b[0m\u001b[0mshape\u001b[0m\u001b[1;33m\u001b[0m\u001b[0m\n",
      "\u001b[1;32mC:\\Users\\Rafi\\AppData\\Local\\Continuum\\Anaconda3\\lib\\site-packages\\sklearn\\utils\\multiclass.py\u001b[0m in \u001b[0;36mcheck_classification_targets\u001b[1;34m(y)\u001b[0m\n\u001b[0;32m    170\u001b[0m     if y_type not in ['binary', 'multiclass', 'multiclass-multioutput',\n\u001b[0;32m    171\u001b[0m                       'multilabel-indicator', 'multilabel-sequences']:\n\u001b[1;32m--> 172\u001b[1;33m         \u001b[1;32mraise\u001b[0m \u001b[0mValueError\u001b[0m\u001b[1;33m(\u001b[0m\u001b[1;34m\"Unknown label type: %r\"\u001b[0m \u001b[1;33m%\u001b[0m \u001b[0my_type\u001b[0m\u001b[1;33m)\u001b[0m\u001b[1;33m\u001b[0m\u001b[0m\n\u001b[0m\u001b[0;32m    173\u001b[0m \u001b[1;33m\u001b[0m\u001b[0m\n\u001b[0;32m    174\u001b[0m \u001b[1;33m\u001b[0m\u001b[0m\n",
      "\u001b[1;31mValueError\u001b[0m: Unknown label type: 'unknown'"
     ]
    }
   ],
   "source": [
    "c = 0.01\n",
    "logreg_model(c,trainX,trainY,testX,testY,'LASSO')"
   ]
  },
  {
   "cell_type": "code",
   "execution_count": 40,
   "metadata": {
    "collapsed": false
   },
   "outputs": [
    {
     "name": "stderr",
     "output_type": "stream",
     "text": [
      "C:\\Users\\Rafi\\AppData\\Local\\Continuum\\Anaconda3\\lib\\site-packages\\sklearn\\utils\\validation.py:547: DataConversionWarning: A column-vector y was passed when a 1d array was expected. Please change the shape of y to (n_samples, ), for example using ravel().\n",
      "  y = column_or_1d(y, warn=True)\n"
     ]
    },
    {
     "ename": "ValueError",
     "evalue": "Unknown label type: 'unknown'",
     "output_type": "error",
     "traceback": [
      "\u001b[1;31m---------------------------------------------------------------------------\u001b[0m",
      "\u001b[1;31mValueError\u001b[0m                                Traceback (most recent call last)",
      "\u001b[1;32m<ipython-input-40-2d567f2efdce>\u001b[0m in \u001b[0;36m<module>\u001b[1;34m()\u001b[0m\n\u001b[1;32m----> 1\u001b[1;33m \u001b[0mlogreg_model\u001b[0m\u001b[1;33m(\u001b[0m\u001b[0mc\u001b[0m\u001b[1;33m,\u001b[0m\u001b[0mtrainX\u001b[0m\u001b[1;33m,\u001b[0m\u001b[0mtrainY\u001b[0m\u001b[1;33m,\u001b[0m\u001b[0mtestX\u001b[0m\u001b[1;33m,\u001b[0m\u001b[0mtestY\u001b[0m\u001b[1;33m,\u001b[0m\u001b[1;34m'Ridge'\u001b[0m\u001b[1;33m)\u001b[0m\u001b[1;33m\u001b[0m\u001b[0m\n\u001b[0m",
      "\u001b[1;32m<ipython-input-36-0e061715003a>\u001b[0m in \u001b[0;36mlogreg_model\u001b[1;34m(c, X_train, Y_train, X_test, Y_test, reg)\u001b[0m\n\u001b[0;32m     52\u001b[0m \u001b[1;33m\u001b[0m\u001b[0m\n\u001b[0;32m     53\u001b[0m     \u001b[1;31m#Fit the model on the training set\\n\",\u001b[0m\u001b[1;33m\u001b[0m\u001b[1;33m\u001b[0m\u001b[0m\n\u001b[1;32m---> 54\u001b[1;33m     \u001b[0mlogreg\u001b[0m\u001b[1;33m.\u001b[0m\u001b[0mfit\u001b[0m\u001b[1;33m(\u001b[0m\u001b[0mX_train\u001b[0m\u001b[1;33m,\u001b[0m \u001b[0mY_train\u001b[0m\u001b[1;33m)\u001b[0m\u001b[1;33m\u001b[0m\u001b[0m\n\u001b[0m\u001b[0;32m     55\u001b[0m \u001b[1;33m\u001b[0m\u001b[0m\n\u001b[0;32m     56\u001b[0m     \u001b[1;31m#Find the prediction on training set\\n\",\u001b[0m\u001b[1;33m\u001b[0m\u001b[1;33m\u001b[0m\u001b[0m\n",
      "\u001b[1;32mC:\\Users\\Rafi\\AppData\\Local\\Continuum\\Anaconda3\\lib\\site-packages\\sklearn\\linear_model\\logistic.py\u001b[0m in \u001b[0;36mfit\u001b[1;34m(self, X, y, sample_weight)\u001b[0m\n\u001b[0;32m   1215\u001b[0m         X, y = check_X_y(X, y, accept_sparse='csr', dtype=_dtype,\n\u001b[0;32m   1216\u001b[0m                          order=\"C\")\n\u001b[1;32m-> 1217\u001b[1;33m         \u001b[0mcheck_classification_targets\u001b[0m\u001b[1;33m(\u001b[0m\u001b[0my\u001b[0m\u001b[1;33m)\u001b[0m\u001b[1;33m\u001b[0m\u001b[0m\n\u001b[0m\u001b[0;32m   1218\u001b[0m         \u001b[0mself\u001b[0m\u001b[1;33m.\u001b[0m\u001b[0mclasses_\u001b[0m \u001b[1;33m=\u001b[0m \u001b[0mnp\u001b[0m\u001b[1;33m.\u001b[0m\u001b[0munique\u001b[0m\u001b[1;33m(\u001b[0m\u001b[0my\u001b[0m\u001b[1;33m)\u001b[0m\u001b[1;33m\u001b[0m\u001b[0m\n\u001b[0;32m   1219\u001b[0m         \u001b[0mn_samples\u001b[0m\u001b[1;33m,\u001b[0m \u001b[0mn_features\u001b[0m \u001b[1;33m=\u001b[0m \u001b[0mX\u001b[0m\u001b[1;33m.\u001b[0m\u001b[0mshape\u001b[0m\u001b[1;33m\u001b[0m\u001b[0m\n",
      "\u001b[1;32mC:\\Users\\Rafi\\AppData\\Local\\Continuum\\Anaconda3\\lib\\site-packages\\sklearn\\utils\\multiclass.py\u001b[0m in \u001b[0;36mcheck_classification_targets\u001b[1;34m(y)\u001b[0m\n\u001b[0;32m    170\u001b[0m     if y_type not in ['binary', 'multiclass', 'multiclass-multioutput',\n\u001b[0;32m    171\u001b[0m                       'multilabel-indicator', 'multilabel-sequences']:\n\u001b[1;32m--> 172\u001b[1;33m         \u001b[1;32mraise\u001b[0m \u001b[0mValueError\u001b[0m\u001b[1;33m(\u001b[0m\u001b[1;34m\"Unknown label type: %r\"\u001b[0m \u001b[1;33m%\u001b[0m \u001b[0my_type\u001b[0m\u001b[1;33m)\u001b[0m\u001b[1;33m\u001b[0m\u001b[0m\n\u001b[0m\u001b[0;32m    173\u001b[0m \u001b[1;33m\u001b[0m\u001b[0m\n\u001b[0;32m    174\u001b[0m \u001b[1;33m\u001b[0m\u001b[0m\n",
      "\u001b[1;31mValueError\u001b[0m: Unknown label type: 'unknown'"
     ]
    }
   ],
   "source": [
    "logreg_model(c,trainX,trainY,testX,testY,'Ridge')"
   ]
  },
  {
   "cell_type": "code",
   "execution_count": null,
   "metadata": {
    "collapsed": true
   },
   "outputs": [],
   "source": [
    "#Use different feature pairs\n",
    "c = 0.01\n",
    "logreg_model(c,trainXpoly,trainY,testXpoly,testY,'LASSO')\n"
   ]
  },
  {
   "cell_type": "code",
   "execution_count": null,
   "metadata": {
    "collapsed": true
   },
   "outputs": [],
   "source": [
    "clist = [0.001, 0.01, 0.1]\n",
    "for c in clist:\n",
    "    logreg_model(c,trainX,trainY,testX,testY,'LASSO')"
   ]
  },
  {
   "cell_type": "markdown",
   "metadata": {},
   "source": [
    "Support Vector Machines"
   ]
  },
  {
   "cell_type": "code",
   "execution_count": null,
   "metadata": {
    "collapsed": true
   },
   "outputs": [],
   "source": [
    "# Variations\n",
    "# c value\n",
    "# kernel\n",
    "# polynomial transformation\n",
    "\n",
    "acc_train_svm_linear = []\n",
    "acc_test_svm_linear = []\n",
    "c_svm_linear = []\n",
    "\n",
    "acc_train_svm_rbf = []\n",
    "acc_test_svm_rbf = []\n",
    "c_svm_rbf = []\n",
    "\n",
    "acc_train_svm_poly = []\n",
    "acc_test_svm_poly = []\n",
    "c_svm_poly = []"
   ]
  },
  {
   "cell_type": "code",
   "execution_count": null,
   "metadata": {
    "collapsed": true
   },
   "outputs": [],
   "source": [
    "#use svm_kernel parameter to choose svm model type. 3 kernel options: \"linear\"[default], \"rbf\", \"poly\"\n",
    "\n",
    "def svm_model(c, X_train, Y_train, X_test, Y_test, svm_kernel = \"linear\"):\n",
    "    # TODO - Create an object of svm.SVC(probability = False, kernel = 'linear', C = c) - 5 points\n",
    "    svc = svm.SVC(probability = False, kernel = svm_kernel, C = c)\n",
    "    print(\"kernel:{0:f}\".format(svm_kernel))\n",
    "    print(\"c:{0:f}\".format(c))\n",
    "    \n",
    "    if kernel==\"poly\": # Fill in the values for \n",
    "        X_train=X_train[0:12500]\n",
    "        Y_train=Y_train[0:12500]\n",
    "        X_test=X_test[0:12500]\n",
    "        Y_test=Y_test[0:12500]\n",
    "    \n",
    "    # TODO - Fit the classifier on the training set - 5 points\n",
    "    svc.fit(X_train, Y_train)\n",
    "    \n",
    "    # TODO - Find the prediction and accuracy on the training set - 5 points\n",
    "    Yhat_svc_train = svc.predict(X_train)\n",
    "    acc_train = np.mean(Yhat_svc_train == Y_train)\n",
    "    \n",
    "    # Adding testing accuracy to acc_train_svm\n",
    "    if kernel==\"linear\":\n",
    "        acc_train_svm_linear.append(acc_train)\n",
    "    elif kernel==\"rbf\":\n",
    "        acc_train_svm_rbf.append(acc_train)\n",
    "    elif kernel==\"poly\":\n",
    "        acc_train_svm_poly.append(acc_train)\n",
    "        \n",
    "    print('\\tTrain Accuracy = {0:f}'.format(acc_train))\n",
    "    \n",
    "    # TODO - Find the prediction and accuracy on the test set - 5 points\n",
    "    Yhat_svc_test = svc_linear.predict(X_test)\n",
    "    acc_test = np.mean(Yhat_svc_test == Y_test)\n",
    "    \n",
    "    # Adding testing accuracy to acc_test_svm\n",
    "    if kernel==\"linear\":\n",
    "        acc_test_svm_linear.append(acc_test)\n",
    "    elif kernel==\"rbf\":\n",
    "        acc_test_svm_rbf.append(acc_test)\n",
    "    elif kernel==\"poly\":\n",
    "        acc_test_svm_poly.append(acc_train)\n",
    "        \n",
    "    print('\\tTest Accuracy = {0:f}'.format(acc_test))\n",
    "    \n",
    "    # Appending value of c for graphing purposes\n",
    "    if kernel==\"linear\":\n",
    "        c_svm_linear.append(c)\n",
    "    elif kernel==\"rbf\":\n",
    "        c_svm_rbf.append(c)\n",
    "    elif kernel==\"poly\":\n",
    "        c_svm_poly.append(c)\n"
   ]
  },
  {
   "cell_type": "code",
   "execution_count": null,
   "metadata": {
    "collapsed": true
   },
   "outputs": [],
   "source": [
    "clist = [0.001, 0.01, 0.1]\n",
    "\n",
    "for c in clist:\n",
    "    svm_model(c,trainX,trainY,testX,testY,svm_kernel=\"linear\");\n",
    "    \n",
    "c = 0.01\n",
    "svm_model(c,trainX,trainY,testX,testY,svm_kernel=\"rbf\");\n",
    "\n",
    "svm_model(c,trainXpoly,trainY,testXpoly,testY,svm_kernel=\"poly\")"
   ]
  },
  {
   "cell_type": "markdown",
   "metadata": {},
   "source": [
    "Neural Networks"
   ]
  },
  {
   "cell_type": "code",
   "execution_count": 17,
   "metadata": {
    "collapsed": true
   },
   "outputs": [],
   "source": [
    "# Variations:\n",
    "# hidden layers (use 1,2 and 3)\n",
    "# hidden layer nodes (use 10,20 and 5)\n",
    "# activation function (use sigmoid, ReLU, tanh)\n",
    "\n",
    "def f(z):\n",
    "    return 1 / (1 + np.exp(-z))\n",
    "\n",
    "\n",
    "def f_deriv(z):\n",
    "    return f(z) * (1 - f(z))\n",
    "\n",
    "def f2(z):\n",
    "    if z>0:\n",
    "        return z\n",
    "    else:\n",
    "        return 0\n",
    "    \n",
    "def f2_deriv(z):\n",
    "    if z>0:\n",
    "        return 1\n",
    "    else:\n",
    "        return 0\n",
    "    \n",
    "def f3(z):\n",
    "    return (np.exp(z)-np.exp(-z))/(np.exp(z)+np.exp(-z))\n",
    "\n",
    "def f3_deriv(z):\n",
    "    return 1-(f3(z))^2"
   ]
  },
  {
   "cell_type": "code",
   "execution_count": 47,
   "metadata": {
    "collapsed": true
   },
   "outputs": [],
   "source": [
    "def setup_and_init_weights(nn_structure):\n",
    "    W = {} #creating a dictionary i.e. a set of key: value pairs\n",
    "    b = {}\n",
    "    for l in range(1, len(nn_structure)):\n",
    "        W[l] = r.random_sample((nn_structure[l], nn_structure[l-1])) #Return “continuous uniform” random floats in the half-open interval [0.0, 1.0). \n",
    "        b[l] = r.random_sample((nn_structure[l],))\n",
    "    return W, b\n",
    "\n",
    "def init_tri_values(nn_structure):\n",
    "    tri_W = {}\n",
    "    tri_b = {}\n",
    "    for l in range(1, len(nn_structure)):\n",
    "        tri_W[l] = np.zeros((nn_structure[l], nn_structure[l-1]))\n",
    "        tri_b[l] = np.zeros((nn_structure[l],))\n",
    "    return tri_W, tri_b\n",
    "\n",
    "def feed_forward(x, W, b, act_func=1):\n",
    "    a = {1: x}\n",
    "    z = {}\n",
    "    for l in range(1, len(W) + 1):\n",
    "        node_in = a[l]\n",
    "        print(\"\\n\",W[l],\"\\n\",node_in,\"\\n\",b[l])\n",
    "        z[l+1] = W[l].dot(node_in) + b[l]\n",
    "        if act_func==1:\n",
    "            a[l+1] = f(z[l+1])\n",
    "        elif act_func == 2:\n",
    "            a[l+1] = f2(z[l+1])\n",
    "        elif act_func == 3:\n",
    "            a[l+1] = f3(z[l+1])\n",
    "        \n",
    "    return a, z\n",
    "\n",
    "def calculate_out_layer_delta(y, a_out, z_out, W, lmda, act_func=1):\n",
    "    if act_func==1:\n",
    "        return -(y-a_out) * f_deriv(z_out) + (lmda/2) * W\n",
    "    elif act_func==2:\n",
    "        return -(y-a_out) * f2_deriv(z_out) + (lmda/2) * W\n",
    "    elif act_func==3:\n",
    "        return -(y-a_out) * f3_deriv(z_out) + (lmda/2) * W\n",
    "\n",
    "\n",
    "def calculate_hidden_delta(delta_plus_1, w_l, z_l, act_func=1):\n",
    "    if act_func==1:\n",
    "        return np.dot(np.transpose(w_l), delta_plus_1) * f_deriv(z_l)\n",
    "    elif act_func==2:\n",
    "        return np.dot(np.transpose(w_l), delta_plus_1) * f2_deriv(z_l)\n",
    "    elif act_func==3:\n",
    "        return np.dot(np.transpose(w_l), delta_plus_1) * f3_deriv(z_l)\n",
    "\n",
    "def train_nn(nn_structure, X, y, iter_num=3000, alpha=0.25, act_func=1):\n",
    "    W, b = setup_and_init_weights(nn_structure)\n",
    "    cnt = 0\n",
    "    N = len(y)\n",
    "    avg_cost_func = []\n",
    "    print('Starting gradient descent for {} iterations'.format(iter_num))\n",
    "    while cnt < iter_num:\n",
    "        if cnt%1000 == 0:\n",
    "            print('Iteration {} of {}'.format(cnt, iter_num))\n",
    "        tri_W, tri_b = init_tri_values(nn_structure)\n",
    "        avg_cost = 0\n",
    "        for i in range(N):\n",
    "            delta = {}\n",
    "            a, z = feed_forward(X[i, :], W, b,act_func)\n",
    "            for l in range(len(nn_structure), 0, -1):\n",
    "                if l == len(nn_structure):\n",
    "                    print(W)\n",
    "                    delta[l] = calculate_out_layer_delta(y[i,:], a[l], z[l], W[l], lmbda.act_func)\n",
    "                    avg_cost += np.linalg.norm((y[i,:]-a[l]))\n",
    "                else:\n",
    "                    if l > 1:\n",
    "                        delta[l] = calculate_hidden_delta(delta[l+1], W[l], z[l],act_func)\n",
    "                    tri_W[l] += np.dot(delta[l+1][:,np.newaxis], np.transpose(a[l][:,np.newaxis]))\n",
    "                    tri_b[l] += delta[l+1]\n",
    "        for l in range(len(nn_structure) - 1, 0, -1):\n",
    "            W[l] += -alpha * (1.0/N * tri_W[l])\n",
    "            b[l] += -alpha * (1.0/N * tri_b[l])\n",
    "        avg_cost = 1.0/N * avg_cost\n",
    "        avg_cost_func.append(avg_cost)\n",
    "        cnt += 1\n",
    "    return W, b, avg_cost_func\n",
    "\n",
    "\n",
    "def predict_y(W, b, X, n_layers):\n",
    "    N = X.shape[0]\n",
    "    y = np.zeros((N,))\n",
    "    for i in range(N):\n",
    "        a, z = feed_forward(X[i, :], W, b)\n",
    "        y[i] = np.argmax(a[n_layers])\n",
    "    return y"
   ]
  },
  {
   "cell_type": "code",
   "execution_count": 19,
   "metadata": {
    "collapsed": true
   },
   "outputs": [],
   "source": [
    "nn_structure1 = [24, 10, 1]\n",
    "nn_structure2 = [24, 20, 1]\n",
    "nn_structure3 = [24, 5, 1]\n",
    "\n",
    "nn_structure4 = [24, 10, 10, 1]\n",
    "nn_structure5 = [24, 10, 10, 10, 1]"
   ]
  },
  {
   "cell_type": "code",
   "execution_count": 25,
   "metadata": {
    "collapsed": true
   },
   "outputs": [],
   "source": [
    "trainYvec=trainY.reshape((trainY.shape[0],1))\n",
    "testYvec=testY.reshape((testY.shape[0],1))"
   ]
  },
  {
   "cell_type": "code",
   "execution_count": 48,
   "metadata": {
    "collapsed": false
   },
   "outputs": [
    {
     "name": "stdout",
     "output_type": "stream",
     "text": [
      "Starting gradient descent for 3000 iterations\n",
      "Iteration 0 of 3000\n",
      "\n",
      " [[ 0.06314946  0.58324115  0.71905356  0.88574201  0.33991719  0.45193858\n",
      "   0.63520079  0.00473182  0.24530643  0.49938853  0.28226284  0.04225455\n",
      "   0.63948242  0.49303006  0.41919123  0.14888499  0.41739245  0.96059697\n",
      "   0.5090083   0.85038071  0.97441932  0.20955215  0.90117663  0.63130338]\n",
      " [ 0.91748282  0.59370373  0.03274084  0.57057816  0.5267383   0.2250323\n",
      "   0.16167328  0.44443156  0.0415595   0.45403924  0.04628982  0.38202094\n",
      "   0.98486604  0.90610393  0.81581898  0.61363938  0.8956463   0.19800753\n",
      "   0.80333057  0.97850831  0.46562593  0.53383865  0.31455651  0.80733439]\n",
      " [ 0.85158823  0.1047768   0.29723425  0.69139846  0.86322593  0.01000377\n",
      "   0.88347923  0.40126241  0.39067903  0.19899165  0.74539832  0.15175186\n",
      "   0.15259015  0.7591489   0.86935912  0.20781322  0.28193351  0.87006153\n",
      "   0.65484824  0.19268569  0.43150095  0.65192782  0.08801742  0.75052152]\n",
      " [ 0.46046867  0.44133562  0.61836237  0.37994411  0.89713995  0.07800933\n",
      "   0.23158481  0.24672325  0.97793631  0.90384111  0.99913943  0.49191251\n",
      "   0.98593116  0.0284905   0.25183346  0.664394    0.2652189   0.37026165\n",
      "   0.21131763  0.13243126  0.11881958  0.42083063  0.84877737  0.72039683]\n",
      " [ 0.21943082  0.89683127  0.23331789  0.83122379  0.20691317  0.6944316\n",
      "   0.46732105  0.54662803  0.22693088  0.83673816  0.52705695  0.62966093\n",
      "   0.59615775  0.67545629  0.87246966  0.73179158  0.72328539  0.03986798\n",
      "   0.26644502  0.76030462  0.73973073  0.42494017  0.17848793  0.03434077]\n",
      " [ 0.6687423   0.85481115  0.87459651  0.41698712  0.50013462  0.44994073\n",
      "   0.86623275  0.82313502  0.85547139  0.27191813  0.52543513  0.4465273\n",
      "   0.97901923  0.79481558  0.29757906  0.41328341  0.78819809  0.30965711\n",
      "   0.11892379  0.81142388  0.01305425  0.7439643   0.25125183  0.175273  ]\n",
      " [ 0.6537308   0.47510844  0.70832684  0.26844246  0.31459473  0.70619313\n",
      "   0.53497553  0.84330882  0.92333928  0.19349218  0.05328732  0.70175693\n",
      "   0.60879773  0.48062776  0.65398875  0.45996775  0.77778137  0.89105083\n",
      "   0.3282513   0.071772    0.06201137  0.61619641  0.22628149  0.45430078]\n",
      " [ 0.8218229   0.90221586  0.06183995  0.4830581   0.82870603  0.25169039\n",
      "   0.63297013  0.16863661  0.59246779  0.906459    0.75858155  0.6709997\n",
      "   0.50598998  0.38957703  0.77945002  0.42508961  0.73739977  0.2180606\n",
      "   0.65198532  0.39691053  0.14402216  0.02061099  0.96276906  0.67059403]\n",
      " [ 0.05912006  0.51760769  0.2051394   0.89983513  0.92858269  0.41822824\n",
      "   0.55223415  0.50930463  0.15715434  0.18965218  0.93981738  0.82864093\n",
      "   0.02571879  0.47936379  0.61422879  0.76695909  0.5225487   0.62772394\n",
      "   0.50400938  0.68331938  0.10700921  0.38916029  0.14425776  0.03818427]\n",
      " [ 0.13261588  0.5118063   0.38654823  0.64549636  0.53782861  0.54734513\n",
      "   0.27326926  0.5031278   0.54878359  0.40029769  0.31278415  0.78505324\n",
      "   0.98349086  0.33222917  0.893122    0.27455376  0.24544944  0.10340182\n",
      "   0.06035187  0.90441801  0.39170036  0.86485528  0.0743192   0.8846317 ]] \n",
      " [-0.03640792  1.20689593  0.9608276   1.55982253  1.22773276 -0.29135489\n",
      " -0.21361642  0.28812323  0.8156263  -0.41165348 -0.48851765 -0.3719455\n",
      "  0.85447049 -0.92681098  0.54635013  0.5807939  -0.14302547 -0.07956245\n",
      " -0.48235493 -1.07869007  1.07875435 -1.06998848 -0.2911231   2.4382505 ] \n",
      " [ 0.53421162  0.86896509  0.77119469  0.71175514  0.16747061  0.38305554\n",
      "  0.46203827  0.01337854  0.63096725  0.04761948]\n",
      "\n",
      " [[ 0.94410494  0.88634797  0.45198005  0.09152603  0.3677226   0.90095499\n",
      "   0.74131811  0.44891864  0.32575173  0.31027316]] \n",
      " [ 0.98912573  0.97927585  0.98187359  0.99586405  0.91099326  0.92982543\n",
      "  0.97172891  0.97338565  0.89916176  0.98563538] \n",
      " [ 0.49610369]\n",
      "{1: array([[ 0.06314946,  0.58324115,  0.71905356,  0.88574201,  0.33991719,\n",
      "         0.45193858,  0.63520079,  0.00473182,  0.24530643,  0.49938853,\n",
      "         0.28226284,  0.04225455,  0.63948242,  0.49303006,  0.41919123,\n",
      "         0.14888499,  0.41739245,  0.96059697,  0.5090083 ,  0.85038071,\n",
      "         0.97441932,  0.20955215,  0.90117663,  0.63130338],\n",
      "       [ 0.91748282,  0.59370373,  0.03274084,  0.57057816,  0.5267383 ,\n",
      "         0.2250323 ,  0.16167328,  0.44443156,  0.0415595 ,  0.45403924,\n",
      "         0.04628982,  0.38202094,  0.98486604,  0.90610393,  0.81581898,\n",
      "         0.61363938,  0.8956463 ,  0.19800753,  0.80333057,  0.97850831,\n",
      "         0.46562593,  0.53383865,  0.31455651,  0.80733439],\n",
      "       [ 0.85158823,  0.1047768 ,  0.29723425,  0.69139846,  0.86322593,\n",
      "         0.01000377,  0.88347923,  0.40126241,  0.39067903,  0.19899165,\n",
      "         0.74539832,  0.15175186,  0.15259015,  0.7591489 ,  0.86935912,\n",
      "         0.20781322,  0.28193351,  0.87006153,  0.65484824,  0.19268569,\n",
      "         0.43150095,  0.65192782,  0.08801742,  0.75052152],\n",
      "       [ 0.46046867,  0.44133562,  0.61836237,  0.37994411,  0.89713995,\n",
      "         0.07800933,  0.23158481,  0.24672325,  0.97793631,  0.90384111,\n",
      "         0.99913943,  0.49191251,  0.98593116,  0.0284905 ,  0.25183346,\n",
      "         0.664394  ,  0.2652189 ,  0.37026165,  0.21131763,  0.13243126,\n",
      "         0.11881958,  0.42083063,  0.84877737,  0.72039683],\n",
      "       [ 0.21943082,  0.89683127,  0.23331789,  0.83122379,  0.20691317,\n",
      "         0.6944316 ,  0.46732105,  0.54662803,  0.22693088,  0.83673816,\n",
      "         0.52705695,  0.62966093,  0.59615775,  0.67545629,  0.87246966,\n",
      "         0.73179158,  0.72328539,  0.03986798,  0.26644502,  0.76030462,\n",
      "         0.73973073,  0.42494017,  0.17848793,  0.03434077],\n",
      "       [ 0.6687423 ,  0.85481115,  0.87459651,  0.41698712,  0.50013462,\n",
      "         0.44994073,  0.86623275,  0.82313502,  0.85547139,  0.27191813,\n",
      "         0.52543513,  0.4465273 ,  0.97901923,  0.79481558,  0.29757906,\n",
      "         0.41328341,  0.78819809,  0.30965711,  0.11892379,  0.81142388,\n",
      "         0.01305425,  0.7439643 ,  0.25125183,  0.175273  ],\n",
      "       [ 0.6537308 ,  0.47510844,  0.70832684,  0.26844246,  0.31459473,\n",
      "         0.70619313,  0.53497553,  0.84330882,  0.92333928,  0.19349218,\n",
      "         0.05328732,  0.70175693,  0.60879773,  0.48062776,  0.65398875,\n",
      "         0.45996775,  0.77778137,  0.89105083,  0.3282513 ,  0.071772  ,\n",
      "         0.06201137,  0.61619641,  0.22628149,  0.45430078],\n",
      "       [ 0.8218229 ,  0.90221586,  0.06183995,  0.4830581 ,  0.82870603,\n",
      "         0.25169039,  0.63297013,  0.16863661,  0.59246779,  0.906459  ,\n",
      "         0.75858155,  0.6709997 ,  0.50598998,  0.38957703,  0.77945002,\n",
      "         0.42508961,  0.73739977,  0.2180606 ,  0.65198532,  0.39691053,\n",
      "         0.14402216,  0.02061099,  0.96276906,  0.67059403],\n",
      "       [ 0.05912006,  0.51760769,  0.2051394 ,  0.89983513,  0.92858269,\n",
      "         0.41822824,  0.55223415,  0.50930463,  0.15715434,  0.18965218,\n",
      "         0.93981738,  0.82864093,  0.02571879,  0.47936379,  0.61422879,\n",
      "         0.76695909,  0.5225487 ,  0.62772394,  0.50400938,  0.68331938,\n",
      "         0.10700921,  0.38916029,  0.14425776,  0.03818427],\n",
      "       [ 0.13261588,  0.5118063 ,  0.38654823,  0.64549636,  0.53782861,\n",
      "         0.54734513,  0.27326926,  0.5031278 ,  0.54878359,  0.40029769,\n",
      "         0.31278415,  0.78505324,  0.98349086,  0.33222917,  0.893122  ,\n",
      "         0.27455376,  0.24544944,  0.10340182,  0.06035187,  0.90441801,\n",
      "         0.39170036,  0.86485528,  0.0743192 ,  0.8846317 ]]), 2: array([[ 0.94410494,  0.88634797,  0.45198005,  0.09152603,  0.3677226 ,\n",
      "         0.90095499,  0.74131811,  0.44891864,  0.32575173,  0.31027316]])}\n"
     ]
    },
    {
     "ename": "KeyError",
     "evalue": "3",
     "output_type": "error",
     "traceback": [
      "\u001b[1;31m---------------------------------------------------------------------------\u001b[0m",
      "\u001b[1;31mKeyError\u001b[0m                                  Traceback (most recent call last)",
      "\u001b[1;32m<ipython-input-48-cf28df259b34>\u001b[0m in \u001b[0;36m<module>\u001b[1;34m()\u001b[0m\n\u001b[1;32m----> 1\u001b[1;33m \u001b[0mW_1\u001b[0m\u001b[1;33m,\u001b[0m \u001b[0mb_1\u001b[0m\u001b[1;33m,\u001b[0m \u001b[0mavg_cost_func_1\u001b[0m \u001b[1;33m=\u001b[0m \u001b[0mtrain_nn\u001b[0m\u001b[1;33m(\u001b[0m\u001b[0mnn_structure1\u001b[0m\u001b[1;33m,\u001b[0m \u001b[0mtrainX\u001b[0m\u001b[1;33m,\u001b[0m \u001b[0mtrainYvec\u001b[0m\u001b[1;33m,\u001b[0m \u001b[1;36m3000\u001b[0m\u001b[1;33m,\u001b[0m\u001b[0mact_func\u001b[0m\u001b[1;33m=\u001b[0m\u001b[1;36m1\u001b[0m\u001b[1;33m)\u001b[0m\u001b[1;33m\u001b[0m\u001b[0m\n\u001b[0m",
      "\u001b[1;32m<ipython-input-47-241f6fa08fdd>\u001b[0m in \u001b[0;36mtrain_nn\u001b[1;34m(nn_structure, X, y, iter_num, alpha, act_func)\u001b[0m\n\u001b[0;32m     65\u001b[0m                 \u001b[1;32mif\u001b[0m \u001b[0ml\u001b[0m \u001b[1;33m==\u001b[0m \u001b[0mlen\u001b[0m\u001b[1;33m(\u001b[0m\u001b[0mnn_structure\u001b[0m\u001b[1;33m)\u001b[0m\u001b[1;33m:\u001b[0m\u001b[1;33m\u001b[0m\u001b[0m\n\u001b[0;32m     66\u001b[0m                     \u001b[0mprint\u001b[0m\u001b[1;33m(\u001b[0m\u001b[0mW\u001b[0m\u001b[1;33m)\u001b[0m\u001b[1;33m\u001b[0m\u001b[0m\n\u001b[1;32m---> 67\u001b[1;33m                     \u001b[0mdelta\u001b[0m\u001b[1;33m[\u001b[0m\u001b[0ml\u001b[0m\u001b[1;33m]\u001b[0m \u001b[1;33m=\u001b[0m \u001b[0mcalculate_out_layer_delta\u001b[0m\u001b[1;33m(\u001b[0m\u001b[0my\u001b[0m\u001b[1;33m[\u001b[0m\u001b[0mi\u001b[0m\u001b[1;33m,\u001b[0m\u001b[1;33m:\u001b[0m\u001b[1;33m]\u001b[0m\u001b[1;33m,\u001b[0m \u001b[0ma\u001b[0m\u001b[1;33m[\u001b[0m\u001b[0ml\u001b[0m\u001b[1;33m]\u001b[0m\u001b[1;33m,\u001b[0m \u001b[0mz\u001b[0m\u001b[1;33m[\u001b[0m\u001b[0ml\u001b[0m\u001b[1;33m]\u001b[0m\u001b[1;33m,\u001b[0m \u001b[0mW\u001b[0m\u001b[1;33m[\u001b[0m\u001b[0ml\u001b[0m\u001b[1;33m]\u001b[0m\u001b[1;33m,\u001b[0m \u001b[0mlmbda\u001b[0m\u001b[1;33m.\u001b[0m\u001b[0mact_func\u001b[0m\u001b[1;33m)\u001b[0m\u001b[1;33m\u001b[0m\u001b[0m\n\u001b[0m\u001b[0;32m     68\u001b[0m                     \u001b[0mavg_cost\u001b[0m \u001b[1;33m+=\u001b[0m \u001b[0mnp\u001b[0m\u001b[1;33m.\u001b[0m\u001b[0mlinalg\u001b[0m\u001b[1;33m.\u001b[0m\u001b[0mnorm\u001b[0m\u001b[1;33m(\u001b[0m\u001b[1;33m(\u001b[0m\u001b[0my\u001b[0m\u001b[1;33m[\u001b[0m\u001b[0mi\u001b[0m\u001b[1;33m,\u001b[0m\u001b[1;33m:\u001b[0m\u001b[1;33m]\u001b[0m\u001b[1;33m-\u001b[0m\u001b[0ma\u001b[0m\u001b[1;33m[\u001b[0m\u001b[0ml\u001b[0m\u001b[1;33m]\u001b[0m\u001b[1;33m)\u001b[0m\u001b[1;33m)\u001b[0m\u001b[1;33m\u001b[0m\u001b[0m\n\u001b[0;32m     69\u001b[0m                 \u001b[1;32melse\u001b[0m\u001b[1;33m:\u001b[0m\u001b[1;33m\u001b[0m\u001b[0m\n",
      "\u001b[1;31mKeyError\u001b[0m: 3"
     ]
    }
   ],
   "source": [
    "W_1, b_1, avg_cost_func_1 = train_nn(nn_structure1, trainX, trainYvec, 3000,act_func=1)"
   ]
  },
  {
   "cell_type": "code",
   "execution_count": null,
   "metadata": {
    "collapsed": true
   },
   "outputs": [],
   "source": [
    "W_2, b_2, avg_cost_func_2 = train_nn(nn_structure1, trainX, trainYvec, 3000,act_func=2)"
   ]
  },
  {
   "cell_type": "code",
   "execution_count": null,
   "metadata": {
    "collapsed": true
   },
   "outputs": [],
   "source": [
    "W_3, b_3, avg_cost_func_3 = train_nn(nn_structure1, trainX, trainYvec, 3000,act_func=3)"
   ]
  },
  {
   "cell_type": "code",
   "execution_count": null,
   "metadata": {
    "collapsed": true
   },
   "outputs": [],
   "source": [
    "W_4, b_4, avg_cost_func_4 = train_nn(nn_structure2, trainX, trainYvece, 3000,act_func=1)"
   ]
  },
  {
   "cell_type": "code",
   "execution_count": null,
   "metadata": {
    "collapsed": true
   },
   "outputs": [],
   "source": [
    "W_5, b_5, avg_cost_func_5 = train_nn(nn_structure3, trainX, trainYvec, 3000,act_func=1)"
   ]
  },
  {
   "cell_type": "code",
   "execution_count": null,
   "metadata": {
    "collapsed": true
   },
   "outputs": [],
   "source": [
    "W_6, b_6, avg_cost_func_6 = train_nn(nn_structure4, trainX, trainYvec, 3000,act_func=1)"
   ]
  },
  {
   "cell_type": "code",
   "execution_count": null,
   "metadata": {
    "collapsed": true
   },
   "outputs": [],
   "source": [
    "W_7, b_7, avg_cost_func_7 = train_nn(nn_structure5, trainX, trainYvec, 3000,act_func=1)"
   ]
  },
  {
   "cell_type": "code",
   "execution_count": null,
   "metadata": {
    "collapsed": true
   },
   "outputs": [],
   "source": [
    "plt.plot(avg_cost_func_1)\n",
    "plt.ylabel('Average J')\n",
    "plt.xlabel('Iteration number')\n",
    "plt.show()\n",
    "\n",
    "predY = predict_y(W_1, b_1, testX, 3)\n",
    "print('Prediction accuracy is {}%'.format(accuracy_score(testYvec, predY) * 100))"
   ]
  },
  {
   "cell_type": "code",
   "execution_count": null,
   "metadata": {
    "collapsed": true
   },
   "outputs": [],
   "source": [
    "plt.plot(avg_cost_func_2)\n",
    "plt.ylabel('Average J')\n",
    "plt.xlabel('Iteration number')\n",
    "plt.show()\n",
    "\n",
    "predY = predict_y(W_2, b_2, testX, 3)\n",
    "print('Prediction accuracy is {}%'.format(accuracy_score(testYvec, predY) * 100))"
   ]
  },
  {
   "cell_type": "code",
   "execution_count": null,
   "metadata": {
    "collapsed": true
   },
   "outputs": [],
   "source": [
    "plt.plot(avg_cost_func_3)\n",
    "plt.ylabel('Average J')\n",
    "plt.xlabel('Iteration number')\n",
    "plt.show()\n",
    "\n",
    "predY = predict_y(W_3, b_3, testX, 3)\n",
    "print('Prediction accuracy is {}%'.format(accuracy_score(testYvec, predY) * 100))"
   ]
  },
  {
   "cell_type": "code",
   "execution_count": null,
   "metadata": {
    "collapsed": true
   },
   "outputs": [],
   "source": [
    "plt.plot(avg_cost_func_4)\n",
    "plt.ylabel('Average J')\n",
    "plt.xlabel('Iteration number')\n",
    "plt.show()\n",
    "\n",
    "predY = predict_y(W_4, b_4, testX, 3)\n",
    "print('Prediction accuracy is {}%'.format(accuracy_score(testYvec, predY) * 100))"
   ]
  },
  {
   "cell_type": "code",
   "execution_count": null,
   "metadata": {
    "collapsed": true
   },
   "outputs": [],
   "source": [
    "plt.plot(avg_cost_func_5)\n",
    "plt.ylabel('Average J')\n",
    "plt.xlabel('Iteration number')\n",
    "plt.show()\n",
    "\n",
    "predY = predict_y(W_5, b_5, testX, 3)\n",
    "print('Prediction accuracy is {}%'.format(accuracy_score(testYvec, predY) * 100))"
   ]
  },
  {
   "cell_type": "code",
   "execution_count": null,
   "metadata": {
    "collapsed": true
   },
   "outputs": [],
   "source": [
    "plt.plot(avg_cost_func_6)\n",
    "plt.ylabel('Average J')\n",
    "plt.xlabel('Iteration number')\n",
    "plt.show()\n",
    "\n",
    "predY = predict_y(W_6, b_6, testX, 3)\n",
    "print('Prediction accuracy is {}%'.format(accuracy_score(testYvec, predY) * 100))"
   ]
  },
  {
   "cell_type": "code",
   "execution_count": null,
   "metadata": {
    "collapsed": true
   },
   "outputs": [],
   "source": [
    "plt.plot(avg_cost_func_7)\n",
    "plt.ylabel('Average J')\n",
    "plt.xlabel('Iteration number')\n",
    "plt.show()\n",
    "\n",
    "predY = predict_y(W_7, b_7, testX, 3)\n",
    "print('Prediction accuracy is {}%'.format(accuracy_score(testYvec, predY) * 100))"
   ]
  }
 ],
 "metadata": {
  "anaconda-cloud": {},
  "kernelspec": {
   "display_name": "Python [Root]",
   "language": "python",
   "name": "Python [Root]"
  },
  "language_info": {
   "codemirror_mode": {
    "name": "ipython",
    "version": 3
   },
   "file_extension": ".py",
   "mimetype": "text/x-python",
   "name": "python",
   "nbconvert_exporter": "python",
   "pygments_lexer": "ipython3",
   "version": "3.5.2"
  }
 },
 "nbformat": 4,
 "nbformat_minor": 0
}
