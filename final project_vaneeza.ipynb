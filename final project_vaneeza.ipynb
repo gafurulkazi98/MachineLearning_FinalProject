{
 "cells": [
  {
   "cell_type": "markdown",
   "metadata": {},
   "source": [
    "Setup"
   ]
  },
  {
   "cell_type": "code",
   "execution_count": 50,
   "metadata": {
    "collapsed": false
   },
   "outputs": [],
   "source": [
    "from sklearn.linear_model import LogisticRegression\n",
    "from sklearn import svm\n",
    "from sklearn import preprocessing\n",
    "from sklearn.model_selection import train_test_split\n",
    "from sklearn.metrics import accuracy_score\n",
    "from sklearn.metrics import classification_report\n",
    "from sklearn.metrics import precision_recall_fscore_support\n",
    "from sklearn import linear_model\n",
    "#from plotly import tools\n",
    "import numpy.random as r\n",
    "#import plotly.plotly as py\n",
    "#import plotly.graph_obj as go\n",
    "#from keras import backend as K\n",
    "#from keras.layers import Sequential\n",
    "#from keras.layers import Dense\n",
    "import numpy as np\n",
    "import pandas as pd\n",
    "import math\n",
    "\n",
    "import matplotlib.pyplot as plt\n",
    "import numpy.polynomial.polynomial as poly\n",
    "%matplotlib inline"
   ]
  },
  {
   "cell_type": "code",
   "execution_count": 51,
   "metadata": {
    "collapsed": false
   },
   "outputs": [],
   "source": [
    "df = pd.read_csv(\"qudditch_training.csv\")\n",
    "df.drop([\"id\",\"player_id\",\"weight\",\"foul_type_id\",\"game_move_id\",\"penalty_id\",\"player_code\",\"move_speciality\",\"snitchnip\",\n",
    "         \"checking\",\"dopplebeater_defence\",\"hawkshead_attacking_formation\",\"no_hands_tackle\",\"power_play\",\"spiral_dive\",\n",
    "         \"starfish_and_stick\",\"twirl\",\"wronski_feint\",\"zig-zag\",\"bludger_backbeat\",\"chelmondiston_charge\",\n",
    "         \"dionysus_dive\",\"double_eight_loop\",\"finbourgh_flick\",\"parkins_pincer\",\"plumpton_pass\",\"porskoff_ploy\",\n",
    "         \"transylvanian_tackle\",\"woollongong_shimmy\"],axis=1,inplace=True)\n",
    "df = (df[~pd.isnull(df).any(axis=1)])"
   ]
  },
  {
   "cell_type": "code",
   "execution_count": null,
   "metadata": {
    "collapsed": true
   },
   "outputs": [],
   "source": []
  },
  {
   "cell_type": "code",
   "execution_count": 52,
   "metadata": {
    "collapsed": true
   },
   "outputs": [],
   "source": [
    "Xlabels=['age', 'game_duration', 'num_game_moves',\n",
    "       'num_game_losses', 'num_practice_sessions', 'num_games_satout',\n",
    "       'num_games_injured', 'num_games_notpartof',\n",
    "       'num_games_won', 'stooging', 'body_blow', 'sloth_grip_roll',\n",
    "       'reverse_pass', 'change', 'snitch_caught',\n",
    "       'gryffindor','hufflepuff','ravenclaw','slytherin','female','male',\n",
    "       'beater','chaser','seeker']"
   ]
  },
  {
   "cell_type": "code",
   "execution_count": 53,
   "metadata": {
    "collapsed": false,
    "scrolled": true
   },
   "outputs": [
    {
     "name": "stdout",
     "output_type": "stream",
     "text": [
      "Index(['house', 'gender', 'age', 'game_duration', 'num_game_moves',\n",
      "       'num_game_losses', 'num_practice_sessions', 'num_games_satout',\n",
      "       'num_games_injured', 'num_games_notpartof', 'player_type',\n",
      "       'num_games_won', 'stooging', 'body_blow', 'sloth_grip_roll',\n",
      "       'reverse_pass', 'change', 'snitch_caught', 'quidditch_league_player'],\n",
      "      dtype='object')\n",
      "['Gryffindor' 'Female' 11.0 1.0 41.0 0.0 1.0 0.0 0.0 0.0 'Beater' 1.0\n",
      " 'None' 'No' 'No' 'No' 'No' 'No' 0.0]\n",
      "quidditch_league_player\n",
      "['Gryffindor' 'Female' 11.0 1.0 41.0 0.0 1.0 0.0 0.0 0.0 'Beater' 1.0 0.0\n",
      " 0.0 0.0 0.0 0.0 0.0 0.0]\n",
      "[[ 11.    1.   41.    0.    1.    0.    0.    0.    1.    0.    0.    0.\n",
      "    0.    0.    0.    1.    0.    0.    0.    1.    0.    1.    0.    0. ]\n",
      " [ 12.    3.   59.    0.   18.    0.    0.    0.    9.    0.    0.    0.\n",
      "    3.    1.    1.    1.    0.    0.    0.    1.    0.    1.    0.    0. ]\n",
      " [ 13.    2.   11.    5.   13.    2.    0.    1.    6.    0.    0.    2.\n",
      "    0.    0.    1.    0.    0.    0.    1.    1.    0.    0.    0.    0. ]\n",
      " [ 14.    2.   44.    1.   16.    0.    0.    0.    7.    0.    0.    0.\n",
      "    3.    1.    1.    1.    0.    0.    0.    0.    1.    0.    1.    0. ]\n",
      " [ 14.5   1.   51.    0.    8.    0.    0.    0.    5.    0.    0.    2.\n",
      "    2.    1.    1.    1.    0.    0.    0.    0.    1.    0.    1.    0. ]\n",
      " [ 15.    3.   31.    6.   16.    0.    0.    0.    9.    0.    0.    0.\n",
      "    2.    0.    1.    1.    0.    0.    0.    0.    1.    1.    0.    0. ]\n",
      " [ 15.5   4.   70.    1.   21.    0.    0.    0.    7.    0.    2.    0.\n",
      "    2.    1.    1.    1.    0.    0.    0.    0.    1.    1.    0.    0. ]\n",
      " [ 16.    5.   73.    0.   12.    0.    0.    0.    8.    0.    0.    0.\n",
      "    0.    0.    1.    1.    0.    0.    0.    0.    1.    1.    0.    0. ]\n",
      " [ 16.5  13.   68.    2.   28.    0.    0.    0.    8.    0.    0.    2.\n",
      "    2.    1.    1.    1.    0.    0.    0.    1.    0.    1.    0.    0. ]\n",
      " [ 17.   12.   33.    3.   18.    0.    0.    0.    8.    0.    0.    0.\n",
      "    2.    1.    1.    1.    0.    0.    0.    1.    0.    1.    0.    0. ]\n",
      " [ 14.5   9.   47.    2.   17.    0.    0.    0.    9.    0.    0.    0.\n",
      "    2.    0.    1.    0.    0.    0.    1.    1.    0.    1.    0.    0. ]\n",
      " [ 15.5   7.   62.    0.   11.    0.    0.    0.    7.    0.    0.    0.\n",
      "    2.    1.    1.    0.    0.    0.    1.    0.    1.    0.    1.    0. ]\n",
      " [ 14.5   7.   60.    0.   15.    0.    1.    0.    8.    0.    2.    0.\n",
      "    1.    1.    1.    1.    0.    0.    0.    1.    0.    1.    0.    0. ]\n",
      " [ 16.5  10.   55.    1.   31.    0.    0.    0.    8.    0.    0.    0.\n",
      "    2.    0.    1.    1.    0.    0.    0.    0.    1.    1.    0.    0. ]\n",
      " [ 15.5   1.   49.    5.    2.    0.    0.    0.    8.    0.    0.    0.\n",
      "    2.    0.    1.    0.    0.    0.    1.    1.    0.    0.    0.    0. ]\n",
      " [ 15.5  12.   75.    5.   13.    0.    0.    0.    9.    0.    0.    0.\n",
      "    3.    1.    1.    0.    0.    0.    1.    0.    1.    0.    0.    1. ]\n",
      " [ 15.    4.   45.    4.   17.    0.    0.    0.    8.    0.    0.    2.\n",
      "    2.    1.    1.    0.    0.    0.    1.    0.    1.    1.    0.    0. ]\n",
      " [ 15.    3.   29.    0.   11.    0.    0.    0.    3.    0.    0.    0.\n",
      "    0.    0.    1.    1.    0.    0.    0.    1.    0.    0.    0.    0. ]\n",
      " [ 16.    5.   35.    5.   23.    0.    0.    0.    9.    0.    0.    0.\n",
      "    2.    0.    1.    0.    0.    0.    1.    0.    1.    1.    0.    0. ]\n",
      " [ 16.    6.   42.    2.   23.    0.    0.    0.    8.    0.    0.    0.\n",
      "    2.    1.    1.    0.    0.    0.    0.    0.    1.    0.    0.    0. ]]\n",
      "[ 0.  1.  0.  0.  0.  1.  0.  1.  0.  0.  1.  1.  1.  0.  1.  0.  1.  0.\n",
      "  1.  0.]\n"
     ]
    }
   ],
   "source": [
    "print(df.columns)\n",
    "data = df.values\n",
    "X1 = data[0:101267] # This leaves 101265 entries.\n",
    "\n",
    "Y = data[:,-1]\n",
    "\n",
    "#Y1 = Y1=='YES'\n",
    "for i in range(len(Y)):\n",
    "    if Y[i]==\"NO\":\n",
    "        Y[i]=0.0\n",
    "    elif Y[i]==\"YES\":\n",
    "        Y[i]=1.0\n",
    "        \n",
    "Y=Y.astype('float')\n",
    "\n",
    "#Y = Y.reshape((Y.shape[0],1))\n",
    "\n",
    "gryffindor = np.zeros((X1.shape[0],1),dtype='float')\n",
    "hufflepuff = np.zeros((X1.shape[0],1),dtype='float')\n",
    "ravenclaw = np.zeros((X1.shape[0],1),dtype='float')\n",
    "slytherin = np.zeros((X1.shape[0],1),dtype='float')\n",
    "\n",
    "female = np.zeros((X1.shape[0],1))\n",
    "male = np.zeros((X1.shape[0],1))\n",
    "\n",
    "beater = np.zeros((X1.shape[0],1))\n",
    "chaser = np.zeros((X1.shape[0],1))\n",
    "seeker = np.zeros((X1.shape[0],1))\n",
    "\n",
    "print(X1[0])\n",
    "\n",
    "for row in range(len(X1)):\n",
    "    if X1[row][0]==\"Gryffindor\":\n",
    "        gryffindor[row]=1.0\n",
    "    elif X1[row][0]==\"Hufflepuff\":\n",
    "        hufflepuff[row]=1.0\n",
    "    elif X1[row][0]==\"Ravenclaw\":\n",
    "        ravenclaw[row]=1.0\n",
    "    elif X1[row][0]==\"Slytherin\":\n",
    "        slytherin[row]=1.0\n",
    "        \n",
    "    if X1[row][1]==\"Female\":\n",
    "        female[row]=1.0\n",
    "    elif X1[row][1]==\"Male\":\n",
    "        male[row]=1.0\n",
    "        \n",
    "#    if X1[row][7]==\"?\":\n",
    "#        X1[row][7]=0;\n",
    "#    else:\n",
    "#        X1[row][7]=float(X1[row][7])\n",
    "\n",
    "    if X1[row][10]==\"Beater\":\n",
    "        beater[row]=1.0\n",
    "    elif X1[row][10]==\"Chaser\":\n",
    "        chaser[row]=1.0\n",
    "    elif X1[row][10]==\"Seeker\":\n",
    "        seeker[row]=1.0\n",
    "        \n",
    "    if X1[row][12]==\"Norm\":\n",
    "        X1[row][12]=1.0\n",
    "    elif X1[row][12]==\">7\":\n",
    "        X1[row][12]=2.0\n",
    "    elif X1[row][12]==\">8\":\n",
    "        X1[row][12]=3.0\n",
    "    elif X1[row][12]==\"None\":\n",
    "        X1[row][12]=0.0\n",
    "    \n",
    "    if X1[row][13]==\"No\":\n",
    "        X1[row][13]=0.0\n",
    "    elif X1[row][13]==\"Down\":\n",
    "        X1[row][13]=1.0\n",
    "    elif X1[row][13]==\"Steady\":\n",
    "        X1[row][13]=2.0\n",
    "    elif X1[row][13]==\"Up\":\n",
    "        X1[row][13]=3.0\n",
    "        \n",
    "    if X1[row][14]==\"No\":\n",
    "        X1[row][14]=0.0\n",
    "    elif X1[row][14]==\"Down\":\n",
    "        X1[row][14]=1.0\n",
    "    elif X1[row][14]==\"Steady\":\n",
    "        X1[row][14]=2.0\n",
    "    elif X1[row][14]==\"Up\":\n",
    "        X1[row][14]=3.0\n",
    "        \n",
    "    if X1[row][15]==\"No\":\n",
    "        X1[row][15]=0.0\n",
    "    elif X1[row][15]==\"Down\":\n",
    "        X1[row][15]=1.0\n",
    "    elif X1[row][15]==\"Steady\":\n",
    "        X1[row][15]=2.0\n",
    "    elif X1[row][15]==\"Up\":\n",
    "        X1[row][15]=3.0\n",
    "        \n",
    "    if X1[row][-2]==\"No\":\n",
    "        X1[row][-2]=0.0\n",
    "    elif X1[row][-2]==\"Yes\":\n",
    "        X1[row][-2]=1.0\n",
    "\n",
    "    if X1[row][-3]==\"No\":\n",
    "        X1[row][-3]=0.0\n",
    "    elif X1[row][-3]==\"Ch\":\n",
    "        X1[row][-3]=1.0\n",
    "        \n",
    "print(df.columns[18])\n",
    "#X1[:,-2] = X1[:,-2]==\"Yes\"\n",
    "#X1[:,-3] = X1[:,-3]==\"Ch\"\n",
    "\n",
    "print(X1[0])\n",
    "\n",
    "X1 = np.hstack((X1,gryffindor,hufflepuff,ravenclaw,slytherin,female,male,beater,chaser,seeker))\n",
    "#X1: [\n",
    "#0'house', \n",
    "#1'gender', \n",
    "#2'age', \n",
    "#3'game_duration', \n",
    "#4'num_game_moves',\n",
    "#5'num_game_losses',\n",
    "#6'num_practice_sessions',\n",
    "#7'num_games_satout',\n",
    "#8'num_games_injured',\n",
    "#9'num_games_notpartof',\n",
    "#10'player_type',\n",
    "#11'num_games_won',\n",
    "#12'stooging',\n",
    "#13'body_blow',\n",
    "#14'sloth_grip_roll',\n",
    "#15'reverse_pass',\n",
    "#16'change',\n",
    "#17'snitch_caught',\n",
    "#    'quidditch_league_player'?\n",
    "#18'gryffindor',\n",
    "#19'hufflepuff',\n",
    "#20'ravenclaw',\n",
    "#21'slytherin',\n",
    "#22'female',\n",
    "#23'male',\n",
    "#24'beater',\n",
    "#25'chaser',\n",
    "#26'seeker']\n",
    "X = np.delete(X1,[0,1,10,18],1)\n",
    "\n",
    "Xlables=['age', 'game_duration', 'num_game_moves',\n",
    "       'num_game_losses', 'num_practice_sessions', 'num_games_satout',\n",
    "       'num_games_injured', 'num_games_notpartof',\n",
    "       'num_games_won', 'stooging', 'body_blow', 'sloth_grip_roll',\n",
    "       'reverse_pass', 'change', 'snitch_caught',\n",
    "       'gryffindor','hufflepuff','ravenclaw','slytherin','female','male',\n",
    "       'beater','chaser','seeker']\n",
    "\n",
    "row_num = 1\n",
    "column_num = 1\n",
    "for row in X:\n",
    "    for column in row:\n",
    "        if type(column) != float:\n",
    "            print(\"DING!\")\n",
    "            #print(\"row=\" + str(row_num) + \",\" + \" column=\" + str(column_num) + \" data= \")\n",
    "            #print(str(column) + \" not float but \")\n",
    "            #column = float(column)\n",
    "            #print(\"now the val is of type: \" + str(type(column)) + \"\\n\")\n",
    "        column_num += 1\n",
    "    row_num += 1\n",
    "\n",
    "X=X.astype('float')\n",
    "    \n",
    "print((X[0:20]))\n",
    "print(Y[0:20])\n",
    "\n",
    "\n",
    "#print(X[0:20,-6:-2])\n",
    "\n",
    "#print(X[0:20,-2:])"
   ]
  },
  {
   "cell_type": "code",
   "execution_count": 54,
   "metadata": {
    "collapsed": false
   },
   "outputs": [],
   "source": [
    "X_scale = preprocessing.scale(X)"
   ]
  },
  {
   "cell_type": "code",
   "execution_count": 55,
   "metadata": {
    "collapsed": true
   },
   "outputs": [],
   "source": [
    "Xp=preprocessing.PolynomialFeatures(degree=2)"
   ]
  },
  {
   "cell_type": "code",
   "execution_count": 56,
   "metadata": {
    "collapsed": false
   },
   "outputs": [],
   "source": [
    "djissjinc=preprocessing.scale(Y)"
   ]
  },
  {
   "cell_type": "code",
   "execution_count": 57,
   "metadata": {
    "collapsed": false
   },
   "outputs": [
    {
     "name": "stdout",
     "output_type": "stream",
     "text": [
      "[-0.92449372  1.08167311 -0.92449372 ..., -0.92449372 -0.92449372\n",
      " -0.92449372]\n"
     ]
    }
   ],
   "source": [
    "print(djissjinc)"
   ]
  },
  {
   "cell_type": "code",
   "execution_count": 58,
   "metadata": {
    "collapsed": true
   },
   "outputs": [],
   "source": [
    "trainX,testX,trainY,testY=train_test_split(X_scale,Y,test_size=0.3)"
   ]
  },
  {
   "cell_type": "code",
   "execution_count": 59,
   "metadata": {
    "collapsed": false
   },
   "outputs": [
    {
     "name": "stdout",
     "output_type": "stream",
     "text": [
      "24\n",
      "325\n"
     ]
    }
   ],
   "source": [
    "\n",
    "trainXpoly=Xp.fit_transform(trainX)\n",
    "testXpoly=Xp.fit_transform(testX)\n",
    "print(len(trainX[0]))\n",
    "print(len(trainXpoly[0]))"
   ]
  },
  {
   "cell_type": "code",
   "execution_count": 60,
   "metadata": {
    "collapsed": false,
    "scrolled": true
   },
   "outputs": [
    {
     "data": {
      "image/png": "[encoded data removed]",
      "text/plain": [
       "<matplotlib.figure.Figure at 0xd6c3668>"
      ]
     },
     "metadata": {},
     "output_type": "display_data"
    },
    {
     "data": {
      "image/png": "[encoded data removed]",
      "text/plain": [
       "<matplotlib.figure.Figure at 0xcddf9b0>"
      ]
     },
     "metadata": {},
     "output_type": "display_data"
    },
    {
     "data": {
      "image/png": "[encoded data removed]",
      "text/plain": [
       "<matplotlib.figure.Figure at 0x14a54fd0>"
      ]
     },
     "metadata": {},
     "output_type": "display_data"
    },
    {
     "data": {
      "image/png": "[encoded data removed]",
      "text/plain": [
       "<matplotlib.figure.Figure at 0x14a88d68>"
      ]
     },
     "metadata": {},
     "output_type": "display_data"
    },
    {
     "data": {
      "image/png": "[encoded data removed]",
      "text/plain": [
       "<matplotlib.figure.Figure at 0x152ecfd0>"
      ]
     },
     "metadata": {},
     "output_type": "display_data"
    },
    {
     "data": {
      "image/png": "[encoded data removed]",
      "text/plain": [
       "<matplotlib.figure.Figure at 0x15800d68>"
      ]
     },
     "metadata": {},
     "output_type": "display_data"
    },
    {
     "data": {
      "image/png": "[encoded data removed]",
      "text/plain": [
       "<matplotlib.figure.Figure at 0x171322b0>"
      ]
     },
     "metadata": {},
     "output_type": "display_data"
    },
    {
     "data": {
      "image/png": "[encoded data removed]",
      "text/plain": [
       "<matplotlib.figure.Figure at 0x15803eb8>"
      ]
     },
     "metadata": {},
     "output_type": "display_data"
    },
    {
     "data": {
      "image/png": "[encoded data removed]",
      "text/plain": [
       "<matplotlib.figure.Figure at 0x16f80a58>"
      ]
     },
     "metadata": {},
     "output_type": "display_data"
    },
    {
     "data": {
      "image/png": "[encoded data removed]",
      "text/plain": [
       "<matplotlib.figure.Figure at 0x17f38f60>"
      ]
     },
     "metadata": {},
     "output_type": "display_data"
    },
    {
     "data": {
      "image/png": "[encoded data removed]",
      "text/plain": [
       "<matplotlib.figure.Figure at 0x17f32b00>"
      ]
     },
     "metadata": {},
     "output_type": "display_data"
    },
    {
     "data": {
      "image/png": "[encoded data removed]",
      "text/plain": [
       "<matplotlib.figure.Figure at 0x14a6f6a0>"
      ]
     },
     "metadata": {},
     "output_type": "display_data"
    },
    {
     "data": {
      "image/png": "[encoded data removed]",
      "text/plain": [
       "<matplotlib.figure.Figure at 0xd591f98>"
      ]
     },
     "metadata": {},
     "output_type": "display_data"
    },
    {
     "data": {
      "image/png": "[encoded data removed]",
      "text/plain": [
       "<matplotlib.figure.Figure at 0xcdbd978>"
      ]
     },
     "metadata": {},
     "output_type": "display_data"
    },
    {
     "data": {
      "image/png": "[encoded data removed]",
      "text/plain": [
       "<matplotlib.figure.Figure at 0x1765e1d0>"
      ]
     },
     "metadata": {},
     "output_type": "display_data"
    },
    {
     "data": {
      "image/png": "[encoded data removed]",
      "text/plain": [
       "<matplotlib.figure.Figure at 0x176edb38>"
      ]
     },
     "metadata": {},
     "output_type": "display_data"
    },
    {
     "data": {
      "image/png": "[encoded data removed]",
      "text/plain": [
       "<matplotlib.figure.Figure at 0x17722438>"
      ]
     },
     "metadata": {},
     "output_type": "display_data"
    },
    {
     "data": {
      "image/png": "[encoded data removed]",
      "text/plain": [
       "<matplotlib.figure.Figure at 0x18eb2da0>"
      ]
     },
     "metadata": {},
     "output_type": "display_data"
    },
    {
     "data": {
      "image/png": "[encoded data removed]",
      "text/plain": [
       "<matplotlib.figure.Figure at 0x177526a0>"
      ]
     },
     "metadata": {},
     "output_type": "display_data"
    },
    {
     "data": {
      "image/png": "[encoded data removed]",
      "text/plain": [
       "<matplotlib.figure.Figure at 0x176fb6a0>"
      ]
     },
     "metadata": {},
     "output_type": "display_data"
    },
    {
     "data": {
      "image/png": "[encoded data removed]",
      "text/plain": [
       "<matplotlib.figure.Figure at 0xce52160>"
      ]
     },
     "metadata": {},
     "output_type": "display_data"
    },
    {
     "data": {
      "image/png": "[encoded data removed]",
      "text/plain": [
       "<matplotlib.figure.Figure at 0x176e6b38>"
      ]
     },
     "metadata": {},
     "output_type": "display_data"
    },
    {
     "data": {
      "image/png": "[encoded data removed]",
      "text/plain": [
       "<matplotlib.figure.Figure at 0x17694400>"
      ]
     },
     "metadata": {},
     "output_type": "display_data"
    },
    {
     "data": {
      "image/png": "[encoded data removed]",
      "text/plain": [
       "<matplotlib.figure.Figure at 0xd5ced68>"
      ]
     },
     "metadata": {},
     "output_type": "display_data"
    }
   ],
   "source": [
    "# Unsupervised Analysis\n",
    "# Plot every x parameter with y\n",
    "\n",
    "for i in range(24):\n",
    "    #fig=plt.subplot(24,1,i+1)\n",
    "    plt.xlabel(Xlabels[i])\n",
    "    plt.scatter(X[:,i],len(X)*[0],c=Y,cmap=\"autumn\")\n",
    "    plt.show()\n",
    "\n",
    "# We gotta change this so that every pair of features are plotted in subplots."
   ]
  },
  {
   "cell_type": "code",
   "execution_count": 61,
   "metadata": {
    "collapsed": false,
    "scrolled": true
   },
   "outputs": [],
   "source": [
    "# Plot every pair of x parameters with y\n",
    "\n",
    "# We gotta change this so that every pair of features are plotted in subplots.\n",
    "\n",
    "for i in [0,]:\n",
    "    for j in []:\n",
    "        if i!=j:\n",
    "            #fig = plt.subplot(276,1,i+1)\n",
    "            plt.xlabel(Xlabels[i])\n",
    "            plt.ylabel(Xlabels[j])\n",
    "            plt.scatter(X[:,i],X[:,j],c=Y,cmap='autumn')\n",
    "            plt.show()"
   ]
  },
  {
   "cell_type": "markdown",
   "metadata": {},
   "source": [
    "Logistic Regression"
   ]
  },
  {
   "cell_type": "code",
   "execution_count": 80,
   "metadata": {
    "collapsed": false,
    "scrolled": false
   },
   "outputs": [],
   "source": [
    "# Variations:\n",
    "# Regularization (use L1 and L2)\n",
    "# Polynomial transformation\n",
    "# c values\n",
    "\n",
    "#this is from the slides for logisitic regression\n",
    "#clf = LogisticRegression(solver='lbfgs',multi_class='multinomial')\n",
    "#clf.fit(trainX, trainY)\n",
    "#yhat_test = clf.predict(testX)\n",
    "#score = clf.score(testX, testY)\n",
    "\n",
    "#helpful link for log reg: https://towardsdatascience.com/logistic-regression-a-simplified-approach-using-python-c4bc81a87c31\\n\",\n",
    "\n",
    "#train test split:\\n\",\n",
    "#preprocessing to scale the data and use train_test_split to split the data (70% train and 30% test)\\n\",\n",
    "\n",
    "#x_train, x_test, y_train, y_test = train_test_split(x_scale, Y)\n",
    "#print(x_train.shape)\n",
    "#print(y_train.shape)\n",
    "\n",
    "#this trains and predicts\\n\",\n",
    "#logmodel = LogisticRegression()\n",
    "#logmodel.fit(X_train,y_train)\n",
    "#predictions = logmodel.predict(X_test)\n",
    "\n",
    "#check precision, recall, f1-score using classification report\\n\",\n",
    "#print(classification_report(y_test,predictions))\n",
    "\n",
    "#another option found in hw5\n",
    "#log reg with lasso(l1) regularization\n",
    "# Initialize an empty list to store values of training set accuracy.\n",
    "acc_train_logreg = []\n",
    "# Initialize an empty list to store values of test set accuracy.\n",
    "acc_test_logreg = []\n",
    "# Initialize an empty list to store different values of parameter 'c'.\n",
    "c_logreg = []\n",
    "# Complete the function logreg that accepts 'c' as a parameter, which is used to create logreg model \n",
    "# with different values of C.\n",
    "def logreg_model(c , X_train, Y_train, X_test, Y_test,reg=None, max_iter=200):\n",
    "    # Create an object of logistic regression model using linear_model.\n",
    "    # Pass the value of penalty as 'L1'. By default, it is 'L2'.\n",
    "    # Pass the value of C = c. Note that C is the inverse of lambda. So, small value of C i.e. b/w 0 and 1 \\n\",\n",
    "    # means stronger regularization and large value means less regularization.\\n\",\n",
    "    # Also, in sklearn, L1 is only supported with solver = 'saga'. Solver is the type of optimization algorithm like GDA or\\n\",\n",
    "    # SGDA, which is to be used. So, 'saga' is another algorithm like that. Pass the value of solver as 'saga\n",
    "    #Create the Logistic Regression model object as described above and save it to logreg\\n\",\n",
    "    \n",
    "    if reg==\"LASSO\" or reg==\"Lasso\" or reg==\"lasso\" or reg==\"l2\" or reg==None:\n",
    "        logreg = linear_model.LogisticRegression(C=c,penalty='l2', warm_start=True, solver='saga')\n",
    "    elif reg==\"Ridge\" or reg==\"ridge\" or reg==\"l1\":\n",
    "        logreg = linear_model.LogisticRegression(C=c,penalty='l1', warm_start=True, solver='saga')\n",
    "    \n",
    "    #Fit the model on the training set\\n\",\n",
    "    logreg.fit(X_train, Y_train)\n",
    "    \n",
    "    #Find the prediction on training set\\n\",\n",
    "    Yhat_train = logreg.predict(X_train)\n",
    "    \n",
    "    # Adding training accuracy to acc_train_logreg\\n\",\n",
    "    acc_train = np.mean(Yhat_train == Y_train)\n",
    "    acc_train_logreg.append(acc_train)\n",
    "    print(\"Accuracy on training data = %f\" % acc_train)\n",
    "    \n",
    "    #Find the prediction on test set\\n\",\n",
    "    Yhat_test = logreg.predict(X_test)\n",
    "    \n",
    "    # Adding testing accuracy to acc_test_logreg\\n\",\n",
    "    acc_test = np.mean(Yhat_test == Y_test)\n",
    "    acc_test_logreg.append(acc_test)\n",
    "    print(\"Accuracy on test data = %f\" % acc_test)\n",
    "    # Appending value of c for graphing purposes\\n\",\n",
    "    c_logreg.append(c)\n",
    "    "
   ]
  },
  {
   "cell_type": "code",
   "execution_count": 72,
   "metadata": {
    "collapsed": false
   },
   "outputs": [
    {
     "name": "stdout",
     "output_type": "stream",
     "text": [
      "Accuracy on training data = 0.612081\n",
      "Accuracy on test data = 0.614121\n",
      "Accuracy on training data = 0.617611\n",
      "Accuracy on test data = 0.618960\n",
      "Accuracy on training data = 0.618387\n",
      "Accuracy on test data = 0.619322\n"
     ]
    },
    {
     "name": "stderr",
     "output_type": "stream",
     "text": [
      "C:\\Users\\Vaneeza Kamil\\Anaconda3\\lib\\site-packages\\sklearn\\linear_model\\sag.py:326: ConvergenceWarning: The max_iter was reached which means the coef_ did not converge\n",
      "  \"the coef_ did not converge\", ConvergenceWarning)\n"
     ]
    },
    {
     "name": "stdout",
     "output_type": "stream",
     "text": [
      "Accuracy on training data = 0.618373\n",
      "Accuracy on test data = 0.619190\n",
      "Accuracy on training data = 0.618373\n",
      "Accuracy on test data = 0.619157\n",
      "Accuracy on training data = 0.618387\n",
      "Accuracy on test data = 0.619157\n"
     ]
    },
    {
     "data": {
      "text/plain": [
       "<matplotlib.legend.Legend at 0xd5ceb70>"
      ]
     },
     "execution_count": 72,
     "metadata": {},
     "output_type": "execute_result"
    },
    {
     "data": {
      "image/png": "[encoded data removed]",
      "text/plain": [
       "<matplotlib.figure.Figure at 0x17132fd0>"
      ]
     },
     "metadata": {},
     "output_type": "display_data"
    }
   ],
   "source": [
    "# TODO - Write code to plot 2 plots - 10 points\n",
    "# Plot training accuracy(Y-axis) v/s 'c' on X - Axis.\n",
    "# Plot test accuracy(Y-Axis) v/s 'c' on X - Axis.\n",
    "\n",
    "# IMP - Make sure you reinitialize c_logreg, acc_train_logreg and acc_test_logreg before rerunning logreg_model()\n",
    "cVals = [0.0001, 0.001, 0.01, 0.1, 1, 10]\n",
    "for c in cVals:\n",
    "    logreg_model(c,trainX,trainY,testX,testY,\"LASSO\")\n",
    "    \n",
    "plt.plot(c_logreg, acc_train_logreg, 'ro-') \n",
    "plt.plot(c_logreg, acc_test_logreg,'bo-') \n",
    "plt.grid()\n",
    "\n",
    "# Use the following function to have a legend\n",
    "plt.legend(['Training Accuracy', 'Test Accuracy'], loc='lower right')"
   ]
  },
  {
   "cell_type": "code",
   "execution_count": 74,
   "metadata": {
    "collapsed": false
   },
   "outputs": [
    {
     "name": "stdout",
     "output_type": "stream",
     "text": [
      "<class 'numpy.float64'>\n",
      "\n",
      "c: 0.001\n",
      "Accuracy on training data = 0.617640\n",
      "Accuracy on test data = 0.618993\n",
      "\n",
      "\n",
      "c: 0.01\n",
      "Accuracy on training data = 0.618387\n",
      "Accuracy on test data = 0.619322\n",
      "\n",
      "\n",
      "c: 0.1\n"
     ]
    },
    {
     "name": "stderr",
     "output_type": "stream",
     "text": [
      "C:\\Users\\Vaneeza Kamil\\Anaconda3\\lib\\site-packages\\sklearn\\linear_model\\sag.py:326: ConvergenceWarning: The max_iter was reached which means the coef_ did not converge\n",
      "  \"the coef_ did not converge\", ConvergenceWarning)\n"
     ]
    },
    {
     "name": "stdout",
     "output_type": "stream",
     "text": [
      "Accuracy on training data = 0.618373\n",
      "Accuracy on test data = 0.619190\n",
      "\n",
      "\n",
      "c: 1\n",
      "Accuracy on training data = 0.618373\n",
      "Accuracy on test data = 0.619157\n",
      "\n",
      "\n",
      "c: 10\n",
      "Accuracy on training data = 0.618387\n",
      "Accuracy on test data = 0.619157\n",
      "\n",
      "\n",
      "c: 100\n",
      "Accuracy on training data = 0.618387\n",
      "Accuracy on test data = 0.619157\n",
      "\n",
      "\n"
     ]
    },
    {
     "data": {
      "text/plain": [
       "<matplotlib.legend.Legend at 0x176e0908>"
      ]
     },
     "execution_count": 74,
     "metadata": {},
     "output_type": "execute_result"
    },
    {
     "data": {
      "image/png": "[encoded data removed]",
      "text/plain": [
       "<matplotlib.figure.Figure at 0x19a4fba8>"
      ]
     },
     "metadata": {},
     "output_type": "display_data"
    }
   ],
   "source": [
    "clist = [0.001,0.01,0.1,1,10,100]\n",
    "print(str(type(trainY[0])) + \"\\n\")\n",
    "for c in clist:\n",
    "    print(\"c: \" + str(c))\n",
    "    logreg_model(c,trainX,trainY,testX,testY,'LASSO')\n",
    "    print(\"\\n\")\n",
    "\n",
    "plt.plot(c_logreg, acc_train_logreg, 'ro-') \n",
    "plt.plot(c_logreg, acc_test_logreg,'bo-') \n",
    "plt.grid()\n",
    "\n",
    "# Use the following function to have a legend\n",
    "plt.legend(['Training Accuracy', 'Test Accuracy'], loc='lower right')"
   ]
  },
  {
   "cell_type": "code",
   "execution_count": 77,
   "metadata": {
    "collapsed": false
   },
   "outputs": [
    {
     "name": "stdout",
     "output_type": "stream",
     "text": [
      "Ridge Regression\n",
      "c: 0.001\n",
      "Accuracy on training data = 0.613774\n",
      "Accuracy on test data = 0.616294\n",
      "\n",
      "\n",
      "c: 0.01\n",
      "Accuracy on training data = 0.618218\n",
      "Accuracy on test data = 0.618565\n",
      "\n",
      "\n",
      "c: 0.1\n",
      "Accuracy on training data = 0.618331\n",
      "Accuracy on test data = 0.618993\n",
      "\n",
      "\n",
      "c: 1\n",
      "Accuracy on training data = 0.618331\n",
      "Accuracy on test data = 0.619124\n",
      "\n",
      "\n",
      "c: 10\n"
     ]
    },
    {
     "name": "stderr",
     "output_type": "stream",
     "text": [
      "C:\\Users\\Vaneeza Kamil\\Anaconda3\\lib\\site-packages\\sklearn\\linear_model\\sag.py:326: ConvergenceWarning: The max_iter was reached which means the coef_ did not converge\n",
      "  \"the coef_ did not converge\", ConvergenceWarning)\n"
     ]
    },
    {
     "name": "stdout",
     "output_type": "stream",
     "text": [
      "Accuracy on training data = 0.618373\n",
      "Accuracy on test data = 0.619157\n",
      "\n",
      "\n",
      "c: 100\n",
      "Accuracy on training data = 0.618387\n",
      "Accuracy on test data = 0.619157\n",
      "\n",
      "\n"
     ]
    },
    {
     "data": {
      "text/plain": [
       "<matplotlib.legend.Legend at 0x174b0a20>"
      ]
     },
     "execution_count": 77,
     "metadata": {},
     "output_type": "execute_result"
    },
    {
     "data": {
      "image/png": "[encoded data removed]",
      "text/plain": [
       "<matplotlib.figure.Figure at 0x1749e048>"
      ]
     },
     "metadata": {},
     "output_type": "display_data"
    }
   ],
   "source": [
    "print(\"Ridge Regression\")\n",
    "\n",
    "for c in clist:\n",
    "    print(\"c: \" + str(c))\n",
    "    logreg_model(c,trainX,trainY,testX,testY,'Ridge')\n",
    "    print(\"\\n\")\n",
    "plt.plot(c_logreg, acc_train_logreg, 'ro-') \n",
    "plt.plot(c_logreg, acc_test_logreg,'bo-') \n",
    "plt.grid()\n",
    "\n",
    "# Use the following function to have a legend\n",
    "plt.legend(['Training Accuracy', 'Test Accuracy'], loc='lower right')"
   ]
  },
  {
   "cell_type": "code",
   "execution_count": 79,
   "metadata": {
    "collapsed": false
   },
   "outputs": [
    {
     "name": "stdout",
     "output_type": "stream",
     "text": [
      "c: 0.001\n"
     ]
    },
    {
     "name": "stderr",
     "output_type": "stream",
     "text": [
      "C:\\Users\\Vaneeza Kamil\\Anaconda3\\lib\\site-packages\\sklearn\\linear_model\\sag.py:326: ConvergenceWarning: The max_iter was reached which means the coef_ did not converge\n",
      "  \"the coef_ did not converge\", ConvergenceWarning)\n"
     ]
    },
    {
     "name": "stdout",
     "output_type": "stream",
     "text": [
      "Accuracy on training data = 0.583768\n",
      "Accuracy on test data = 0.584003\n",
      "\n",
      "\n",
      "c: 0.01\n",
      "Accuracy on training data = 0.583768\n",
      "Accuracy on test data = 0.584003\n",
      "\n",
      "\n",
      "c: 0.1\n",
      "Accuracy on training data = 0.583867\n",
      "Accuracy on test data = 0.584036\n",
      "\n",
      "\n",
      "c: 1\n",
      "Accuracy on training data = 0.583881\n",
      "Accuracy on test data = 0.583970\n",
      "\n",
      "\n",
      "c: 10\n",
      "Accuracy on training data = 0.583895\n",
      "Accuracy on test data = 0.583904\n",
      "\n",
      "\n",
      "c: 100\n",
      "Accuracy on training data = 0.583839\n",
      "Accuracy on test data = 0.583970\n",
      "\n",
      "\n"
     ]
    },
    {
     "data": {
      "text/plain": [
       "<matplotlib.legend.Legend at 0x17495b70>"
      ]
     },
     "execution_count": 79,
     "metadata": {},
     "output_type": "execute_result"
    },
    {
     "data": {
      "image/png": "[encoded data removed]",
      "text/plain": [
       "<matplotlib.figure.Figure at 0xd6fd240>"
      ]
     },
     "metadata": {},
     "output_type": "display_data"
    }
   ],
   "source": [
    "#Use different feature pairs\n",
    "for c in clist:\n",
    "    print(\"c: \" + str(c))\n",
    "    logreg_model(c,trainXpoly,trainY,testXpoly,testY,'LASSO')\n",
    "    print(\"\\n\")\n",
    "plt.plot(c_logreg, acc_train_logreg, 'ro-') \n",
    "plt.plot(c_logreg, acc_test_logreg,'bo-') \n",
    "plt.grid()\n",
    "\n",
    "# Use the following function to have a legend\n",
    "plt.legend(['Training Accuracy', 'Test Accuracy'], loc='lower right')"
   ]
  },
  {
   "cell_type": "code",
   "execution_count": 81,
   "metadata": {
    "collapsed": false
   },
   "outputs": [
    {
     "name": "stdout",
     "output_type": "stream",
     "text": [
      "c: 0.001\n"
     ]
    },
    {
     "name": "stderr",
     "output_type": "stream",
     "text": [
      "C:\\Users\\Vaneeza Kamil\\Anaconda3\\lib\\site-packages\\sklearn\\linear_model\\sag.py:326: ConvergenceWarning: The max_iter was reached which means the coef_ did not converge\n",
      "  \"the coef_ did not converge\", ConvergenceWarning)\n"
     ]
    },
    {
     "name": "stdout",
     "output_type": "stream",
     "text": [
      "Accuracy on training data = 0.588283\n",
      "Accuracy on test data = 0.588249\n",
      "\n",
      "\n",
      "c: 0.01\n",
      "Accuracy on training data = 0.591372\n",
      "Accuracy on test data = 0.591145\n",
      "\n",
      "\n",
      "c: 0.1\n",
      "Accuracy on training data = 0.592247\n",
      "Accuracy on test data = 0.590750\n",
      "\n",
      "\n",
      "c: 1\n",
      "Accuracy on training data = 0.592106\n",
      "Accuracy on test data = 0.590783\n",
      "\n",
      "\n",
      "c: 10\n",
      "Accuracy on training data = 0.592092\n",
      "Accuracy on test data = 0.590652\n",
      "\n",
      "\n",
      "c: 100\n",
      "Accuracy on training data = 0.592092\n",
      "Accuracy on test data = 0.590783\n",
      "\n",
      "\n"
     ]
    },
    {
     "data": {
      "text/plain": [
       "<matplotlib.legend.Legend at 0x1771b358>"
      ]
     },
     "execution_count": 81,
     "metadata": {},
     "output_type": "execute_result"
    },
    {
     "data": {
      "image/png": "[encoded data removed]",
      "text/plain": [
       "<matplotlib.figure.Figure at 0x17765be0>"
      ]
     },
     "metadata": {},
     "output_type": "display_data"
    }
   ],
   "source": [
    "for c in clist:\n",
    "    print(\"c: \" + str(c))\n",
    "    logreg_model(c,trainXpoly,trainY,testXpoly,testY,'Ridge')\n",
    "    print(\"\\n\")\n",
    "    \n",
    "plt.plot(c_logreg, acc_train_logreg, 'ro-') \n",
    "plt.plot(c_logreg, acc_test_logreg,'bo-') \n",
    "plt.grid()\n",
    "\n",
    "# Use the following function to have a legend\n",
    "plt.legend(['Training Accuracy', 'Test Accuracy'], loc='lower right')"
   ]
  },
  {
   "cell_type": "markdown",
   "metadata": {},
   "source": [
    "Support Vector Machines"
   ]
  },
  {
   "cell_type": "code",
   "execution_count": 14,
   "metadata": {
    "collapsed": true
   },
   "outputs": [],
   "source": [
    "# Variations\n",
    "# c value\n",
    "# kernel\n",
    "# polynomial transformation\n",
    "\n",
    "acc_train_svm_linear = []\n",
    "acc_test_svm_linear = []\n",
    "c_svm_linear = []\n",
    "\n",
    "acc_train_svm_rbf = []\n",
    "acc_test_svm_rbf = []\n",
    "c_svm_rbf = []\n",
    "\n",
    "acc_train_svm_poly = []\n",
    "acc_test_svm_poly = []\n",
    "c_svm_poly = []"
   ]
  },
  {
   "cell_type": "code",
   "execution_count": 27,
   "metadata": {
    "collapsed": false
   },
   "outputs": [],
   "source": [
    "#use svm_kernel parameter to choose svm model type. 3 kernel options: \"linear\"[default], \"rbf\", \"poly\"\n",
    "\n",
    "def svm_model(c, X_train, Y_train, X_test, Y_test, svm_kernel = \"linear\"):\n",
    "    # TODO - Create an object of svm.SVC(probability = False, kernel = 'linear', C = c) - 5 points\n",
    "    svc = svm.SVC(probability = False, kernel = svm_kernel, C = c)\n",
    "    print(\"kernel: \"+str(svm_kernel))\n",
    "    print(\"c:{0:f}\".format(c))\n",
    "    \n",
    "    #if svm_kernel==\"poly\": # Fill in the values for \n",
    "    #X_train=X_train[0:2500]\n",
    "    #Y_train=Y_train[0:2500]\n",
    "    #X_test=X_test[0:2500]\n",
    "    #Y_test=Y_test[0:2500]\n",
    "    \n",
    "    # TODO - Fit the classifier on the training set - 5 points\n",
    "    svc.fit(X_train, Y_train)\n",
    "    \n",
    "    # TODO - Find the prediction and accuracy on the training set - 5 points\n",
    "    Yhat_svc_train = svc.predict(X_train)\n",
    "    acc_train = np.mean(Yhat_svc_train == Y_train)\n",
    "    \n",
    "    # Adding testing accuracy to acc_train_svm\n",
    "    if svm_kernel==\"linear\":\n",
    "        acc_train_svm_linear.append(acc_train)\n",
    "    elif svm_kernel==\"rbf\":\n",
    "        acc_train_svm_rbf.append(acc_train)\n",
    "    elif svm_kernel==\"poly\":\n",
    "        acc_train_svm_poly.append(acc_train)\n",
    "        \n",
    "    print('\\tTrain Accuracy = '+str(acc_train))\n",
    "    \n",
    "    # TODO - Find the prediction and accuracy on the test set - 5 points\n",
    "    Yhat_svc_test = svc.predict(X_test)\n",
    "    acc_test = np.mean(Yhat_svc_test == Y_test)\n",
    "    \n",
    "    # Adding testing accuracy to acc_test_svm\n",
    "    if svm_kernel==\"linear\":\n",
    "        acc_test_svm_linear.append(acc_test)\n",
    "    elif svm_kernel==\"rbf\":\n",
    "        acc_test_svm_rbf.append(acc_test)\n",
    "    elif svm_kernel==\"poly\":\n",
    "        acc_test_svm_poly.append(acc_train)\n",
    "        \n",
    "    print('\\tTest Accuracy = '+str(acc_test))\n",
    "    \n",
    "    # Appending value of c for graphing purposes\n",
    "    if svm_kernel==\"linear\":\n",
    "        c_svm_linear.append(c)\n",
    "    elif svm_kernel==\"rbf\":\n",
    "        c_svm_rbf.append(c)\n",
    "    elif svm_kernel==\"poly\":\n",
    "        c_svm_poly.append(c)\n"
   ]
  },
  {
   "cell_type": "code",
   "execution_count": 26,
   "metadata": {
    "collapsed": false
   },
   "outputs": [
    {
     "name": "stdout",
     "output_type": "stream",
     "text": [
      "kernel: linear\n",
      "c:0.001000\n",
      "\tTrain Accuracy = 0.605119191041\n"
     ]
    },
    {
     "ename": "KeyboardInterrupt",
     "evalue": "",
     "output_type": "error",
     "traceback": [
      "\u001b[1;31m---------------------------------------------------------------------------\u001b[0m",
      "\u001b[1;31mKeyboardInterrupt\u001b[0m                         Traceback (most recent call last)",
      "\u001b[1;32m<ipython-input-26-348562634aeb>\u001b[0m in \u001b[0;36m<module>\u001b[1;34m()\u001b[0m\n\u001b[0;32m      2\u001b[0m \u001b[1;33m\u001b[0m\u001b[0m\n\u001b[0;32m      3\u001b[0m \u001b[1;32mfor\u001b[0m \u001b[0mc\u001b[0m \u001b[1;32min\u001b[0m \u001b[0mclist\u001b[0m\u001b[1;33m:\u001b[0m\u001b[1;33m\u001b[0m\u001b[0m\n\u001b[1;32m----> 4\u001b[1;33m     \u001b[0msvm_model\u001b[0m\u001b[1;33m(\u001b[0m\u001b[0mc\u001b[0m\u001b[1;33m,\u001b[0m\u001b[0mtrainX\u001b[0m\u001b[1;33m,\u001b[0m\u001b[0mtrainY\u001b[0m\u001b[1;33m,\u001b[0m\u001b[0mtestX\u001b[0m\u001b[1;33m,\u001b[0m\u001b[0mtestY\u001b[0m\u001b[1;33m,\u001b[0m\u001b[0msvm_kernel\u001b[0m\u001b[1;33m=\u001b[0m\u001b[1;34m\"linear\"\u001b[0m\u001b[1;33m)\u001b[0m\u001b[1;33m;\u001b[0m\u001b[1;33m\u001b[0m\u001b[0m\n\u001b[0m\u001b[0;32m      5\u001b[0m \u001b[1;33m\u001b[0m\u001b[0m\n",
      "\u001b[1;32m<ipython-input-25-70d0a215bda5>\u001b[0m in \u001b[0;36msvm_model\u001b[1;34m(c, X_train, Y_train, X_test, Y_test, svm_kernel)\u001b[0m\n\u001b[0;32m     31\u001b[0m \u001b[1;33m\u001b[0m\u001b[0m\n\u001b[0;32m     32\u001b[0m     \u001b[1;31m# TODO - Find the prediction and accuracy on the test set - 5 points\u001b[0m\u001b[1;33m\u001b[0m\u001b[1;33m\u001b[0m\u001b[0m\n\u001b[1;32m---> 33\u001b[1;33m     \u001b[0mYhat_svc_test\u001b[0m \u001b[1;33m=\u001b[0m \u001b[0msvc\u001b[0m\u001b[1;33m.\u001b[0m\u001b[0mpredict\u001b[0m\u001b[1;33m(\u001b[0m\u001b[0mX_test\u001b[0m\u001b[1;33m)\u001b[0m\u001b[1;33m\u001b[0m\u001b[0m\n\u001b[0m\u001b[0;32m     34\u001b[0m     \u001b[0macc_test\u001b[0m \u001b[1;33m=\u001b[0m \u001b[0mnp\u001b[0m\u001b[1;33m.\u001b[0m\u001b[0mmean\u001b[0m\u001b[1;33m(\u001b[0m\u001b[0mYhat_svc_test\u001b[0m \u001b[1;33m==\u001b[0m \u001b[0mY_test\u001b[0m\u001b[1;33m)\u001b[0m\u001b[1;33m\u001b[0m\u001b[0m\n\u001b[0;32m     35\u001b[0m \u001b[1;33m\u001b[0m\u001b[0m\n",
      "\u001b[1;32mC:\\Users\\Rafi\\AppData\\Local\\Continuum\\Anaconda3\\lib\\site-packages\\sklearn\\svm\\base.py\u001b[0m in \u001b[0;36mpredict\u001b[1;34m(self, X)\u001b[0m\n\u001b[0;32m    546\u001b[0m             \u001b[0mClass\u001b[0m \u001b[0mlabels\u001b[0m \u001b[1;32mfor\u001b[0m \u001b[0msamples\u001b[0m \u001b[1;32min\u001b[0m \u001b[0mX\u001b[0m\u001b[1;33m.\u001b[0m\u001b[1;33m\u001b[0m\u001b[0m\n\u001b[0;32m    547\u001b[0m         \"\"\"\n\u001b[1;32m--> 548\u001b[1;33m         \u001b[0my\u001b[0m \u001b[1;33m=\u001b[0m \u001b[0msuper\u001b[0m\u001b[1;33m(\u001b[0m\u001b[0mBaseSVC\u001b[0m\u001b[1;33m,\u001b[0m \u001b[0mself\u001b[0m\u001b[1;33m)\u001b[0m\u001b[1;33m.\u001b[0m\u001b[0mpredict\u001b[0m\u001b[1;33m(\u001b[0m\u001b[0mX\u001b[0m\u001b[1;33m)\u001b[0m\u001b[1;33m\u001b[0m\u001b[0m\n\u001b[0m\u001b[0;32m    549\u001b[0m         \u001b[1;32mreturn\u001b[0m \u001b[0mself\u001b[0m\u001b[1;33m.\u001b[0m\u001b[0mclasses_\u001b[0m\u001b[1;33m.\u001b[0m\u001b[0mtake\u001b[0m\u001b[1;33m(\u001b[0m\u001b[0mnp\u001b[0m\u001b[1;33m.\u001b[0m\u001b[0masarray\u001b[0m\u001b[1;33m(\u001b[0m\u001b[0my\u001b[0m\u001b[1;33m,\u001b[0m \u001b[0mdtype\u001b[0m\u001b[1;33m=\u001b[0m\u001b[0mnp\u001b[0m\u001b[1;33m.\u001b[0m\u001b[0mintp\u001b[0m\u001b[1;33m)\u001b[0m\u001b[1;33m)\u001b[0m\u001b[1;33m\u001b[0m\u001b[0m\n\u001b[0;32m    550\u001b[0m \u001b[1;33m\u001b[0m\u001b[0m\n",
      "\u001b[1;32mC:\\Users\\Rafi\\AppData\\Local\\Continuum\\Anaconda3\\lib\\site-packages\\sklearn\\svm\\base.py\u001b[0m in \u001b[0;36mpredict\u001b[1;34m(self, X)\u001b[0m\n\u001b[0;32m    308\u001b[0m         \u001b[0mX\u001b[0m \u001b[1;33m=\u001b[0m \u001b[0mself\u001b[0m\u001b[1;33m.\u001b[0m\u001b[0m_validate_for_predict\u001b[0m\u001b[1;33m(\u001b[0m\u001b[0mX\u001b[0m\u001b[1;33m)\u001b[0m\u001b[1;33m\u001b[0m\u001b[0m\n\u001b[0;32m    309\u001b[0m         \u001b[0mpredict\u001b[0m \u001b[1;33m=\u001b[0m \u001b[0mself\u001b[0m\u001b[1;33m.\u001b[0m\u001b[0m_sparse_predict\u001b[0m \u001b[1;32mif\u001b[0m \u001b[0mself\u001b[0m\u001b[1;33m.\u001b[0m\u001b[0m_sparse\u001b[0m \u001b[1;32melse\u001b[0m \u001b[0mself\u001b[0m\u001b[1;33m.\u001b[0m\u001b[0m_dense_predict\u001b[0m\u001b[1;33m\u001b[0m\u001b[0m\n\u001b[1;32m--> 310\u001b[1;33m         \u001b[1;32mreturn\u001b[0m \u001b[0mpredict\u001b[0m\u001b[1;33m(\u001b[0m\u001b[0mX\u001b[0m\u001b[1;33m)\u001b[0m\u001b[1;33m\u001b[0m\u001b[0m\n\u001b[0m\u001b[0;32m    311\u001b[0m \u001b[1;33m\u001b[0m\u001b[0m\n\u001b[0;32m    312\u001b[0m     \u001b[1;32mdef\u001b[0m \u001b[0m_dense_predict\u001b[0m\u001b[1;33m(\u001b[0m\u001b[0mself\u001b[0m\u001b[1;33m,\u001b[0m \u001b[0mX\u001b[0m\u001b[1;33m)\u001b[0m\u001b[1;33m:\u001b[0m\u001b[1;33m\u001b[0m\u001b[0m\n",
      "\u001b[1;32mC:\\Users\\Rafi\\AppData\\Local\\Continuum\\Anaconda3\\lib\\site-packages\\sklearn\\svm\\base.py\u001b[0m in \u001b[0;36m_dense_predict\u001b[1;34m(self, X)\u001b[0m\n\u001b[0;32m    331\u001b[0m             \u001b[0mself\u001b[0m\u001b[1;33m.\u001b[0m\u001b[0mprobA_\u001b[0m\u001b[1;33m,\u001b[0m \u001b[0mself\u001b[0m\u001b[1;33m.\u001b[0m\u001b[0mprobB_\u001b[0m\u001b[1;33m,\u001b[0m \u001b[0msvm_type\u001b[0m\u001b[1;33m=\u001b[0m\u001b[0msvm_type\u001b[0m\u001b[1;33m,\u001b[0m \u001b[0mkernel\u001b[0m\u001b[1;33m=\u001b[0m\u001b[0mkernel\u001b[0m\u001b[1;33m,\u001b[0m\u001b[1;33m\u001b[0m\u001b[0m\n\u001b[0;32m    332\u001b[0m             \u001b[0mdegree\u001b[0m\u001b[1;33m=\u001b[0m\u001b[0mself\u001b[0m\u001b[1;33m.\u001b[0m\u001b[0mdegree\u001b[0m\u001b[1;33m,\u001b[0m \u001b[0mcoef0\u001b[0m\u001b[1;33m=\u001b[0m\u001b[0mself\u001b[0m\u001b[1;33m.\u001b[0m\u001b[0mcoef0\u001b[0m\u001b[1;33m,\u001b[0m \u001b[0mgamma\u001b[0m\u001b[1;33m=\u001b[0m\u001b[0mself\u001b[0m\u001b[1;33m.\u001b[0m\u001b[0m_gamma\u001b[0m\u001b[1;33m,\u001b[0m\u001b[1;33m\u001b[0m\u001b[0m\n\u001b[1;32m--> 333\u001b[1;33m             cache_size=self.cache_size)\n\u001b[0m\u001b[0;32m    334\u001b[0m \u001b[1;33m\u001b[0m\u001b[0m\n\u001b[0;32m    335\u001b[0m     \u001b[1;32mdef\u001b[0m \u001b[0m_sparse_predict\u001b[0m\u001b[1;33m(\u001b[0m\u001b[0mself\u001b[0m\u001b[1;33m,\u001b[0m \u001b[0mX\u001b[0m\u001b[1;33m)\u001b[0m\u001b[1;33m:\u001b[0m\u001b[1;33m\u001b[0m\u001b[0m\n",
      "\u001b[1;31mKeyboardInterrupt\u001b[0m: "
     ]
    }
   ],
   "source": [
    "for c in clist:\n",
    "    svm_model(c,trainX,trainY,testX,testY,svm_kernel=\"linear\");\n",
    "    \n"
   ]
  },
  {
   "cell_type": "code",
   "execution_count": 37,
   "metadata": {
    "collapsed": false
   },
   "outputs": [
    {
     "name": "stdout",
     "output_type": "stream",
     "text": [
      "kernel: rbf\n",
      "c:0.001000\n",
      "\tTrain Accuracy = 0.5356\n",
      "\tTest Accuracy = 0.5344\n",
      "kernel: rbf\n",
      "c:0.010000\n",
      "\tTrain Accuracy = 0.5356\n",
      "\tTest Accuracy = 0.5344\n",
      "kernel: rbf\n",
      "c:0.100000\n",
      "\tTrain Accuracy = 0.6112\n",
      "\tTest Accuracy = 0.5952\n",
      "kernel: rbf\n",
      "c:1.000000\n",
      "\tTrain Accuracy = 0.72\n",
      "\tTest Accuracy = 0.5924\n",
      "kernel: rbf\n",
      "c:10.000000\n",
      "\tTrain Accuracy = 0.8576\n",
      "\tTest Accuracy = 0.5636\n",
      "kernel: rbf\n",
      "c:100.000000\n",
      "\tTrain Accuracy = 0.9596\n",
      "\tTest Accuracy = 0.5312\n"
     ]
    }
   ],
   "source": [
    "for c in clist:\n",
    "    svm_model(c,trainX,trainY,testX,testY,svm_kernel=\"rbf\");"
   ]
  },
  {
   "cell_type": "code",
   "execution_count": 38,
   "metadata": {
    "collapsed": false
   },
   "outputs": [
    {
     "name": "stdout",
     "output_type": "stream",
     "text": [
      "kernel: poly\n",
      "c:0.001000\n",
      "\tTrain Accuracy = 0.546\n",
      "\tTest Accuracy = 0.5348\n",
      "kernel: poly\n",
      "c:0.010000\n",
      "\tTrain Accuracy = 0.5628\n",
      "\tTest Accuracy = 0.534\n",
      "kernel: poly\n",
      "c:0.100000\n",
      "\tTrain Accuracy = 0.6072\n",
      "\tTest Accuracy = 0.5356\n",
      "kernel: poly\n",
      "c:1.000000\n",
      "\tTrain Accuracy = 0.7416\n",
      "\tTest Accuracy = 0.538\n",
      "kernel: poly\n",
      "c:10.000000\n",
      "\tTrain Accuracy = 0.8884\n",
      "\tTest Accuracy = 0.5292\n",
      "kernel: poly\n",
      "c:100.000000\n",
      "\tTrain Accuracy = 0.976\n",
      "\tTest Accuracy = 0.5256\n"
     ]
    }
   ],
   "source": [
    "for c in clist:\n",
    "    svm_model(c,trainXpoly,trainY,testXpoly,testY,svm_kernel=\"poly\")"
   ]
  },
  {
   "cell_type": "markdown",
   "metadata": {},
   "source": [
    "Neural Networks"
   ]
  },
  {
   "cell_type": "code",
   "execution_count": 39,
   "metadata": {
    "collapsed": true
   },
   "outputs": [],
   "source": [
    "# Variations:\n",
    "# hidden layers (use 1,2 and 3)\n",
    "# hidden layer nodes (use 10,20 and 5)\n",
    "# activation function (use sigmoid, ReLU, tanh)\n",
    "\n",
    "def f(z):\n",
    "    return 1 / (1 + np.exp(-z))\n",
    "\n",
    "\n",
    "def f_deriv(z):\n",
    "    return f(z) * (1 - f(z))\n",
    "\n",
    "def f2(z):\n",
    "    if z>0:\n",
    "        return z\n",
    "    else:\n",
    "        return 0\n",
    "    \n",
    "def f2_deriv(z):\n",
    "    if z>0:\n",
    "        return 1\n",
    "    else:\n",
    "        return 0\n",
    "    \n",
    "def f3(z):\n",
    "    return (np.exp(z)-np.exp(-z))/(np.exp(z)+np.exp(-z))\n",
    "\n",
    "def f3_deriv(z):\n",
    "    return 1-(f3(z))^2"
   ]
  },
  {
   "cell_type": "code",
   "execution_count": 45,
   "metadata": {
    "collapsed": false
   },
   "outputs": [],
   "source": [
    "def setup_and_init_weights(nn_structure):\n",
    "    W = {} #creating a dictionary i.e. a set of key: value pairs\n",
    "    b = {}\n",
    "    for l in range(1, len(nn_structure)):\n",
    "        W[l] = r.random_sample((nn_structure[l], nn_structure[l-1])) #Return “continuous uniform” random floats in the half-open interval [0.0, 1.0). \n",
    "        b[l] = r.random_sample((nn_structure[l],))\n",
    "    return W, b\n",
    "\n",
    "def init_tri_values(nn_structure):\n",
    "    tri_W = {}\n",
    "    tri_b = {}\n",
    "    for l in range(1, len(nn_structure)):\n",
    "        tri_W[l] = np.zeros((nn_structure[l], nn_structure[l-1]))\n",
    "        tri_b[l] = np.zeros((nn_structure[l],))\n",
    "    return tri_W, tri_b\n",
    "\n",
    "def feed_forward(x, W, b, act_func=1):\n",
    "    a = {1: x}\n",
    "    z = {}\n",
    "    for l in range(1, len(W) + 1):\n",
    "        node_in = a[l]\n",
    "        #print(\"\\n\",W[l],\"\\n\",node_in,\"\\n\",b[l])\n",
    "        z[l+1] = W[l].dot(node_in) + b[l]\n",
    "        if act_func==1:\n",
    "            a[l+1] = f(z[l+1])\n",
    "        elif act_func == 2:\n",
    "            a[l+1] = f2(z[l+1])\n",
    "        elif act_func == 3:\n",
    "            a[l+1] = f3(z[l+1])\n",
    "        \n",
    "    return a, z\n",
    "\n",
    "def calculate_out_layer_delta(y, a_out, z_out,act_func=1):\n",
    "    if act_func==1:\n",
    "        return -(y-a_out) * f_deriv(z_out)\n",
    "    elif act_func==2:\n",
    "        return -(y-a_out) * f2_deriv(z_out)\n",
    "    elif act_func==3:\n",
    "        return -(y-a_out) * f3_deriv(z_out)\n",
    "\n",
    "\n",
    "def calculate_hidden_delta(delta_plus_1, w_l, z_l, act_func=1):\n",
    "    if act_func==1:\n",
    "        return np.dot(np.transpose(w_l), delta_plus_1) * f_deriv(z_l)\n",
    "    elif act_func==2:\n",
    "        return np.dot(np.transpose(w_l), delta_plus_1) * f2_deriv(z_l)\n",
    "    elif act_func==3:\n",
    "        return np.dot(np.transpose(w_l), delta_plus_1) * f3_deriv(z_l)\n",
    "\n",
    "def train_nn(nn_structure, X, y, iter_num=3000, alpha=0.25, act_func=1):\n",
    "    W, b = setup_and_init_weights(nn_structure)\n",
    "    cnt = 0\n",
    "    N = len(y)\n",
    "    avg_cost_func = []\n",
    "    print('Starting gradient descent for {} iterations'.format(iter_num))\n",
    "    while cnt < iter_num:\n",
    "        if cnt%1000 == 0:\n",
    "            print('Iteration {} of {}'.format(cnt, iter_num))\n",
    "        tri_W, tri_b = init_tri_values(nn_structure)\n",
    "        avg_cost = 0\n",
    "        for i in range(N):\n",
    "            delta = {}\n",
    "            a, z = feed_forward(X[i, :], W, b,act_func)\n",
    "            for l in range(len(nn_structure), 0, -1):\n",
    "                if l == len(nn_structure):\n",
    "                    \n",
    "                    delta[l] = calculate_out_layer_delta(y[i,:], a[l], z[l],act_func)\n",
    "                    avg_cost += np.linalg.norm((y[i,:]-a[l]))\n",
    "                else:\n",
    "                    if l > 1:\n",
    "                        delta[l] = calculate_hidden_delta(delta[l+1], W[l], z[l],act_func)\n",
    "                    #print(type(tri_W))\n",
    "                    tri_W[l] = tri_W[l] + np.dot(delta[l+1][:,np.newaxis], np.transpose(a[l][:,np.newaxis]))\n",
    "                    tri_b[l] = tri_b[l] + delta[l+1]\n",
    "        for l in range(len(nn_structure) - 1, 0, -1):\n",
    "            W[l] = W[l] + -alpha * (1.0/N * tri_W[l])\n",
    "            b[l] = b[l] + -alpha * (1.0/N * tri_b[l])\n",
    "        avg_cost = 1.0/N * avg_cost\n",
    "        avg_cost_func.append(avg_cost)\n",
    "        cnt += 1\n",
    "    return W, b, avg_cost_func\n",
    "\n",
    "\n",
    "def predict_y(W, b, X, n_layers):\n",
    "    N = X.shape[0]\n",
    "    y = np.zeros((N,))\n",
    "    for i in range(N):\n",
    "        a, z = feed_forward(X[i, :], W, b)\n",
    "        y[i] = np.argmax(a[n_layers])\n",
    "    return y"
   ]
  },
  {
   "cell_type": "code",
   "execution_count": 41,
   "metadata": {
    "collapsed": true
   },
   "outputs": [],
   "source": [
    "nn_structure1 = [24, 10, 1]\n",
    "nn_structure2 = [24, 20, 1]\n",
    "nn_structure3 = [24, 5, 1]\n",
    "\n",
    "nn_structure4 = [24, 10, 10, 1]\n",
    "nn_structure5 = [24, 10, 10, 10, 1]"
   ]
  },
  {
   "cell_type": "code",
   "execution_count": 42,
   "metadata": {
    "collapsed": true
   },
   "outputs": [],
   "source": [
    "trainYvec=trainY.reshape((trainY.shape[0],1))\n",
    "testYvec=testY.reshape((testY.shape[0],1))"
   ]
  },
  {
   "cell_type": "code",
   "execution_count": 14,
   "metadata": {
    "collapsed": true
   },
   "outputs": [
    {
     "name": "stdout",
     "output_type": "stream",
     "text": [
      "[[11.0 1.0 41.0 0.0 1.0 0.0 0.0 0.0 1.0 0 0 0 0 0 0 1.0 0.0 0.0 0.0 1.0 0.0\n",
      "  1.0 0.0 0.0]\n",
      " [12.0 3.0 59.0 0.0 18.0 0.0 0.0 0.0 9.0 0 0 0 3 1 1 1.0 0.0 0.0 0.0 1.0\n",
      "  0.0 1.0 0.0 0.0]\n",
      " [13.0 2.0 11.0 5.0 13.0 2.0 0.0 1.0 6.0 0 0 2 0 0 1 0.0 0.0 0.0 1.0 1.0\n",
      "  0.0 0.0 0.0 0.0]\n",
      " [14.0 2.0 44.0 1.0 16.0 0.0 0.0 0.0 7.0 0 0 0 3 1 1 1.0 0.0 0.0 0.0 0.0\n",
      "  1.0 0.0 1.0 0.0]\n",
      " [14.5 1.0 51.0 0.0 8.0 0.0 0.0 0.0 5.0 0 0 2 2 1 1 1.0 0.0 0.0 0.0 0.0 1.0\n",
      "  0.0 1.0 0.0]\n",
      " [15.0 3.0 31.0 6.0 16.0 0.0 0.0 0.0 9.0 0 0 0 2 0 1 1.0 0.0 0.0 0.0 0.0\n",
      "  1.0 1.0 0.0 0.0]\n",
      " [15.5 4.0 70.0 1.0 21.0 0.0 0.0 0.0 7.0 0 2 0 2 1 1 1.0 0.0 0.0 0.0 0.0\n",
      "  1.0 1.0 0.0 0.0]\n",
      " [16.0 5.0 73.0 0.0 12.0 0.0 0.0 0.0 8.0 0 0 0 0 0 1 1.0 0.0 0.0 0.0 0.0\n",
      "  1.0 1.0 0.0 0.0]\n",
      " [16.5 13.0 68.0 2.0 28.0 0.0 0.0 0.0 8.0 0 0 2 2 1 1 1.0 0.0 0.0 0.0 1.0\n",
      "  0.0 1.0 0.0 0.0]\n",
      " [17.0 12.0 33.0 3.0 18.0 0.0 0.0 0.0 8.0 0 0 0 2 1 1 1.0 0.0 0.0 0.0 1.0\n",
      "  0.0 1.0 0.0 0.0]\n",
      " [14.5 9.0 47.0 2.0 17.0 0.0 0.0 0.0 9.0 0 0 0 2 0 1 0.0 0.0 0.0 1.0 1.0\n",
      "  0.0 1.0 0.0 0.0]\n",
      " [15.5 7.0 62.0 0.0 11.0 0.0 0.0 0.0 7.0 0 0 0 2 1 1 0.0 0.0 0.0 1.0 0.0\n",
      "  1.0 0.0 1.0 0.0]\n",
      " [14.5 7.0 60.0 0.0 15.0 0.0 1.0 0.0 8.0 0 2 0 1 1 1 1.0 0.0 0.0 0.0 1.0\n",
      "  0.0 1.0 0.0 0.0]\n",
      " [16.5 10.0 55.0 1.0 31.0 0.0 0.0 0.0 8.0 0 0 0 2 0 1 1.0 0.0 0.0 0.0 0.0\n",
      "  1.0 1.0 0.0 0.0]\n",
      " [15.5 1.0 49.0 5.0 2.0 0.0 0.0 0.0 8.0 0 0 0 2 0 1 0.0 0.0 0.0 1.0 1.0 0.0\n",
      "  0.0 0.0 0.0]\n",
      " [15.5 12.0 75.0 5.0 13.0 0.0 0.0 0.0 9.0 0 0 0 3 1 1 0.0 0.0 0.0 1.0 0.0\n",
      "  1.0 0.0 0.0 1.0]\n",
      " [15.0 4.0 45.0 4.0 17.0 0.0 0.0 0.0 8.0 0 0 2 2 1 1 0.0 0.0 0.0 1.0 0.0\n",
      "  1.0 1.0 0.0 0.0]\n",
      " [15.0 3.0 29.0 0.0 11.0 0.0 0.0 0.0 3.0 0 0 0 0 0 1 1.0 0.0 0.0 0.0 1.0\n",
      "  0.0 0.0 0.0 0.0]\n",
      " [16.0 5.0 35.0 5.0 23.0 0.0 0.0 0.0 9.0 0 0 0 2 0 1 0.0 0.0 0.0 1.0 0.0\n",
      "  1.0 1.0 0.0 0.0]\n",
      " [16.0 6.0 42.0 2.0 23.0 0.0 0.0 0.0 8.0 0 0 0 2 1 1 0.0 0.0 0.0 0.0 0.0\n",
      "  1.0 0.0 0.0 0.0]]\n"
     ]
    }
   ],
   "source": [
    "print(X[0:20])"
   ]
  },
  {
   "cell_type": "code",
   "execution_count": 46,
   "metadata": {
    "collapsed": false,
    "scrolled": true
   },
   "outputs": [
    {
     "name": "stdout",
     "output_type": "stream",
     "text": [
      "Starting gradient descent for 3000 iterations\n",
      "Iteration 0 of 3000\n"
     ]
    },
    {
     "ename": "KeyboardInterrupt",
     "evalue": "",
     "output_type": "error",
     "traceback": [
      "\u001b[1;31m---------------------------------------------------------------------------\u001b[0m",
      "\u001b[1;31mKeyboardInterrupt\u001b[0m                         Traceback (most recent call last)",
      "\u001b[1;32m<ipython-input-46-cf28df259b34>\u001b[0m in \u001b[0;36m<module>\u001b[1;34m()\u001b[0m\n\u001b[1;32m----> 1\u001b[1;33m \u001b[0mW_1\u001b[0m\u001b[1;33m,\u001b[0m \u001b[0mb_1\u001b[0m\u001b[1;33m,\u001b[0m \u001b[0mavg_cost_func_1\u001b[0m \u001b[1;33m=\u001b[0m \u001b[0mtrain_nn\u001b[0m\u001b[1;33m(\u001b[0m\u001b[0mnn_structure1\u001b[0m\u001b[1;33m,\u001b[0m \u001b[0mtrainX\u001b[0m\u001b[1;33m,\u001b[0m \u001b[0mtrainYvec\u001b[0m\u001b[1;33m,\u001b[0m \u001b[1;36m3000\u001b[0m\u001b[1;33m,\u001b[0m\u001b[0mact_func\u001b[0m\u001b[1;33m=\u001b[0m\u001b[1;36m1\u001b[0m\u001b[1;33m)\u001b[0m\u001b[1;33m\u001b[0m\u001b[0m\n\u001b[0m",
      "\u001b[1;32m<ipython-input-45-564fccba9f95>\u001b[0m in \u001b[0;36mtrain_nn\u001b[1;34m(nn_structure, X, y, iter_num, alpha, act_func)\u001b[0m\n\u001b[0;32m     69\u001b[0m                 \u001b[1;32melse\u001b[0m\u001b[1;33m:\u001b[0m\u001b[1;33m\u001b[0m\u001b[0m\n\u001b[0;32m     70\u001b[0m                     \u001b[1;32mif\u001b[0m \u001b[0ml\u001b[0m \u001b[1;33m>\u001b[0m \u001b[1;36m1\u001b[0m\u001b[1;33m:\u001b[0m\u001b[1;33m\u001b[0m\u001b[0m\n\u001b[1;32m---> 71\u001b[1;33m                         \u001b[0mdelta\u001b[0m\u001b[1;33m[\u001b[0m\u001b[0ml\u001b[0m\u001b[1;33m]\u001b[0m \u001b[1;33m=\u001b[0m \u001b[0mcalculate_hidden_delta\u001b[0m\u001b[1;33m(\u001b[0m\u001b[0mdelta\u001b[0m\u001b[1;33m[\u001b[0m\u001b[0ml\u001b[0m\u001b[1;33m+\u001b[0m\u001b[1;36m1\u001b[0m\u001b[1;33m]\u001b[0m\u001b[1;33m,\u001b[0m \u001b[0mW\u001b[0m\u001b[1;33m[\u001b[0m\u001b[0ml\u001b[0m\u001b[1;33m]\u001b[0m\u001b[1;33m,\u001b[0m \u001b[0mz\u001b[0m\u001b[1;33m[\u001b[0m\u001b[0ml\u001b[0m\u001b[1;33m]\u001b[0m\u001b[1;33m,\u001b[0m\u001b[0mact_func\u001b[0m\u001b[1;33m)\u001b[0m\u001b[1;33m\u001b[0m\u001b[0m\n\u001b[0m\u001b[0;32m     72\u001b[0m                     \u001b[1;31m#print(type(tri_W))\u001b[0m\u001b[1;33m\u001b[0m\u001b[1;33m\u001b[0m\u001b[0m\n\u001b[0;32m     73\u001b[0m                     \u001b[0mtri_W\u001b[0m\u001b[1;33m[\u001b[0m\u001b[0ml\u001b[0m\u001b[1;33m]\u001b[0m \u001b[1;33m=\u001b[0m \u001b[0mtri_W\u001b[0m\u001b[1;33m[\u001b[0m\u001b[0ml\u001b[0m\u001b[1;33m]\u001b[0m \u001b[1;33m+\u001b[0m \u001b[0mnp\u001b[0m\u001b[1;33m.\u001b[0m\u001b[0mdot\u001b[0m\u001b[1;33m(\u001b[0m\u001b[0mdelta\u001b[0m\u001b[1;33m[\u001b[0m\u001b[0ml\u001b[0m\u001b[1;33m+\u001b[0m\u001b[1;36m1\u001b[0m\u001b[1;33m]\u001b[0m\u001b[1;33m[\u001b[0m\u001b[1;33m:\u001b[0m\u001b[1;33m,\u001b[0m\u001b[0mnp\u001b[0m\u001b[1;33m.\u001b[0m\u001b[0mnewaxis\u001b[0m\u001b[1;33m]\u001b[0m\u001b[1;33m,\u001b[0m \u001b[0mnp\u001b[0m\u001b[1;33m.\u001b[0m\u001b[0mtranspose\u001b[0m\u001b[1;33m(\u001b[0m\u001b[0ma\u001b[0m\u001b[1;33m[\u001b[0m\u001b[0ml\u001b[0m\u001b[1;33m]\u001b[0m\u001b[1;33m[\u001b[0m\u001b[1;33m:\u001b[0m\u001b[1;33m,\u001b[0m\u001b[0mnp\u001b[0m\u001b[1;33m.\u001b[0m\u001b[0mnewaxis\u001b[0m\u001b[1;33m]\u001b[0m\u001b[1;33m)\u001b[0m\u001b[1;33m)\u001b[0m\u001b[1;33m\u001b[0m\u001b[0m\n",
      "\u001b[1;32m<ipython-input-45-564fccba9f95>\u001b[0m in \u001b[0;36mcalculate_hidden_delta\u001b[1;34m(delta_plus_1, w_l, z_l, act_func)\u001b[0m\n\u001b[0;32m     42\u001b[0m \u001b[1;32mdef\u001b[0m \u001b[0mcalculate_hidden_delta\u001b[0m\u001b[1;33m(\u001b[0m\u001b[0mdelta_plus_1\u001b[0m\u001b[1;33m,\u001b[0m \u001b[0mw_l\u001b[0m\u001b[1;33m,\u001b[0m \u001b[0mz_l\u001b[0m\u001b[1;33m,\u001b[0m \u001b[0mact_func\u001b[0m\u001b[1;33m=\u001b[0m\u001b[1;36m1\u001b[0m\u001b[1;33m)\u001b[0m\u001b[1;33m:\u001b[0m\u001b[1;33m\u001b[0m\u001b[0m\n\u001b[0;32m     43\u001b[0m     \u001b[1;32mif\u001b[0m \u001b[0mact_func\u001b[0m\u001b[1;33m==\u001b[0m\u001b[1;36m1\u001b[0m\u001b[1;33m:\u001b[0m\u001b[1;33m\u001b[0m\u001b[0m\n\u001b[1;32m---> 44\u001b[1;33m         \u001b[1;32mreturn\u001b[0m \u001b[0mnp\u001b[0m\u001b[1;33m.\u001b[0m\u001b[0mdot\u001b[0m\u001b[1;33m(\u001b[0m\u001b[0mnp\u001b[0m\u001b[1;33m.\u001b[0m\u001b[0mtranspose\u001b[0m\u001b[1;33m(\u001b[0m\u001b[0mw_l\u001b[0m\u001b[1;33m)\u001b[0m\u001b[1;33m,\u001b[0m \u001b[0mdelta_plus_1\u001b[0m\u001b[1;33m)\u001b[0m \u001b[1;33m*\u001b[0m \u001b[0mf_deriv\u001b[0m\u001b[1;33m(\u001b[0m\u001b[0mz_l\u001b[0m\u001b[1;33m)\u001b[0m\u001b[1;33m\u001b[0m\u001b[0m\n\u001b[0m\u001b[0;32m     45\u001b[0m     \u001b[1;32melif\u001b[0m \u001b[0mact_func\u001b[0m\u001b[1;33m==\u001b[0m\u001b[1;36m2\u001b[0m\u001b[1;33m:\u001b[0m\u001b[1;33m\u001b[0m\u001b[0m\n\u001b[0;32m     46\u001b[0m         \u001b[1;32mreturn\u001b[0m \u001b[0mnp\u001b[0m\u001b[1;33m.\u001b[0m\u001b[0mdot\u001b[0m\u001b[1;33m(\u001b[0m\u001b[0mnp\u001b[0m\u001b[1;33m.\u001b[0m\u001b[0mtranspose\u001b[0m\u001b[1;33m(\u001b[0m\u001b[0mw_l\u001b[0m\u001b[1;33m)\u001b[0m\u001b[1;33m,\u001b[0m \u001b[0mdelta_plus_1\u001b[0m\u001b[1;33m)\u001b[0m \u001b[1;33m*\u001b[0m \u001b[0mf2_deriv\u001b[0m\u001b[1;33m(\u001b[0m\u001b[0mz_l\u001b[0m\u001b[1;33m)\u001b[0m\u001b[1;33m\u001b[0m\u001b[0m\n",
      "\u001b[1;31mKeyboardInterrupt\u001b[0m: "
     ]
    }
   ],
   "source": [
    "W_1, b_1, avg_cost_func_1 = train_nn(nn_structure1, trainX, trainYvec, 3000,act_func=1)"
   ]
  },
  {
   "cell_type": "code",
   "execution_count": null,
   "metadata": {
    "collapsed": true
   },
   "outputs": [],
   "source": [
    "W_2, b_2, avg_cost_func_2 = train_nn(nn_structure1, trainX, trainYvec, 3000,act_func=2)"
   ]
  },
  {
   "cell_type": "code",
   "execution_count": null,
   "metadata": {
    "collapsed": true
   },
   "outputs": [],
   "source": [
    "W_3, b_3, avg_cost_func_3 = train_nn(nn_structure1, trainX, trainYvec, 3000,act_func=3)"
   ]
  },
  {
   "cell_type": "code",
   "execution_count": null,
   "metadata": {
    "collapsed": true
   },
   "outputs": [],
   "source": [
    "W_4, b_4, avg_cost_func_4 = train_nn(nn_structure2, trainX, trainYvec, 3000,act_func=1)"
   ]
  },
  {
   "cell_type": "code",
   "execution_count": null,
   "metadata": {
    "collapsed": true
   },
   "outputs": [],
   "source": [
    "W_5, b_5, avg_cost_func_5 = train_nn(nn_structure3, trainX, trainYvec, 3000,act_func=1)"
   ]
  },
  {
   "cell_type": "code",
   "execution_count": null,
   "metadata": {
    "collapsed": true
   },
   "outputs": [],
   "source": [
    "W_6, b_6, avg_cost_func_6 = train_nn(nn_structure4, trainX, trainYvec, 3000,act_func=1)"
   ]
  },
  {
   "cell_type": "code",
   "execution_count": null,
   "metadata": {
    "collapsed": true
   },
   "outputs": [],
   "source": [
    "W_7, b_7, avg_cost_func_7 = train_nn(nn_structure5, trainX, trainYvec, 3000,act_func=1)"
   ]
  },
  {
   "cell_type": "code",
   "execution_count": null,
   "metadata": {
    "collapsed": true
   },
   "outputs": [],
   "source": [
    "plt.plot(avg_cost_func_1)\n",
    "plt.ylabel('Average J')\n",
    "plt.xlabel('Iteration number')\n",
    "plt.show()\n",
    "\n",
    "predY = predict_y(W_1, b_1, testX, 3)\n",
    "print('Prediction accuracy is {}%'.format(accuracy_score(testYvec, predY) * 100))"
   ]
  },
  {
   "cell_type": "code",
   "execution_count": null,
   "metadata": {
    "collapsed": true
   },
   "outputs": [],
   "source": [
    "plt.plot(avg_cost_func_2)\n",
    "plt.ylabel('Average J')\n",
    "plt.xlabel('Iteration number')\n",
    "plt.show()\n",
    "\n",
    "predY = predict_y(W_2, b_2, testX, 3)\n",
    "print('Prediction accuracy is {}%'.format(accuracy_score(testYvec, predY) * 100))"
   ]
  },
  {
   "cell_type": "code",
   "execution_count": null,
   "metadata": {
    "collapsed": true
   },
   "outputs": [],
   "source": [
    "plt.plot(avg_cost_func_3)\n",
    "plt.ylabel('Average J')\n",
    "plt.xlabel('Iteration number')\n",
    "plt.show()\n",
    "\n",
    "predY = predict_y(W_3, b_3, testX, 3)\n",
    "print('Prediction accuracy is {}%'.format(accuracy_score(testYvec, predY) * 100))"
   ]
  },
  {
   "cell_type": "code",
   "execution_count": null,
   "metadata": {
    "collapsed": true
   },
   "outputs": [],
   "source": [
    "plt.plot(avg_cost_func_4)\n",
    "plt.ylabel('Average J')\n",
    "plt.xlabel('Iteration number')\n",
    "plt.show()\n",
    "\n",
    "predY = predict_y(W_4, b_4, testX, 3)\n",
    "print('Prediction accuracy is {}%'.format(accuracy_score(testYvec, predY) * 100))"
   ]
  },
  {
   "cell_type": "code",
   "execution_count": null,
   "metadata": {
    "collapsed": true
   },
   "outputs": [],
   "source": [
    "plt.plot(avg_cost_func_5)\n",
    "plt.ylabel('Average J')\n",
    "plt.xlabel('Iteration number')\n",
    "plt.show()\n",
    "\n",
    "predY = predict_y(W_5, b_5, testX, 3)\n",
    "print('Prediction accuracy is {}%'.format(accuracy_score(testYvec, predY) * 100))"
   ]
  },
  {
   "cell_type": "code",
   "execution_count": null,
   "metadata": {
    "collapsed": true
   },
   "outputs": [],
   "source": [
    "plt.plot(avg_cost_func_6)\n",
    "plt.ylabel('Average J')\n",
    "plt.xlabel('Iteration number')\n",
    "plt.show()\n",
    "\n",
    "predY = predict_y(W_6, b_6, testX, 3)\n",
    "print('Prediction accuracy is {}%'.format(accuracy_score(testYvec, predY) * 100))"
   ]
  },
  {
   "cell_type": "code",
   "execution_count": null,
   "metadata": {
    "collapsed": true
   },
   "outputs": [],
   "source": [
    "plt.plot(avg_cost_func_7)\n",
    "plt.ylabel('Average J')\n",
    "plt.xlabel('Iteration number')\n",
    "plt.show()\n",
    "\n",
    "predY = predict_y(W_7, b_7, testX, 3)\n",
    "print('Prediction accuracy is {}%'.format(accuracy_score(testYvec, predY) * 100))"
   ]
  }
 ],
 "metadata": {
  "anaconda-cloud": {},
  "kernelspec": {
   "display_name": "Python [Root]",
   "language": "python",
   "name": "Python [Root]"
  },
  "language_info": {
   "codemirror_mode": {
    "name": "ipython",
    "version": 3
   },
   "file_extension": ".py",
   "mimetype": "text/x-python",
   "name": "python",
   "nbconvert_exporter": "python",
   "pygments_lexer": "ipython3",
   "version": "3.5.2"
  }
 },
 "nbformat": 4,
 "nbformat_minor": 0
}
