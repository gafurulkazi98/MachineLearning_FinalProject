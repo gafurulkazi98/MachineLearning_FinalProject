{
 "cells": [
  {
   "cell_type": "markdown",
   "metadata": {},
   "source": [
    "Setup"
   ]
  },
  {
   "cell_type": "code",
   "execution_count": 1,
   "metadata": {
    "collapsed": false
   },
   "outputs": [],
   "source": [
    "from sklearn.linear_model import LogisticRegression\n",
    "from sklearn import svm\n",
    "from sklearn import preprocessing\n",
    "from sklearn.model_selection import train_test_split\n",
    "from sklearn.metrics import accuracy_score\n",
    "from sklearn.metrics import classification_report\n",
    "from sklearn.metrics import precision_recall_fscore_support\n",
    "from sklearn import linear_model\n",
    "#from plotly import tools\n",
    "import numpy.random as r\n",
    "#import plotly.plotly as py\n",
    "#import plotly.graph_obj as go\n",
    "#from keras import backend as K\n",
    "#from keras.layers import Sequential\n",
    "#from keras.layers import Dense\n",
    "import numpy as np\n",
    "import pandas as pd\n",
    "import math\n",
    "\n",
    "import matplotlib.pyplot as plt\n",
    "import numpy.polynomial.polynomial as poly\n",
    "%matplotlib inline"
   ]
  },
  {
   "cell_type": "code",
   "execution_count": 2,
   "metadata": {
    "collapsed": false
   },
   "outputs": [],
   "source": [
    "df = pd.read_csv(\"qudditch_training.csv\")\n",
    "df.drop([\"id\",\"player_id\",\"weight\",\"foul_type_id\",\"game_move_id\",\"penalty_id\",\"player_code\",\"move_speciality\",\"snitchnip\",\n",
    "         \"checking\",\"dopplebeater_defence\",\"hawkshead_attacking_formation\",\"no_hands_tackle\",\"power_play\",\"spiral_dive\",\n",
    "         \"starfish_and_stick\",\"twirl\",\"wronski_feint\",\"zig-zag\",\"bludger_backbeat\",\"chelmondiston_charge\",\n",
    "         \"dionysus_dive\",\"double_eight_loop\",\"finbourgh_flick\",\"parkins_pincer\",\"plumpton_pass\",\"porskoff_ploy\",\n",
    "         \"transylvanian_tackle\",\"woollongong_shimmy\"],axis=1,inplace=True)\n",
    "df = (df[~pd.isnull(df).any(axis=1)])"
   ]
  },
  {
   "cell_type": "code",
   "execution_count": null,
   "metadata": {
    "collapsed": true
   },
   "outputs": [],
   "source": []
  },
  {
   "cell_type": "code",
   "execution_count": 3,
   "metadata": {
    "collapsed": true
   },
   "outputs": [],
   "source": [
    "Xlabels=['age', 'game_duration', 'num_game_moves',\n",
    "       'num_game_losses', 'num_practice_sessions', 'num_games_satout',\n",
    "       'num_games_injured', 'num_games_notpartof',\n",
    "       'num_games_won', 'stooging', 'body_blow', 'sloth_grip_roll',\n",
    "       'reverse_pass', 'change', 'snitch_caught',\n",
    "       'gryffindor','hufflepuff','ravenclaw','slytherin','female','male',\n",
    "       'beater','chaser','seeker']"
   ]
  },
  {
   "cell_type": "code",
   "execution_count": 4,
   "metadata": {
    "collapsed": false,
    "scrolled": true
   },
   "outputs": [
    {
     "name": "stdout",
     "output_type": "stream",
     "text": [
      "Index(['house', 'gender', 'age', 'game_duration', 'num_game_moves',\n",
      "       'num_game_losses', 'num_practice_sessions', 'num_games_satout',\n",
      "       'num_games_injured', 'num_games_notpartof', 'player_type',\n",
      "       'num_games_won', 'stooging', 'body_blow', 'sloth_grip_roll',\n",
      "       'reverse_pass', 'change', 'snitch_caught', 'quidditch_league_player'],\n",
      "      dtype='object')\n",
      "['Gryffindor' 'Female' 11.0 1.0 41.0 0.0 1.0 0.0 0.0 0.0 'Beater' 1.0\n",
      " 'None' 'No' 'No' 'No' 'No' 'No' 0.0]\n",
      "quidditch_league_player\n",
      "['Gryffindor' 'Female' 11.0 1.0 41.0 0.0 1.0 0.0 0.0 0.0 'Beater' 1.0 0.0\n",
      " 0.0 0.0 0.0 0.0 0.0 0.0]\n",
      "[[ 11.    1.   41.    0.    1.    0.    0.    0.    1.    0.    0.    0.\n",
      "    0.    0.    0.    1.    0.    0.    0.    1.    0.    1.    0.    0. ]\n",
      " [ 12.    3.   59.    0.   18.    0.    0.    0.    9.    0.    0.    0.\n",
      "    3.    1.    1.    1.    0.    0.    0.    1.    0.    1.    0.    0. ]\n",
      " [ 13.    2.   11.    5.   13.    2.    0.    1.    6.    0.    0.    2.\n",
      "    0.    0.    1.    0.    0.    0.    1.    1.    0.    0.    0.    0. ]\n",
      " [ 14.    2.   44.    1.   16.    0.    0.    0.    7.    0.    0.    0.\n",
      "    3.    1.    1.    1.    0.    0.    0.    0.    1.    0.    1.    0. ]\n",
      " [ 14.5   1.   51.    0.    8.    0.    0.    0.    5.    0.    0.    2.\n",
      "    2.    1.    1.    1.    0.    0.    0.    0.    1.    0.    1.    0. ]\n",
      " [ 15.    3.   31.    6.   16.    0.    0.    0.    9.    0.    0.    0.\n",
      "    2.    0.    1.    1.    0.    0.    0.    0.    1.    1.    0.    0. ]\n",
      " [ 15.5   4.   70.    1.   21.    0.    0.    0.    7.    0.    2.    0.\n",
      "    2.    1.    1.    1.    0.    0.    0.    0.    1.    1.    0.    0. ]\n",
      " [ 16.    5.   73.    0.   12.    0.    0.    0.    8.    0.    0.    0.\n",
      "    0.    0.    1.    1.    0.    0.    0.    0.    1.    1.    0.    0. ]\n",
      " [ 16.5  13.   68.    2.   28.    0.    0.    0.    8.    0.    0.    2.\n",
      "    2.    1.    1.    1.    0.    0.    0.    1.    0.    1.    0.    0. ]\n",
      " [ 17.   12.   33.    3.   18.    0.    0.    0.    8.    0.    0.    0.\n",
      "    2.    1.    1.    1.    0.    0.    0.    1.    0.    1.    0.    0. ]\n",
      " [ 14.5   9.   47.    2.   17.    0.    0.    0.    9.    0.    0.    0.\n",
      "    2.    0.    1.    0.    0.    0.    1.    1.    0.    1.    0.    0. ]\n",
      " [ 15.5   7.   62.    0.   11.    0.    0.    0.    7.    0.    0.    0.\n",
      "    2.    1.    1.    0.    0.    0.    1.    0.    1.    0.    1.    0. ]\n",
      " [ 14.5   7.   60.    0.   15.    0.    1.    0.    8.    0.    2.    0.\n",
      "    1.    1.    1.    1.    0.    0.    0.    1.    0.    1.    0.    0. ]\n",
      " [ 16.5  10.   55.    1.   31.    0.    0.    0.    8.    0.    0.    0.\n",
      "    2.    0.    1.    1.    0.    0.    0.    0.    1.    1.    0.    0. ]\n",
      " [ 15.5   1.   49.    5.    2.    0.    0.    0.    8.    0.    0.    0.\n",
      "    2.    0.    1.    0.    0.    0.    1.    1.    0.    0.    0.    0. ]\n",
      " [ 15.5  12.   75.    5.   13.    0.    0.    0.    9.    0.    0.    0.\n",
      "    3.    1.    1.    0.    0.    0.    1.    0.    1.    0.    0.    1. ]\n",
      " [ 15.    4.   45.    4.   17.    0.    0.    0.    8.    0.    0.    2.\n",
      "    2.    1.    1.    0.    0.    0.    1.    0.    1.    1.    0.    0. ]\n",
      " [ 15.    3.   29.    0.   11.    0.    0.    0.    3.    0.    0.    0.\n",
      "    0.    0.    1.    1.    0.    0.    0.    1.    0.    0.    0.    0. ]\n",
      " [ 16.    5.   35.    5.   23.    0.    0.    0.    9.    0.    0.    0.\n",
      "    2.    0.    1.    0.    0.    0.    1.    0.    1.    1.    0.    0. ]\n",
      " [ 16.    6.   42.    2.   23.    0.    0.    0.    8.    0.    0.    0.\n",
      "    2.    1.    1.    0.    0.    0.    0.    0.    1.    0.    0.    0. ]]\n",
      "[ 0.  1.  0.  0.  0.  1.  0.  1.  0.  0.  1.  1.  1.  0.  1.  0.  1.  0.\n",
      "  1.  0.]\n"
     ]
    }
   ],
   "source": [
    "print(df.columns)\n",
    "data = df.values\n",
    "X1 = data[0:101267] # This leaves 101265 entries.\n",
    "\n",
    "Y = data[:,-1]\n",
    "\n",
    "#Y1 = Y1=='YES'\n",
    "for i in range(len(Y)):\n",
    "    if Y[i]==\"NO\":\n",
    "        Y[i]=0.0\n",
    "    elif Y[i]==\"YES\":\n",
    "        Y[i]=1.0\n",
    "        \n",
    "Y=Y.astype('float')\n",
    "\n",
    "#Y = Y.reshape((Y.shape[0],1))\n",
    "\n",
    "gryffindor = np.zeros((X1.shape[0],1),dtype='float')\n",
    "hufflepuff = np.zeros((X1.shape[0],1),dtype='float')\n",
    "ravenclaw = np.zeros((X1.shape[0],1),dtype='float')\n",
    "slytherin = np.zeros((X1.shape[0],1),dtype='float')\n",
    "\n",
    "female = np.zeros((X1.shape[0],1))\n",
    "male = np.zeros((X1.shape[0],1))\n",
    "\n",
    "beater = np.zeros((X1.shape[0],1))\n",
    "chaser = np.zeros((X1.shape[0],1))\n",
    "seeker = np.zeros((X1.shape[0],1))\n",
    "\n",
    "print(X1[0])\n",
    "\n",
    "for row in range(len(X1)):\n",
    "    if X1[row][0]==\"Gryffindor\":\n",
    "        gryffindor[row]=1.0\n",
    "    elif X1[row][0]==\"Hufflepuff\":\n",
    "        hufflepuff[row]=1.0\n",
    "    elif X1[row][0]==\"Ravenclaw\":\n",
    "        ravenclaw[row]=1.0\n",
    "    elif X1[row][0]==\"Slytherin\":\n",
    "        slytherin[row]=1.0\n",
    "        \n",
    "    if X1[row][1]==\"Female\":\n",
    "        female[row]=1.0\n",
    "    elif X1[row][1]==\"Male\":\n",
    "        male[row]=1.0\n",
    "        \n",
    "#    if X1[row][7]==\"?\":\n",
    "#        X1[row][7]=0;\n",
    "#    else:\n",
    "#        X1[row][7]=float(X1[row][7])\n",
    "\n",
    "    if X1[row][10]==\"Beater\":\n",
    "        beater[row]=1.0\n",
    "    elif X1[row][10]==\"Chaser\":\n",
    "        chaser[row]=1.0\n",
    "    elif X1[row][10]==\"Seeker\":\n",
    "        seeker[row]=1.0\n",
    "        \n",
    "    if X1[row][12]==\"Norm\":\n",
    "        X1[row][12]=1.0\n",
    "    elif X1[row][12]==\">7\":\n",
    "        X1[row][12]=2.0\n",
    "    elif X1[row][12]==\">8\":\n",
    "        X1[row][12]=3.0\n",
    "    elif X1[row][12]==\"None\":\n",
    "        X1[row][12]=0.0\n",
    "    \n",
    "    if X1[row][13]==\"No\":\n",
    "        X1[row][13]=0.0\n",
    "    elif X1[row][13]==\"Down\":\n",
    "        X1[row][13]=1.0\n",
    "    elif X1[row][13]==\"Steady\":\n",
    "        X1[row][13]=2.0\n",
    "    elif X1[row][13]==\"Up\":\n",
    "        X1[row][13]=3.0\n",
    "        \n",
    "    if X1[row][14]==\"No\":\n",
    "        X1[row][14]=0.0\n",
    "    elif X1[row][14]==\"Down\":\n",
    "        X1[row][14]=1.0\n",
    "    elif X1[row][14]==\"Steady\":\n",
    "        X1[row][14]=2.0\n",
    "    elif X1[row][14]==\"Up\":\n",
    "        X1[row][14]=3.0\n",
    "        \n",
    "    if X1[row][15]==\"No\":\n",
    "        X1[row][15]=0.0\n",
    "    elif X1[row][15]==\"Down\":\n",
    "        X1[row][15]=1.0\n",
    "    elif X1[row][15]==\"Steady\":\n",
    "        X1[row][15]=2.0\n",
    "    elif X1[row][15]==\"Up\":\n",
    "        X1[row][15]=3.0\n",
    "        \n",
    "    if X1[row][-2]==\"No\":\n",
    "        X1[row][-2]=0.0\n",
    "    elif X1[row][-2]==\"Yes\":\n",
    "        X1[row][-2]=1.0\n",
    "\n",
    "    if X1[row][-3]==\"No\":\n",
    "        X1[row][-3]=0.0\n",
    "    elif X1[row][-3]==\"Ch\":\n",
    "        X1[row][-3]=1.0\n",
    "        \n",
    "print(df.columns[18])\n",
    "#X1[:,-2] = X1[:,-2]==\"Yes\"\n",
    "#X1[:,-3] = X1[:,-3]==\"Ch\"\n",
    "\n",
    "print(X1[0])\n",
    "\n",
    "X1 = np.hstack((X1,gryffindor,hufflepuff,ravenclaw,slytherin,female,male,beater,chaser,seeker))\n",
    "#X1: [\n",
    "#0'house', \n",
    "#1'gender', \n",
    "#2'age', \n",
    "#3'game_duration', \n",
    "#4'num_game_moves',\n",
    "#5'num_game_losses',\n",
    "#6'num_practice_sessions',\n",
    "#7'num_games_satout',\n",
    "#8'num_games_injured',\n",
    "#9'num_games_notpartof',\n",
    "#10'player_type',\n",
    "#11'num_games_won',\n",
    "#12'stooging',\n",
    "#13'body_blow',\n",
    "#14'sloth_grip_roll',\n",
    "#15'reverse_pass',\n",
    "#16'change',\n",
    "#17'snitch_caught',\n",
    "#    'quidditch_league_player'?\n",
    "#18'gryffindor',\n",
    "#19'hufflepuff',\n",
    "#20'ravenclaw',\n",
    "#21'slytherin',\n",
    "#22'female',\n",
    "#23'male',\n",
    "#24'beater',\n",
    "#25'chaser',\n",
    "#26'seeker']\n",
    "X = np.delete(X1,[0,1,10,18],1)\n",
    "\n",
    "Xlables=['age', 'game_duration', 'num_game_moves',\n",
    "       'num_game_losses', 'num_practice_sessions', 'num_games_satout',\n",
    "       'num_games_injured', 'num_games_notpartof',\n",
    "       'num_games_won', 'stooging', 'body_blow', 'sloth_grip_roll',\n",
    "       'reverse_pass', 'change', 'snitch_caught',\n",
    "       'gryffindor','hufflepuff','ravenclaw','slytherin','female','male',\n",
    "       'beater','chaser','seeker']\n",
    "\n",
    "row_num = 1\n",
    "column_num = 1\n",
    "for row in X:\n",
    "    for column in row:\n",
    "        if type(column) != float:\n",
    "            print(\"DING!\")\n",
    "            #print(\"row=\" + str(row_num) + \",\" + \" column=\" + str(column_num) + \" data= \")\n",
    "            #print(str(column) + \" not float but \")\n",
    "            #column = float(column)\n",
    "            #print(\"now the val is of type: \" + str(type(column)) + \"\\n\")\n",
    "        column_num += 1\n",
    "    row_num += 1\n",
    "\n",
    "X=X.astype('float')\n",
    "    \n",
    "print((X[0:20]))\n",
    "print(Y[0:20])\n",
    "\n",
    "\n",
    "#print(X[0:20,-6:-2])\n",
    "\n",
    "#print(X[0:20,-2:])"
   ]
  },
  {
   "cell_type": "code",
   "execution_count": 5,
   "metadata": {
    "collapsed": false
   },
   "outputs": [],
   "source": [
    "X_scale = preprocessing.scale(X)"
   ]
  },
  {
   "cell_type": "code",
   "execution_count": 6,
   "metadata": {
    "collapsed": true
   },
   "outputs": [],
   "source": [
    "Xp=preprocessing.PolynomialFeatures(degree=2)"
   ]
  },
  {
   "cell_type": "code",
   "execution_count": 100,
   "metadata": {
    "collapsed": false
   },
   "outputs": [],
   "source": [
    "djissjinc=preprocessing.scale(Y)"
   ]
  },
  {
   "cell_type": "code",
   "execution_count": 46,
   "metadata": {
    "collapsed": false
   },
   "outputs": [
    {
     "name": "stdout",
     "output_type": "stream",
     "text": [
      "[-0.92449372  1.08167311 -0.92449372 ..., -0.92449372 -0.92449372\n",
      " -0.92449372]\n"
     ]
    }
   ],
   "source": [
    "print(djissjinc)"
   ]
  },
  {
   "cell_type": "code",
   "execution_count": 7,
   "metadata": {
    "collapsed": true
   },
   "outputs": [],
   "source": [
    "trainX,testX,trainY,testY=train_test_split(X_scale,Y,test_size=0.3)"
   ]
  },
  {
   "cell_type": "code",
   "execution_count": 8,
   "metadata": {
    "collapsed": false
   },
   "outputs": [
    {
     "name": "stdout",
     "output_type": "stream",
     "text": [
      "24\n",
      "325\n"
     ]
    }
   ],
   "source": [
    "\n",
    "trainXpoly=Xp.fit_transform(trainX)\n",
    "testXpoly=Xp.fit_transform(testX)\n",
    "print(len(trainX[0]))\n",
    "print(len(trainXpoly[0]))"
   ]
  },
  {
   "cell_type": "code",
   "execution_count": 60,
   "metadata": {
    "collapsed": false,
    "scrolled": true
   },
   "outputs": [
    {
     "data": {
      "image/png": "[encoded data removed]",
      "text/plain": [
       "<matplotlib.figure.Figure at 0x20c953d5668>"
      ]
     },
     "metadata": {},
     "output_type": "display_data"
    },
    {
     "data": {
      "image/png": "[encoded data removed]",
      "text/plain": [
       "<matplotlib.figure.Figure at 0x20c94d1c0f0>"
      ]
     },
     "metadata": {},
     "output_type": "display_data"
    },
    {
     "data": {
      "image/png": "[encoded data removed]",
      "text/plain": [
       "<matplotlib.figure.Figure at 0x20c93c50c88>"
      ]
     },
     "metadata": {},
     "output_type": "display_data"
    },
    {
     "data": {
      "image/png": "[encoded data removed]",
      "text/plain": [
       "<matplotlib.figure.Figure at 0x20c953cabe0>"
      ]
     },
     "metadata": {},
     "output_type": "display_data"
    },
    {
     "data": {
      "image/png": "[encoded data removed]",
      "text/plain": [
       "<matplotlib.figure.Figure at 0x20c8b7d0908>"
      ]
     },
     "metadata": {},
     "output_type": "display_data"
    },
    {
     "data": {
      "image/png": "[encoded data removed]",
      "text/plain": [
       "<matplotlib.figure.Figure at 0x20c8973f668>"
      ]
     },
     "metadata": {},
     "output_type": "display_data"
    },
    {
     "data": {
      "image/png": "[encoded data removed]",
      "text/plain": [
       "<matplotlib.figure.Figure at 0x20c953c9b00>"
      ]
     },
     "metadata": {},
     "output_type": "display_data"
    },
    {
     "data": {
      "image/png": "[encoded data removed]",
      "text/plain": [
       "<matplotlib.figure.Figure at 0x20c95bfce10>"
      ]
     },
     "metadata": {},
     "output_type": "display_data"
    },
    {
     "data": {
      "image/png": "[encoded data removed]",
      "text/plain": [
       "<matplotlib.figure.Figure at 0x20c93c69ef0>"
      ]
     },
     "metadata": {},
     "output_type": "display_data"
    },
    {
     "data": {
      "image/png": "[encoded data removed]",
      "text/plain": [
       "<matplotlib.figure.Figure at 0x20c954054e0>"
      ]
     },
     "metadata": {},
     "output_type": "display_data"
    },
    {
     "data": {
      "image/png": "[encoded data removed]",
      "text/plain": [
       "<matplotlib.figure.Figure at 0x20c94412518>"
      ]
     },
     "metadata": {},
     "output_type": "display_data"
    },
    {
     "data": {
      "image/png": "[encoded data removed]",
      "text/plain": [
       "<matplotlib.figure.Figure at 0x20c94cfec18>"
      ]
     },
     "metadata": {},
     "output_type": "display_data"
    },
    {
     "data": {
      "image/png": "[encoded data removed]",
      "text/plain": [
       "<matplotlib.figure.Figure at 0x20c93c63400>"
      ]
     },
     "metadata": {},
     "output_type": "display_data"
    },
    {
     "data": {
      "image/png": "[encoded data removed]",
      "text/plain": [
       "<matplotlib.figure.Figure at 0x20c8c609588>"
      ]
     },
     "metadata": {},
     "output_type": "display_data"
    },
    {
     "data": {
      "image/png": "[encoded data removed]",
      "text/plain": [
       "<matplotlib.figure.Figure at 0x20c8c650630>"
      ]
     },
     "metadata": {},
     "output_type": "display_data"
    },
    {
     "data": {
      "image/png": "[encoded data removed]",
      "text/plain": [
       "<matplotlib.figure.Figure at 0x20c8c619240>"
      ]
     },
     "metadata": {},
     "output_type": "display_data"
    },
    {
     "data": {
      "image/png": "[encoded data removed]",
      "text/plain": [
       "<matplotlib.figure.Figure at 0x20c8c62dac8>"
      ]
     },
     "metadata": {},
     "output_type": "display_data"
    },
    {
     "data": {
      "image/png": "[encoded data removed]",
      "text/plain": [
       "<matplotlib.figure.Figure at 0x20c953bd908>"
      ]
     },
     "metadata": {},
     "output_type": "display_data"
    },
    {
     "data": {
      "image/png": "[encoded data removed]",
      "text/plain": [
       "<matplotlib.figure.Figure at 0x20c95395b00>"
      ]
     },
     "metadata": {},
     "output_type": "display_data"
    },
    {
     "data": {
      "image/png": "[encoded data removed]",
      "text/plain": [
       "<matplotlib.figure.Figure at 0x20c8c5e5da0>"
      ]
     },
     "metadata": {},
     "output_type": "display_data"
    },
    {
     "data": {
      "image/png": "[encoded data removed]",
      "text/plain": [
       "<matplotlib.figure.Figure at 0x20c8d8970b8>"
      ]
     },
     "metadata": {},
     "output_type": "display_data"
    },
    {
     "data": {
      "image/png": "[encoded data removed]",
      "text/plain": [
       "<matplotlib.figure.Figure at 0x20c8c016da0>"
      ]
     },
     "metadata": {},
     "output_type": "display_data"
    },
    {
     "data": {
      "image/png": "[encoded data removed]",
      "text/plain": [
       "<matplotlib.figure.Figure at 0x20c912bdb70>"
      ]
     },
     "metadata": {},
     "output_type": "display_data"
    },
    {
     "data": {
      "image/png": "[encoded data removed]",
      "text/plain": [
       "<matplotlib.figure.Figure at 0x20c8d871e48>"
      ]
     },
     "metadata": {},
     "output_type": "display_data"
    }
   ],
   "source": [
    "# Unsupervised Analysis\n",
    "# Plot every x parameter with y\n",
    "\n",
    "for i in range(24):\n",
    "    #fig=plt.subplot(24,1,i+1)\n",
    "    plt.xlabel(Xlabels[i])\n",
    "    plt.scatter(X[:,i],len(X)*[0],c=Y,cmap=\"autumn\")\n",
    "    plt.show()\n",
    "\n",
    "# We gotta change this so that every pair of features are plotted in subplots."
   ]
  },
  {
   "cell_type": "code",
   "execution_count": null,
   "metadata": {
    "collapsed": false,
    "scrolled": true
   },
   "outputs": [],
   "source": [
    "# Plot every pair of x parameters with y\n",
    "\n",
    "# We gotta change this so that every pair of features are plotted in subplots.\n",
    "[1,2,3,4,5,6,7]\n",
    "#for i in :\n",
    "#    for j in []:\n",
    "#        if i!=j:\n",
    "            #fig = plt.subplot(276,1,i+1)\n",
    "plt.xlabel(Xlabels[1])\n",
    "plt.ylabel(Xlabels[2])\n",
    "plt.scatter(X[:,i],X[:,j],c=Y,cmap='autumn')\n",
    "plt.show()"
   ]
  },
  {
   "cell_type": "markdown",
   "metadata": {},
   "source": [
    "Logistic Regression"
   ]
  },
  {
   "cell_type": "code",
   "execution_count": 1,
   "metadata": {
    "collapsed": false
   },
   "outputs": [
    {
     "ename": "NameError",
     "evalue": "name 'Y' is not defined",
     "output_type": "error",
     "traceback": [
      "\u001b[1;31m---------------------------------------------------------------------------\u001b[0m",
      "\u001b[1;31mNameError\u001b[0m                                 Traceback (most recent call last)",
      "\u001b[1;32m<ipython-input-1-f8caf16cb8f9>\u001b[0m in \u001b[0;36m<module>\u001b[1;34m()\u001b[0m\n\u001b[1;32m----> 1\u001b[1;33m \u001b[0mY\u001b[0m\u001b[1;33m\u001b[0m\u001b[0m\n\u001b[0m",
      "\u001b[1;31mNameError\u001b[0m: name 'Y' is not defined"
     ]
    }
   ],
   "source": [
    "Y"
   ]
  },
  {
   "cell_type": "code",
   "execution_count": 20,
   "metadata": {
    "collapsed": false,
    "scrolled": false
   },
   "outputs": [],
   "source": [
    "# Variations:\n",
    "# Regularization (use L1 and L2)\n",
    "# Polynomial transformation\n",
    "# c values\n",
    "\n",
    "#this is from the slides for logisitic regression\n",
    "#clf = LogisticRegression(solver='lbfgs',multi_class='multinomial')\n",
    "#clf.fit(trainX, trainY)\n",
    "#yhat_test = clf.predict(testX)\n",
    "#score = clf.score(testX, testY)\n",
    "\n",
    "#helpful link for log reg: https://towardsdatascience.com/logistic-regression-a-simplified-approach-using-python-c4bc81a87c31\\n\",\n",
    "\n",
    "#train test split:\\n\",\n",
    "#preprocessing to scale the data and use train_test_split to split the data (70% train and 30% test)\\n\",\n",
    "\n",
    "#x_train, x_test, y_train, y_test = train_test_split(x_scale, Y)\n",
    "#print(x_train.shape)\n",
    "#print(y_train.shape)\n",
    "\n",
    "#this trains and predicts\\n\",\n",
    "#logmodel = LogisticRegression()\n",
    "#logmodel.fit(X_train,y_train)\n",
    "#predictions = logmodel.predict(X_test)\n",
    "\n",
    "#check precision, recall, f1-score using classification report\\n\",\n",
    "#print(classification_report(y_test,predictions))\n",
    "\n",
    "#another option found in hw5\n",
    "#log reg with lasso(l1) regularization\n",
    "# Initialize an empty list to store values of training set accuracy.\n",
    "acc_train_logreg = []\n",
    "# Initialize an empty list to store values of test set accuracy.\n",
    "acc_test_logreg = []\n",
    "# Initialize an empty list to store different values of parameter 'c'.\n",
    "c_logreg = []\n",
    "# Complete the function logreg that accepts 'c' as a parameter, which is used to create logreg model \n",
    "# with different values of C.\n",
    "def logreg_model(c , X_train, Y_train, X_test, Y_test,reg=None, max_iter=200):\n",
    "    # Create an object of logistic regression model using linear_model.\n",
    "    # Pass the value of penalty as 'L1'. By default, it is 'L2'.\n",
    "    # Pass the value of C = c. Note that C is the inverse of lambda. So, small value of C i.e. b/w 0 and 1 \\n\",\n",
    "    # means stronger regularization and large value means less regularization.\\n\",\n",
    "    # Also, in sklearn, L1 is only supported with solver = 'saga'. Solver is the type of optimization algorithm like GDA or\\n\",\n",
    "    # SGDA, which is to be used. So, 'saga' is another algorithm like that. Pass the value of solver as 'saga\n",
    "    #Create the Logistic Regression model object as described above and save it to logreg\\n\",\n",
    "    \n",
    "    if reg==\"LASSO\" or reg==\"Lasso\" or reg==\"lasso\" or reg==\"l2\" or reg==None:\n",
    "        logreg = linear_model.LogisticRegression(C=c,penalty='l2', warm_start=True, solver='saga')\n",
    "    elif reg==\"Ridge\" or reg==\"ridge\" or reg==\"l1\":\n",
    "        logreg = linear_model.LogisticRegression(C=c,penalty='l1', warm_start=True, solver='saga')\n",
    "    \n",
    "    #Fit the model on the training set\\n\",\n",
    "    logreg.fit(X_train, Y_train)\n",
    "    \n",
    "    #Find the prediction on training set\\n\",\n",
    "    Yhat_train = logreg.predict(X_train)\n",
    "    \n",
    "    # Adding training accuracy to acc_train_logreg\\n\",\n",
    "    acc_train = np.mean(Yhat_train == Y_train)\n",
    "    acc_train_logreg.append(acc_train)\n",
    "    print(\"Accuracy on training data = %f\" % acc_train)\n",
    "    \n",
    "    #Find the prediction on test set\\n\",\n",
    "    Yhat_test = logreg.predict(X_test)\n",
    "    \n",
    "    # Adding testing accuracy to acc_test_logreg\\n\",\n",
    "    acc_test = np.mean(Yhat_test == Y_test)\n",
    "    acc_test_logreg.append(acc_test)\n",
    "    print(\"Accuracy on test data = %f\" % acc_test)\n",
    "    \n",
    "    tpTest=0\n",
    "    tnTest=0\n",
    "    fpTest=0\n",
    "    fnTest=0\n",
    "    \n",
    "    for i in len(Y_test):\n",
    "        if Y_test[i]==1:\n",
    "            if Yhat_test==1:\n",
    "                tpTest+=1\n",
    "            else:\n",
    "                fnTest+=1\n",
    "        else:\n",
    "            if Yhat_test==0:\n",
    "                tnTest+=1\n",
    "            else:\n",
    "                fpTest+=1\n",
    "                \n",
    "    print(\"True+: \" + str(tpTest) + \", True-: \" + str(tnTest) + \", False+: \" + str(fpTest) + \"False-: \" + str(fnTest)\n",
    "\n",
    "    # Appending value of c for graphing purposes\\n\",\n",
    "    c_logreg.append(c)\n",
    "    print(logreg.coef_)\n",
    "    print(logreg.intercept_)"
   ]
  },
  {
   "cell_type": "code",
   "execution_count": 21,
   "metadata": {
    "collapsed": false
   },
   "outputs": [
    {
     "name": "stdout",
     "output_type": "stream",
     "text": [
      "<class 'numpy.float64'>\n",
      "Accuracy on training data = 0.618359\n",
      "Accuracy on tesr data = 0.617347\n",
      "[[ 0.02457421  0.04787359  0.02478385 -0.07802942 -0.00463184  0.10448074\n",
      "   0.18672379  0.42429047  0.14133565 -0.009965   -0.05728957  0.01983124\n",
      "  -0.0424602   0.04019429  0.11160241  0.11273499  0.01417475  0.00164264\n",
      "   0.08692816  0.01232175 -0.01111959  0.07973741 -0.05221143  0.0068752 ]]\n",
      "[-0.14606424]\n",
      "Accuracy on training data = 0.619403\n",
      "Accuracy on tesr data = 0.618104\n",
      "[[ 0.02521293  0.05029322  0.02516267 -0.07942416 -0.0087509   0.10745618\n",
      "   0.20648489  0.45815245  0.14583485 -0.00875623 -0.06254248  0.01877918\n",
      "  -0.05370846  0.04313915  0.12411174  0.1657147   0.03149754  0.01144915\n",
      "   0.13640276  0.01573877 -0.00765928  0.08431309 -0.05431293  0.00876223]]\n",
      "[-0.14288796]\n"
     ]
    },
    {
     "name": "stderr",
     "output_type": "stream",
     "text": [
      "C:\\Users\\Rafi\\AppData\\Local\\Continuum\\Anaconda3\\lib\\site-packages\\sklearn\\linear_model\\sag.py:326: ConvergenceWarning: The max_iter was reached which means the coef_ did not converge\n",
      "  \"the coef_ did not converge\", ConvergenceWarning)\n"
     ]
    },
    {
     "name": "stdout",
     "output_type": "stream",
     "text": [
      "Accuracy on training data = 0.619488\n",
      "Accuracy on tesr data = 0.618203\n",
      "[[ 0.02532148  0.05055856  0.02521836 -0.07952571 -0.00922992  0.10772928\n",
      "   0.20881813  0.46191617  0.14623581 -0.0085951  -0.06316941  0.01862642\n",
      "  -0.05502206  0.04350095  0.12559018  0.17467947  0.03449284  0.01314725\n",
      "   0.14481559  0.02623999  0.00288143  0.08481321 -0.054529    0.00898444]]\n",
      "[-0.14253727]\n",
      "Accuracy on training data = 0.619530\n",
      "Accuracy on tesr data = 0.618137\n",
      "[[ 0.02533314  0.05058535  0.02522427 -0.07953538 -0.00927858  0.1077562\n",
      "   0.20905569  0.4622966   0.14627494 -0.00857845 -0.06323345  0.01861053\n",
      "  -0.05515555  0.04353806  0.1257409   0.17564036  0.03481458  0.01332966\n",
      "   0.14571777  0.02733445  0.00398047  0.08486374 -0.05455064  0.00900714]]\n",
      "[-0.14250211]\n",
      "Accuracy on training data = 0.619530\n",
      "Accuracy on tesr data = 0.618137\n",
      "[[ 0.02533432  0.05058804  0.02522487 -0.07953634 -0.00928346  0.10775888\n",
      "   0.20907949  0.46233468  0.14627885 -0.00857679 -0.06323985  0.01860892\n",
      "  -0.05516894  0.04354179  0.12575598  0.17573681  0.03484689  0.01334797\n",
      "   0.14580834  0.02805146  0.00469794  0.0848688  -0.05455281  0.00900947]]\n",
      "[-0.14249861]\n",
      "Accuracy on training data = 0.619530\n",
      "Accuracy on tesr data = 0.618137\n",
      "[[ 0.02533443  0.05058828  0.02522492 -0.07953644 -0.00928394  0.10775915\n",
      "   0.20908187  0.4623385   0.14627921 -0.00857661 -0.06324053  0.01860878\n",
      "  -0.05517024  0.04354214  0.12575747  0.1757466   0.03485016  0.01334983\n",
      "   0.14581752  0.02836691  0.00501343  0.08486931 -0.05455302  0.00900965]]\n",
      "[-0.14249829]\n"
     ]
    }
   ],
   "source": [
    "clist = [0.001,0.01,0.1,1,10,100]\n",
    "print(type(trainY[0]))\n",
    "for c in clist:\n",
    "    logreg_model(c,trainX,trainY,testX,testY,'LASSO')"
   ]
  },
  {
   "cell_type": "code",
   "execution_count": null,
   "metadata": {
    "collapsed": true
   },
   "outputs": [],
   "source": [
    "print "
   ]
  },
  {
   "cell_type": "code",
   "execution_count": 22,
   "metadata": {
    "collapsed": false
   },
   "outputs": [
    {
     "name": "stdout",
     "output_type": "stream",
     "text": [
      "Accuracy on training data = 0.615890\n",
      "Accuracy on tesr data = 0.612311\n",
      "[[ 0.          0.          0.         -0.01592623  0.          0.05545236\n",
      "   0.08705064  0.40786189  0.11889343  0.          0.          0.          0.\n",
      "   0.          0.04978564  0.          0.          0.          0.          0.\n",
      "   0.          0.03715365 -0.00288116  0.        ]]\n",
      "[-0.14947138]\n",
      "Accuracy on training data = 0.619107\n",
      "Accuracy on tesr data = 0.618071\n",
      "[[ 0.02196725  0.04150307  0.01781696 -0.07575727  0.          0.10149556\n",
      "   0.1949988   0.45762942  0.14390549 -0.00091226 -0.05043363  0.01689288\n",
      "  -0.03716677  0.03102299  0.11131197  0.1023954   0.00490385  0.\n",
      "   0.07618102  0.01833195  0.          0.075376   -0.0510457   0.        ]]\n",
      "[-0.14295289]\n",
      "Accuracy on training data = 0.619347\n",
      "Accuracy on tesr data = 0.618005\n",
      "[[ 0.02500565  0.04947833  0.02440109 -0.07933153 -0.00779074  0.10709344\n",
      "   0.20763099  0.46183795  0.14597228 -0.00777158 -0.06197858  0.01843468\n",
      "  -0.0534026   0.0422133   0.12426513  0.16761198  0.03161036  0.01122587\n",
      "   0.13815293  0.02286445  0.          0.08384466 -0.05421517  0.00797708]]\n",
      "[-0.14253022]\n",
      "Accuracy on training data = 0.619530\n",
      "Accuracy on tesr data = 0.618137\n",
      "[[ 0.02529924  0.05047621  0.02514257 -0.07951304 -0.00913675  0.10769216\n",
      "   0.20893548  0.46228894  0.1462495  -0.00849525 -0.06311485  0.01859265\n",
      "  -0.0549935   0.0434097   0.12560907  0.17493472  0.03452622  0.01313787\n",
      "   0.14504967  0.02334095  0.          0.08476875 -0.05451891  0.00890561]]\n",
      "[-0.14250125]\n"
     ]
    },
    {
     "name": "stderr",
     "output_type": "stream",
     "text": [
      "C:\\Users\\Rafi\\AppData\\Local\\Continuum\\Anaconda3\\lib\\site-packages\\sklearn\\linear_model\\sag.py:326: ConvergenceWarning: The max_iter was reached which means the coef_ did not converge\n",
      "  \"the coef_ did not converge\", ConvergenceWarning)\n"
     ]
    },
    {
     "name": "stdout",
     "output_type": "stream",
     "text": [
      "Accuracy on training data = 0.619530\n",
      "Accuracy on tesr data = 0.618137\n",
      "[[ 0.02533092  0.05057736  0.02521703 -0.07953375 -0.00926961  0.10775238\n",
      "   0.2090673   0.46233367  0.1462764  -0.00856881 -0.0632275   0.01860685\n",
      "  -0.05515338  0.04352947  0.12574257  0.17565847  0.03481554  0.01332737\n",
      "   0.1457344   0.0405688   0.01721434  0.0848594  -0.05454962  0.00900074]]\n",
      "[-0.14249869]\n",
      "Accuracy on training data = 0.619530\n",
      "Accuracy on tesr data = 0.618137\n",
      "[[ 0.02533422  0.05058756  0.0252245  -0.07953598 -0.00928283  0.10775842\n",
      "   0.20908057  0.4623381   0.14627906 -0.00857619 -0.0632387   0.01860821\n",
      "  -0.05516942  0.04354145  0.12575586  0.1757306   0.0348444   0.01334628\n",
      "   0.14580282  0.04305361  0.01970004  0.08486837 -0.05455276  0.00901036]]\n",
      "[-0.14249842]\n"
     ]
    }
   ],
   "source": [
    "for c in clist:\n",
    "    logreg_model(c,trainX,trainY,testX,testY,'Ridge')"
   ]
  },
  {
   "cell_type": "code",
   "execution_count": 23,
   "metadata": {
    "collapsed": false,
    "scrolled": true
   },
   "outputs": [
    {
     "name": "stderr",
     "output_type": "stream",
     "text": [
      "C:\\Users\\Rafi\\AppData\\Local\\Continuum\\Anaconda3\\lib\\site-packages\\sklearn\\linear_model\\sag.py:326: ConvergenceWarning: The max_iter was reached which means the coef_ did not converge\n",
      "  \"the coef_ did not converge\", ConvergenceWarning)\n"
     ]
    },
    {
     "name": "stdout",
     "output_type": "stream",
     "text": [
      "Accuracy on training data = 0.584445\n",
      "Accuracy on tesr data = 0.581501\n",
      "[[ -5.03498418e-03   3.45875821e-03   7.58701009e-03   5.41896688e-03\n",
      "   -5.61110810e-03   6.09878833e-03   8.91300662e-03   9.62218488e-03\n",
      "    2.56856049e-02   1.43355453e-02  -3.80140413e-04  -3.04692592e-03\n",
      "    2.95210211e-03   4.38230633e-03   6.18977982e-03   7.40519987e-03\n",
      "    2.48919891e-03   2.08823249e-04   2.33486122e-04   5.76767200e-04\n",
      "    2.08698610e-03  -2.07934791e-03   6.50548785e-03  -2.77498261e-03\n",
      "   -1.18549411e-03  -1.08676648e-02  -5.79126917e-03  -4.53601206e-03\n",
      "    1.14796129e-03  -3.90009680e-03  -2.32959812e-04  -5.36125953e-03\n",
      "   -8.30337716e-03  -7.75662786e-03   2.48923401e-03   2.81301883e-03\n",
      "    4.28634467e-04  -7.57300812e-04   1.83186116e-04   1.21247130e-03\n",
      "   -1.18755790e-03   1.04174190e-03   1.06770422e-03   1.23698441e-05\n",
      "   -2.58133409e-04   2.60465599e-04  -1.60450700e-03  -1.95020702e-03\n",
      "    1.12891002e-03  -1.61940094e-03  -4.37512560e-03   2.82834328e-03\n",
      "   -2.71700586e-03  -2.96544184e-04  -1.84681251e-03  -6.93233489e-04\n",
      "   -4.30988880e-03   8.73853006e-04   4.51237886e-04   3.85753768e-04\n",
      "   -2.44852573e-03  -2.84944884e-04  -1.60907987e-03  -1.42997621e-03\n",
      "    8.64577716e-04   5.26420689e-05   9.00143793e-04  -9.72474121e-05\n",
      "    9.83453913e-05  -8.25154337e-04  -1.21793332e-03   8.27813794e-04\n",
      "   -6.48362703e-03   2.25585033e-03  -3.15380185e-04   2.28400176e-03\n",
      "    1.27763080e-04   3.71825666e-04  -3.48143103e-03  -8.74896322e-04\n",
      "    1.14670808e-03   1.55969953e-04  -3.19448243e-03  -6.10573702e-04\n",
      "   -1.01972687e-03   7.38113098e-04   3.70888627e-04  -3.98102292e-04\n",
      "   -1.05138390e-03   5.94181574e-04  -5.91509787e-04  -1.93494156e-03\n",
      "   -1.56580324e-04  -1.18717007e-04  -9.15789565e-03  -6.55582549e-03\n",
      "   -1.22704584e-03   4.29612659e-04  -1.92120677e-03   1.05904314e-03\n",
      "    1.46130066e-03   1.48404926e-03  -1.04712887e-04  -6.26861407e-04\n",
      "   -1.89070632e-04  -9.53806700e-04  -1.69268048e-03   1.22240805e-03\n",
      "   -2.35115277e-04   1.85009726e-03  -7.09743202e-05   7.14824518e-05\n",
      "   -2.78630362e-03   6.26656434e-04   2.85264876e-03  -1.32321489e-02\n",
      "    1.13064069e-03  -3.29147833e-05   1.19319386e-03  -2.77229853e-03\n",
      "    1.90211850e-03  -1.09335520e-03  -9.80164249e-04  -3.03573784e-03\n",
      "   -2.47214579e-03  -4.07940282e-03  -5.67279204e-04   1.39766047e-03\n",
      "    7.64104148e-05  -2.79967941e-04   9.38123525e-04  -9.39938415e-04\n",
      "   -3.32076491e-04  -6.84900905e-04   3.15664173e-03   5.43507870e-03\n",
      "    2.17268702e-03   2.96631407e-03   3.62149429e-04   2.30425938e-04\n",
      "   -3.25455013e-04   3.84281322e-04  -7.50581552e-04  -1.05430543e-03\n",
      "   -1.25650228e-03   1.21054824e-03  -1.61033414e-04  -6.60530026e-04\n",
      "   -1.63279985e-03  -6.17849021e-04   6.16066086e-04   9.46067357e-04\n",
      "   -3.71688276e-04  -1.63230647e-04   1.70230291e-02   6.69641634e-03\n",
      "   -2.65209522e-04   9.00651207e-04   1.66780845e-04  -8.66813128e-04\n",
      "    8.20211840e-04  -2.70573863e-04  -2.49267054e-04  -1.08000798e-03\n",
      "    9.46154623e-04  -5.92880252e-04   5.33767776e-04   7.13674748e-04\n",
      "   -7.14803774e-04  -2.62943534e-04  -3.58716525e-04   6.55499762e-04\n",
      "    3.80758980e-02  -1.62932849e-03  -4.43759734e-04  -2.21406938e-03\n",
      "   -2.20584129e-03   9.76749784e-04  -9.39050554e-04  -1.21348894e-03\n",
      "   -1.61165408e-03   7.63096048e-04  -2.78535643e-04   1.47958921e-03\n",
      "   -1.15456657e-06  -1.31821724e-06   3.47932101e-04  -1.05363697e-03\n",
      "    9.64040761e-04  -1.69763459e-02   3.08227138e-03   1.54192803e-03\n",
      "   -1.67755941e-04  -1.95154561e-03  -1.35746329e-03  -1.07910284e-03\n",
      "   -2.08646051e-03   4.20597003e-05  -2.45378734e-04   6.77382190e-04\n",
      "   -1.01407091e-03   1.01351937e-03  -1.07648592e-03  -1.77856337e-04\n",
      "   -2.42788518e-04  -4.34052272e-03  -1.63953109e-03  -1.50387775e-03\n",
      "   -5.83262143e-04  -7.42346449e-04  -2.40953069e-03   6.56906101e-04\n",
      "   -2.22990872e-04  -3.16604253e-04   2.85435299e-04   1.51861203e-03\n",
      "   -1.52191278e-03  -1.76673232e-03   7.55482931e-04  -9.55117613e-05\n",
      "   -9.84989125e-03  -9.64827349e-04  -1.16573238e-03  -5.73121498e-03\n",
      "   -6.62610501e-03   1.11813121e-03  -1.15800093e-04  -1.40332957e-03\n",
      "   -8.98830594e-04   9.17707405e-04  -9.11626852e-04   5.78275207e-04\n",
      "    3.49918169e-04   1.47631852e-04   2.00985066e-03  -3.06632183e-03\n",
      "   -2.99852393e-03  -2.16462096e-03   1.95351876e-03   2.62684180e-04\n",
      "    2.34904884e-04  -2.09868651e-03  -1.83626268e-04   1.80846742e-04\n",
      "   -7.20481695e-04   1.17544498e-03   1.64409023e-05  -3.10892864e-03\n",
      "   -1.68321161e-03  -7.39240425e-03   1.81208322e-03   3.66310334e-04\n",
      "    6.22857467e-04  -2.15687877e-03   5.92043983e-04  -5.99443998e-04\n",
      "   -8.22281710e-04   4.92347483e-04   5.44703717e-04  -4.09316167e-03\n",
      "   -6.03096475e-03   1.51834463e-03  -6.09155020e-04  -2.85201799e-04\n",
      "   -1.43534078e-03   6.55231401e-04  -6.53943309e-04  -1.47112345e-04\n",
      "    1.25595323e-03   3.73078625e-06  -1.45430976e-02   2.16509111e-03\n",
      "   -3.21391773e-04  -1.52587328e-04  -1.81242490e-03   7.37725906e-04\n",
      "   -7.42013363e-04  -8.26372255e-04   9.93911528e-04   3.91384911e-04\n",
      "   -7.87512845e-03   5.24341198e-04   8.96793097e-05   1.98785860e-03\n",
      "    4.05826533e-04  -4.19363064e-04   9.48528816e-04  -5.34180579e-04\n",
      "   -1.65389291e-04  -3.60480887e-03   7.28643289e-06   1.64139410e-04\n",
      "   -7.21762907e-05   7.10524329e-05  -6.16733734e-04  -1.21554496e-04\n",
      "    7.71175161e-04  -2.11893373e-03   3.47171025e-05  -2.50880319e-05\n",
      "    2.44697537e-05  -4.53339836e-04   1.22534590e-03   2.58342842e-04\n",
      "   -4.11745873e-03  -5.58298396e-04   5.54502017e-04  -1.53595978e-04\n",
      "    1.97304036e-04  -5.35890854e-04  -5.35145418e-03   5.34303020e-03\n",
      "    2.26340124e-03  -4.46989127e-04  -6.08318311e-04  -5.35054446e-03\n",
      "   -2.27152785e-03   4.44512761e-04   6.27626843e-04  -5.91582062e-03\n",
      "    2.64369098e-03   8.09893303e-04  -1.37591130e-02   2.08439755e-03\n",
      "   -7.43930892e-03]]\n",
      "[-0.00505013]\n"
     ]
    },
    {
     "ename": "KeyboardInterrupt",
     "evalue": "",
     "output_type": "error",
     "traceback": [
      "\u001b[1;31m---------------------------------------------------------------------------\u001b[0m",
      "\u001b[1;31mKeyboardInterrupt\u001b[0m                         Traceback (most recent call last)",
      "\u001b[1;32m<ipython-input-23-c37419b7295b>\u001b[0m in \u001b[0;36m<module>\u001b[1;34m()\u001b[0m\n\u001b[0;32m      1\u001b[0m \u001b[1;31m#Use different feature pairs\u001b[0m\u001b[1;33m\u001b[0m\u001b[1;33m\u001b[0m\u001b[0m\n\u001b[0;32m      2\u001b[0m \u001b[1;32mfor\u001b[0m \u001b[0mc\u001b[0m \u001b[1;32min\u001b[0m \u001b[0mclist\u001b[0m\u001b[1;33m:\u001b[0m\u001b[1;33m\u001b[0m\u001b[0m\n\u001b[1;32m----> 3\u001b[1;33m     \u001b[0mlogreg_model\u001b[0m\u001b[1;33m(\u001b[0m\u001b[0mc\u001b[0m\u001b[1;33m,\u001b[0m\u001b[0mtrainXpoly\u001b[0m\u001b[1;33m,\u001b[0m\u001b[0mtrainY\u001b[0m\u001b[1;33m,\u001b[0m\u001b[0mtestXpoly\u001b[0m\u001b[1;33m,\u001b[0m\u001b[0mtestY\u001b[0m\u001b[1;33m,\u001b[0m\u001b[1;34m'LASSO'\u001b[0m\u001b[1;33m)\u001b[0m\u001b[1;33m\u001b[0m\u001b[0m\n\u001b[0m",
      "\u001b[1;32m<ipython-input-20-4669ef46c987>\u001b[0m in \u001b[0;36mlogreg_model\u001b[1;34m(c, X_train, Y_train, X_test, Y_test, reg, max_iter)\u001b[0m\n\u001b[0;32m     52\u001b[0m \u001b[1;33m\u001b[0m\u001b[0m\n\u001b[0;32m     53\u001b[0m     \u001b[1;31m#Fit the model on the training set\\n\",\u001b[0m\u001b[1;33m\u001b[0m\u001b[1;33m\u001b[0m\u001b[0m\n\u001b[1;32m---> 54\u001b[1;33m     \u001b[0mlogreg\u001b[0m\u001b[1;33m.\u001b[0m\u001b[0mfit\u001b[0m\u001b[1;33m(\u001b[0m\u001b[0mX_train\u001b[0m\u001b[1;33m,\u001b[0m \u001b[0mY_train\u001b[0m\u001b[1;33m)\u001b[0m\u001b[1;33m\u001b[0m\u001b[0m\n\u001b[0m\u001b[0;32m     55\u001b[0m \u001b[1;33m\u001b[0m\u001b[0m\n\u001b[0;32m     56\u001b[0m     \u001b[1;31m#Find the prediction on training set\\n\",\u001b[0m\u001b[1;33m\u001b[0m\u001b[1;33m\u001b[0m\u001b[0m\n",
      "\u001b[1;32mC:\\Users\\Rafi\\AppData\\Local\\Continuum\\Anaconda3\\lib\\site-packages\\sklearn\\linear_model\\logistic.py\u001b[0m in \u001b[0;36mfit\u001b[1;34m(self, X, y, sample_weight)\u001b[0m\n\u001b[0;32m   1289\u001b[0m                       \u001b[0mmax_squared_sum\u001b[0m\u001b[1;33m=\u001b[0m\u001b[0mmax_squared_sum\u001b[0m\u001b[1;33m,\u001b[0m\u001b[1;33m\u001b[0m\u001b[0m\n\u001b[0;32m   1290\u001b[0m                       sample_weight=sample_weight)\n\u001b[1;32m-> 1291\u001b[1;33m             for class_, warm_start_coef_ in zip(classes_, warm_start_coef))\n\u001b[0m\u001b[0;32m   1292\u001b[0m \u001b[1;33m\u001b[0m\u001b[0m\n\u001b[0;32m   1293\u001b[0m         \u001b[0mfold_coefs_\u001b[0m\u001b[1;33m,\u001b[0m \u001b[0m_\u001b[0m\u001b[1;33m,\u001b[0m \u001b[0mn_iter_\u001b[0m \u001b[1;33m=\u001b[0m \u001b[0mzip\u001b[0m\u001b[1;33m(\u001b[0m\u001b[1;33m*\u001b[0m\u001b[0mfold_coefs_\u001b[0m\u001b[1;33m)\u001b[0m\u001b[1;33m\u001b[0m\u001b[0m\n",
      "\u001b[1;32mC:\\Users\\Rafi\\AppData\\Local\\Continuum\\Anaconda3\\lib\\site-packages\\sklearn\\externals\\joblib\\parallel.py\u001b[0m in \u001b[0;36m__call__\u001b[1;34m(self, iterable)\u001b[0m\n\u001b[0;32m    777\u001b[0m             \u001b[1;31m# was dispatched. In particular this covers the edge\u001b[0m\u001b[1;33m\u001b[0m\u001b[1;33m\u001b[0m\u001b[0m\n\u001b[0;32m    778\u001b[0m             \u001b[1;31m# case of Parallel used with an exhausted iterator.\u001b[0m\u001b[1;33m\u001b[0m\u001b[1;33m\u001b[0m\u001b[0m\n\u001b[1;32m--> 779\u001b[1;33m             \u001b[1;32mwhile\u001b[0m \u001b[0mself\u001b[0m\u001b[1;33m.\u001b[0m\u001b[0mdispatch_one_batch\u001b[0m\u001b[1;33m(\u001b[0m\u001b[0miterator\u001b[0m\u001b[1;33m)\u001b[0m\u001b[1;33m:\u001b[0m\u001b[1;33m\u001b[0m\u001b[0m\n\u001b[0m\u001b[0;32m    780\u001b[0m                 \u001b[0mself\u001b[0m\u001b[1;33m.\u001b[0m\u001b[0m_iterating\u001b[0m \u001b[1;33m=\u001b[0m \u001b[1;32mTrue\u001b[0m\u001b[1;33m\u001b[0m\u001b[0m\n\u001b[0;32m    781\u001b[0m             \u001b[1;32melse\u001b[0m\u001b[1;33m:\u001b[0m\u001b[1;33m\u001b[0m\u001b[0m\n",
      "\u001b[1;32mC:\\Users\\Rafi\\AppData\\Local\\Continuum\\Anaconda3\\lib\\site-packages\\sklearn\\externals\\joblib\\parallel.py\u001b[0m in \u001b[0;36mdispatch_one_batch\u001b[1;34m(self, iterator)\u001b[0m\n\u001b[0;32m    623\u001b[0m                 \u001b[1;32mreturn\u001b[0m \u001b[1;32mFalse\u001b[0m\u001b[1;33m\u001b[0m\u001b[0m\n\u001b[0;32m    624\u001b[0m             \u001b[1;32melse\u001b[0m\u001b[1;33m:\u001b[0m\u001b[1;33m\u001b[0m\u001b[0m\n\u001b[1;32m--> 625\u001b[1;33m                 \u001b[0mself\u001b[0m\u001b[1;33m.\u001b[0m\u001b[0m_dispatch\u001b[0m\u001b[1;33m(\u001b[0m\u001b[0mtasks\u001b[0m\u001b[1;33m)\u001b[0m\u001b[1;33m\u001b[0m\u001b[0m\n\u001b[0m\u001b[0;32m    626\u001b[0m                 \u001b[1;32mreturn\u001b[0m \u001b[1;32mTrue\u001b[0m\u001b[1;33m\u001b[0m\u001b[0m\n\u001b[0;32m    627\u001b[0m \u001b[1;33m\u001b[0m\u001b[0m\n",
      "\u001b[1;32mC:\\Users\\Rafi\\AppData\\Local\\Continuum\\Anaconda3\\lib\\site-packages\\sklearn\\externals\\joblib\\parallel.py\u001b[0m in \u001b[0;36m_dispatch\u001b[1;34m(self, batch)\u001b[0m\n\u001b[0;32m    586\u001b[0m         \u001b[0mdispatch_timestamp\u001b[0m \u001b[1;33m=\u001b[0m \u001b[0mtime\u001b[0m\u001b[1;33m.\u001b[0m\u001b[0mtime\u001b[0m\u001b[1;33m(\u001b[0m\u001b[1;33m)\u001b[0m\u001b[1;33m\u001b[0m\u001b[0m\n\u001b[0;32m    587\u001b[0m         \u001b[0mcb\u001b[0m \u001b[1;33m=\u001b[0m \u001b[0mBatchCompletionCallBack\u001b[0m\u001b[1;33m(\u001b[0m\u001b[0mdispatch_timestamp\u001b[0m\u001b[1;33m,\u001b[0m \u001b[0mlen\u001b[0m\u001b[1;33m(\u001b[0m\u001b[0mbatch\u001b[0m\u001b[1;33m)\u001b[0m\u001b[1;33m,\u001b[0m \u001b[0mself\u001b[0m\u001b[1;33m)\u001b[0m\u001b[1;33m\u001b[0m\u001b[0m\n\u001b[1;32m--> 588\u001b[1;33m         \u001b[0mjob\u001b[0m \u001b[1;33m=\u001b[0m \u001b[0mself\u001b[0m\u001b[1;33m.\u001b[0m\u001b[0m_backend\u001b[0m\u001b[1;33m.\u001b[0m\u001b[0mapply_async\u001b[0m\u001b[1;33m(\u001b[0m\u001b[0mbatch\u001b[0m\u001b[1;33m,\u001b[0m \u001b[0mcallback\u001b[0m\u001b[1;33m=\u001b[0m\u001b[0mcb\u001b[0m\u001b[1;33m)\u001b[0m\u001b[1;33m\u001b[0m\u001b[0m\n\u001b[0m\u001b[0;32m    589\u001b[0m         \u001b[0mself\u001b[0m\u001b[1;33m.\u001b[0m\u001b[0m_jobs\u001b[0m\u001b[1;33m.\u001b[0m\u001b[0mappend\u001b[0m\u001b[1;33m(\u001b[0m\u001b[0mjob\u001b[0m\u001b[1;33m)\u001b[0m\u001b[1;33m\u001b[0m\u001b[0m\n\u001b[0;32m    590\u001b[0m \u001b[1;33m\u001b[0m\u001b[0m\n",
      "\u001b[1;32mC:\\Users\\Rafi\\AppData\\Local\\Continuum\\Anaconda3\\lib\\site-packages\\sklearn\\externals\\joblib\\_parallel_backends.py\u001b[0m in \u001b[0;36mapply_async\u001b[1;34m(self, func, callback)\u001b[0m\n\u001b[0;32m    109\u001b[0m     \u001b[1;32mdef\u001b[0m \u001b[0mapply_async\u001b[0m\u001b[1;33m(\u001b[0m\u001b[0mself\u001b[0m\u001b[1;33m,\u001b[0m \u001b[0mfunc\u001b[0m\u001b[1;33m,\u001b[0m \u001b[0mcallback\u001b[0m\u001b[1;33m=\u001b[0m\u001b[1;32mNone\u001b[0m\u001b[1;33m)\u001b[0m\u001b[1;33m:\u001b[0m\u001b[1;33m\u001b[0m\u001b[0m\n\u001b[0;32m    110\u001b[0m         \u001b[1;34m\"\"\"Schedule a func to be run\"\"\"\u001b[0m\u001b[1;33m\u001b[0m\u001b[0m\n\u001b[1;32m--> 111\u001b[1;33m         \u001b[0mresult\u001b[0m \u001b[1;33m=\u001b[0m \u001b[0mImmediateResult\u001b[0m\u001b[1;33m(\u001b[0m\u001b[0mfunc\u001b[0m\u001b[1;33m)\u001b[0m\u001b[1;33m\u001b[0m\u001b[0m\n\u001b[0m\u001b[0;32m    112\u001b[0m         \u001b[1;32mif\u001b[0m \u001b[0mcallback\u001b[0m\u001b[1;33m:\u001b[0m\u001b[1;33m\u001b[0m\u001b[0m\n\u001b[0;32m    113\u001b[0m             \u001b[0mcallback\u001b[0m\u001b[1;33m(\u001b[0m\u001b[0mresult\u001b[0m\u001b[1;33m)\u001b[0m\u001b[1;33m\u001b[0m\u001b[0m\n",
      "\u001b[1;32mC:\\Users\\Rafi\\AppData\\Local\\Continuum\\Anaconda3\\lib\\site-packages\\sklearn\\externals\\joblib\\_parallel_backends.py\u001b[0m in \u001b[0;36m__init__\u001b[1;34m(self, batch)\u001b[0m\n\u001b[0;32m    330\u001b[0m         \u001b[1;31m# Don't delay the application, to avoid keeping the input\u001b[0m\u001b[1;33m\u001b[0m\u001b[1;33m\u001b[0m\u001b[0m\n\u001b[0;32m    331\u001b[0m         \u001b[1;31m# arguments in memory\u001b[0m\u001b[1;33m\u001b[0m\u001b[1;33m\u001b[0m\u001b[0m\n\u001b[1;32m--> 332\u001b[1;33m         \u001b[0mself\u001b[0m\u001b[1;33m.\u001b[0m\u001b[0mresults\u001b[0m \u001b[1;33m=\u001b[0m \u001b[0mbatch\u001b[0m\u001b[1;33m(\u001b[0m\u001b[1;33m)\u001b[0m\u001b[1;33m\u001b[0m\u001b[0m\n\u001b[0m\u001b[0;32m    333\u001b[0m \u001b[1;33m\u001b[0m\u001b[0m\n\u001b[0;32m    334\u001b[0m     \u001b[1;32mdef\u001b[0m \u001b[0mget\u001b[0m\u001b[1;33m(\u001b[0m\u001b[0mself\u001b[0m\u001b[1;33m)\u001b[0m\u001b[1;33m:\u001b[0m\u001b[1;33m\u001b[0m\u001b[0m\n",
      "\u001b[1;32mC:\\Users\\Rafi\\AppData\\Local\\Continuum\\Anaconda3\\lib\\site-packages\\sklearn\\externals\\joblib\\parallel.py\u001b[0m in \u001b[0;36m__call__\u001b[1;34m(self)\u001b[0m\n\u001b[0;32m    129\u001b[0m \u001b[1;33m\u001b[0m\u001b[0m\n\u001b[0;32m    130\u001b[0m     \u001b[1;32mdef\u001b[0m \u001b[0m__call__\u001b[0m\u001b[1;33m(\u001b[0m\u001b[0mself\u001b[0m\u001b[1;33m)\u001b[0m\u001b[1;33m:\u001b[0m\u001b[1;33m\u001b[0m\u001b[0m\n\u001b[1;32m--> 131\u001b[1;33m         \u001b[1;32mreturn\u001b[0m \u001b[1;33m[\u001b[0m\u001b[0mfunc\u001b[0m\u001b[1;33m(\u001b[0m\u001b[1;33m*\u001b[0m\u001b[0margs\u001b[0m\u001b[1;33m,\u001b[0m \u001b[1;33m**\u001b[0m\u001b[0mkwargs\u001b[0m\u001b[1;33m)\u001b[0m \u001b[1;32mfor\u001b[0m \u001b[0mfunc\u001b[0m\u001b[1;33m,\u001b[0m \u001b[0margs\u001b[0m\u001b[1;33m,\u001b[0m \u001b[0mkwargs\u001b[0m \u001b[1;32min\u001b[0m \u001b[0mself\u001b[0m\u001b[1;33m.\u001b[0m\u001b[0mitems\u001b[0m\u001b[1;33m]\u001b[0m\u001b[1;33m\u001b[0m\u001b[0m\n\u001b[0m\u001b[0;32m    132\u001b[0m \u001b[1;33m\u001b[0m\u001b[0m\n\u001b[0;32m    133\u001b[0m     \u001b[1;32mdef\u001b[0m \u001b[0m__len__\u001b[0m\u001b[1;33m(\u001b[0m\u001b[0mself\u001b[0m\u001b[1;33m)\u001b[0m\u001b[1;33m:\u001b[0m\u001b[1;33m\u001b[0m\u001b[0m\n",
      "\u001b[1;32mC:\\Users\\Rafi\\AppData\\Local\\Continuum\\Anaconda3\\lib\\site-packages\\sklearn\\externals\\joblib\\parallel.py\u001b[0m in \u001b[0;36m<listcomp>\u001b[1;34m(.0)\u001b[0m\n\u001b[0;32m    129\u001b[0m \u001b[1;33m\u001b[0m\u001b[0m\n\u001b[0;32m    130\u001b[0m     \u001b[1;32mdef\u001b[0m \u001b[0m__call__\u001b[0m\u001b[1;33m(\u001b[0m\u001b[0mself\u001b[0m\u001b[1;33m)\u001b[0m\u001b[1;33m:\u001b[0m\u001b[1;33m\u001b[0m\u001b[0m\n\u001b[1;32m--> 131\u001b[1;33m         \u001b[1;32mreturn\u001b[0m \u001b[1;33m[\u001b[0m\u001b[0mfunc\u001b[0m\u001b[1;33m(\u001b[0m\u001b[1;33m*\u001b[0m\u001b[0margs\u001b[0m\u001b[1;33m,\u001b[0m \u001b[1;33m**\u001b[0m\u001b[0mkwargs\u001b[0m\u001b[1;33m)\u001b[0m \u001b[1;32mfor\u001b[0m \u001b[0mfunc\u001b[0m\u001b[1;33m,\u001b[0m \u001b[0margs\u001b[0m\u001b[1;33m,\u001b[0m \u001b[0mkwargs\u001b[0m \u001b[1;32min\u001b[0m \u001b[0mself\u001b[0m\u001b[1;33m.\u001b[0m\u001b[0mitems\u001b[0m\u001b[1;33m]\u001b[0m\u001b[1;33m\u001b[0m\u001b[0m\n\u001b[0m\u001b[0;32m    132\u001b[0m \u001b[1;33m\u001b[0m\u001b[0m\n\u001b[0;32m    133\u001b[0m     \u001b[1;32mdef\u001b[0m \u001b[0m__len__\u001b[0m\u001b[1;33m(\u001b[0m\u001b[0mself\u001b[0m\u001b[1;33m)\u001b[0m\u001b[1;33m:\u001b[0m\u001b[1;33m\u001b[0m\u001b[0m\n",
      "\u001b[1;32mC:\\Users\\Rafi\\AppData\\Local\\Continuum\\Anaconda3\\lib\\site-packages\\sklearn\\linear_model\\logistic.py\u001b[0m in \u001b[0;36mlogistic_regression_path\u001b[1;34m(X, y, pos_class, Cs, fit_intercept, max_iter, tol, verbose, solver, coef, class_weight, dual, penalty, intercept_scaling, multi_class, random_state, check_input, max_squared_sum, sample_weight)\u001b[0m\n\u001b[0;32m    752\u001b[0m                 \u001b[0mbeta\u001b[0m\u001b[1;33m,\u001b[0m \u001b[0mmax_iter\u001b[0m\u001b[1;33m,\u001b[0m \u001b[0mtol\u001b[0m\u001b[1;33m,\u001b[0m\u001b[1;33m\u001b[0m\u001b[0m\n\u001b[0;32m    753\u001b[0m                 \u001b[0mverbose\u001b[0m\u001b[1;33m,\u001b[0m \u001b[0mrandom_state\u001b[0m\u001b[1;33m,\u001b[0m \u001b[1;32mFalse\u001b[0m\u001b[1;33m,\u001b[0m \u001b[0mmax_squared_sum\u001b[0m\u001b[1;33m,\u001b[0m \u001b[0mwarm_start_sag\u001b[0m\u001b[1;33m,\u001b[0m\u001b[1;33m\u001b[0m\u001b[0m\n\u001b[1;32m--> 754\u001b[1;33m                 is_saga=(solver == 'saga'))\n\u001b[0m\u001b[0;32m    755\u001b[0m \u001b[1;33m\u001b[0m\u001b[0m\n\u001b[0;32m    756\u001b[0m         \u001b[1;32melse\u001b[0m\u001b[1;33m:\u001b[0m\u001b[1;33m\u001b[0m\u001b[0m\n",
      "\u001b[1;32mC:\\Users\\Rafi\\AppData\\Local\\Continuum\\Anaconda3\\lib\\site-packages\\sklearn\\linear_model\\sag.py\u001b[0m in \u001b[0;36msag_solver\u001b[1;34m(X, y, sample_weight, loss, alpha, beta, max_iter, tol, verbose, random_state, check_input, max_squared_sum, warm_start_mem, is_saga)\u001b[0m\n\u001b[0;32m    321\u001b[0m                             \u001b[0mintercept_decay\u001b[0m\u001b[1;33m,\u001b[0m\u001b[1;33m\u001b[0m\u001b[0m\n\u001b[0;32m    322\u001b[0m                             \u001b[0mis_saga\u001b[0m\u001b[1;33m,\u001b[0m\u001b[1;33m\u001b[0m\u001b[0m\n\u001b[1;32m--> 323\u001b[1;33m                             verbose)\n\u001b[0m\u001b[0;32m    324\u001b[0m     \u001b[1;32mif\u001b[0m \u001b[0mn_iter_\u001b[0m \u001b[1;33m==\u001b[0m \u001b[0mmax_iter\u001b[0m\u001b[1;33m:\u001b[0m\u001b[1;33m\u001b[0m\u001b[0m\n\u001b[0;32m    325\u001b[0m         warnings.warn(\"The max_iter was reached which means \"\n",
      "\u001b[1;31mKeyboardInterrupt\u001b[0m: "
     ]
    }
   ],
   "source": [
    "#Use different feature pairs\n",
    "for c in clist:\n",
    "    logreg_model(c,trainXpoly,trainY,testXpoly,testY,'LASSO')\n"
   ]
  },
  {
   "cell_type": "code",
   "execution_count": 13,
   "metadata": {
    "collapsed": false
   },
   "outputs": [
    {
     "name": "stdout",
     "output_type": "stream",
     "text": [
      "Accuracy on training data = 0.619793\n",
      "Accuracy on tesr data = 0.616456\n",
      "Accuracy on training data = 0.620801\n",
      "Accuracy on tesr data = 0.617660\n",
      "Accuracy on training data = 0.621018\n",
      "Accuracy on tesr data = 0.617502\n"
     ]
    },
    {
     "name": "stderr",
     "output_type": "stream",
     "text": [
      "C:\\Users\\Rafi\\AppData\\Local\\Continuum\\Anaconda3\\lib\\site-packages\\sklearn\\linear_model\\sag.py:326: ConvergenceWarning: The max_iter was reached which means the coef_ did not converge\n",
      "  \"the coef_ did not converge\", ConvergenceWarning)\n"
     ]
    }
   ],
   "source": [
    "for c in clist:\n",
    "    logreg_model(c,trainXpoly,trainY,testXpoly,testY,'Ridge')"
   ]
  },
  {
   "cell_type": "markdown",
   "metadata": {},
   "source": [
    "Support Vector Machines"
   ]
  },
  {
   "cell_type": "code",
   "execution_count": 9,
   "metadata": {
    "collapsed": true
   },
   "outputs": [],
   "source": [
    "# Variations\n",
    "# c value\n",
    "# kernel\n",
    "# polynomial transformation\n",
    "\n",
    "acc_train_svm_linear = []\n",
    "acc_test_svm_linear = []\n",
    "c_svm_linear = []\n",
    "\n",
    "acc_train_svm_rbf = []\n",
    "acc_test_svm_rbf = []\n",
    "c_svm_rbf = []\n",
    "\n",
    "acc_train_svm_poly = []\n",
    "acc_test_svm_poly = []\n",
    "c_svm_poly = []"
   ]
  },
  {
   "cell_type": "code",
   "execution_count": 15,
   "metadata": {
    "collapsed": false
   },
   "outputs": [],
   "source": [
    "#use svm_kernel parameter to choose svm model type. 3 kernel options: \"linear\"[default], \"rbf\", \"poly\"\n",
    "\n",
    "def svm_model(c, X_train, Y_train, X_test, Y_test, svm_kernel = \"linear\"):\n",
    "    # TODO - Create an object of svm.SVC(probability = False, kernel = 'linear', C = c) - 5 points\n",
    "    svc = svm.SVC(probability = False, kernel = svm_kernel, C = c)\n",
    "    print(\"kernel: \"+str(svm_kernel))\n",
    "    print(\"c:{0:f}\".format(c))\n",
    "    \n",
    "    #if svm_kernel==\"poly\": # Fill in the values for \n",
    "    #X_train=X_train[0:12500]\n",
    "    #Y_train=Y_train[0:12500]\n",
    "    #X_test=X_test[0:5300]\n",
    "    #Y_test=Y_test[0:5300]\n",
    "    \n",
    "    # TODO - Fit the classifier on the training set - 5 points\n",
    "    svc.fit(X_train, Y_train)\n",
    "    \n",
    "    # TODO - Find the prediction and accuracy on the training set - 5 points\n",
    "    Yhat_svc_train = svc.predict(X_train)\n",
    "    acc_train = np.mean(Yhat_svc_train == Y_train)\n",
    "    \n",
    "    # Adding testing accuracy to acc_train_svm\n",
    "    if svm_kernel==\"linear\":\n",
    "        acc_train_svm_linear.append(acc_train)\n",
    "    elif svm_kernel==\"rbf\":\n",
    "        acc_train_svm_rbf.append(acc_train)\n",
    "    elif svm_kernel==\"poly\":\n",
    "        acc_train_svm_poly.append(acc_train)\n",
    "        \n",
    "    print('\\tTrain Accuracy = '+str(acc_train))\n",
    "    \n",
    "    # TODO - Find the prediction and accuracy on the test set - 5 points\n",
    "    print(\"ding1\")\n",
    "    Yhat_svc_test = svc.predict(X_test)\n",
    "    print(\"ding2\")\n",
    "    acc_test = np.mean(Yhat_svc_test == Y_test)\n",
    "    \n",
    "    # Adding testing accuracy to acc_test_svm\n",
    "    if svm_kernel==\"linear\":\n",
    "        acc_test_svm_linear.append(acc_test)\n",
    "    elif svm_kernel==\"rbf\":\n",
    "        acc_test_svm_rbf.append(acc_test)\n",
    "    elif svm_kernel==\"poly\":\n",
    "        acc_test_svm_poly.append(acc_train)\n",
    "        \n",
    "    print('\\tTest Accuracy = '+str(acc_test))\n",
    "    \n",
    "    # Appending value of c for graphing purposes\n",
    "    if svm_kernel==\"linear\":\n",
    "        c_svm_linear.append(c)\n",
    "    elif svm_kernel==\"rbf\":\n",
    "        c_svm_rbf.append(c)\n",
    "    elif svm_kernel==\"poly\":\n",
    "        c_svm_poly.append(c)\n",
    "        \n",
    "    tpTest=0\n",
    "    tnTest=0\n",
    "    fpTest=0\n",
    "    fnTest=0\n",
    "    \n",
    "    for i in len(Y_test):\n",
    "        if Y_test[i]==1:\n",
    "            if Yhat_test==1:\n",
    "                tpTest+=1\n",
    "            else:\n",
    "                fnTest+=1\n",
    "        else:\n",
    "            if Yhat_test==0:\n",
    "                tnTest+=1\n",
    "            else:\n",
    "                fpTest+=1\n",
    "                \n",
    "    print(\"True+: \" + str(tpTest) + \", True-: \" + str(tnTest) + \", False+: \" + str(fpTest) + \"False-: \" + str(fnTest)\n"
   ]
  },
  {
   "cell_type": "code",
   "execution_count": 17,
   "metadata": {
    "collapsed": false
   },
   "outputs": [
    {
     "name": "stdout",
     "output_type": "stream",
     "text": [
      "[]\n",
      "[]\n",
      "[]\n"
     ]
    }
   ],
   "source": [
    "print(acc_train_svm_linear)\n",
    "print(acc_test_svm_linear)\n",
    "print(c_svm_linear)"
   ]
  },
  {
   "cell_type": "code",
   "execution_count": 13,
   "metadata": {
    "collapsed": true
   },
   "outputs": [],
   "source": [
    "clist=[0.001,0.01,0.1,1,10,100]"
   ]
  },
  {
   "cell_type": "code",
   "execution_count": 16,
   "metadata": {
    "collapsed": false,
    "scrolled": true
   },
   "outputs": [
    {
     "name": "stdout",
     "output_type": "stream",
     "text": [
      "kernel: linear\n",
      "c:0.001000\n"
     ]
    },
    {
     "ename": "KeyboardInterrupt",
     "evalue": "",
     "output_type": "error",
     "traceback": [
      "\u001b[1;31m---------------------------------------------------------------------------\u001b[0m",
      "\u001b[1;31mKeyboardInterrupt\u001b[0m                         Traceback (most recent call last)",
      "\u001b[1;32m<ipython-input-16-d94ac4742926>\u001b[0m in \u001b[0;36m<module>\u001b[1;34m()\u001b[0m\n\u001b[0;32m      1\u001b[0m \u001b[0mclist\u001b[0m\u001b[1;33m=\u001b[0m\u001b[1;33m[\u001b[0m\u001b[1;36m0.001\u001b[0m\u001b[1;33m,\u001b[0m\u001b[1;36m0.01\u001b[0m\u001b[1;33m,\u001b[0m\u001b[1;36m0.1\u001b[0m\u001b[1;33m,\u001b[0m\u001b[1;36m1\u001b[0m\u001b[1;33m,\u001b[0m\u001b[1;36m10\u001b[0m\u001b[1;33m,\u001b[0m\u001b[1;36m100\u001b[0m\u001b[1;33m]\u001b[0m\u001b[1;33m\u001b[0m\u001b[0m\n\u001b[0;32m      2\u001b[0m \u001b[1;32mfor\u001b[0m \u001b[0mc\u001b[0m \u001b[1;32min\u001b[0m \u001b[0mclist\u001b[0m\u001b[1;33m:\u001b[0m\u001b[1;33m\u001b[0m\u001b[0m\n\u001b[1;32m----> 3\u001b[1;33m     \u001b[0msvm_model\u001b[0m\u001b[1;33m(\u001b[0m\u001b[0mc\u001b[0m\u001b[1;33m,\u001b[0m\u001b[0mtrainX\u001b[0m\u001b[1;33m,\u001b[0m\u001b[0mtrainY\u001b[0m\u001b[1;33m,\u001b[0m\u001b[0mtestX\u001b[0m\u001b[1;33m,\u001b[0m\u001b[0mtestY\u001b[0m\u001b[1;33m,\u001b[0m\u001b[0msvm_kernel\u001b[0m\u001b[1;33m=\u001b[0m\u001b[1;34m\"linear\"\u001b[0m\u001b[1;33m)\u001b[0m\u001b[1;33m;\u001b[0m\u001b[1;33m\u001b[0m\u001b[0m\n\u001b[0m\u001b[0;32m      4\u001b[0m \u001b[1;33m\u001b[0m\u001b[0m\n",
      "\u001b[1;32m<ipython-input-14-ba95769bf5a8>\u001b[0m in \u001b[0;36msvm_model\u001b[1;34m(c, X_train, Y_train, X_test, Y_test, svm_kernel)\u001b[0m\n\u001b[0;32m     14\u001b[0m \u001b[1;33m\u001b[0m\u001b[0m\n\u001b[0;32m     15\u001b[0m     \u001b[1;31m# TODO - Fit the classifier on the training set - 5 points\u001b[0m\u001b[1;33m\u001b[0m\u001b[1;33m\u001b[0m\u001b[0m\n\u001b[1;32m---> 16\u001b[1;33m     \u001b[0msvc\u001b[0m\u001b[1;33m.\u001b[0m\u001b[0mfit\u001b[0m\u001b[1;33m(\u001b[0m\u001b[0mX_train\u001b[0m\u001b[1;33m,\u001b[0m \u001b[0mY_train\u001b[0m\u001b[1;33m)\u001b[0m\u001b[1;33m\u001b[0m\u001b[0m\n\u001b[0m\u001b[0;32m     17\u001b[0m \u001b[1;33m\u001b[0m\u001b[0m\n\u001b[0;32m     18\u001b[0m     \u001b[1;31m# TODO - Find the prediction and accuracy on the training set - 5 points\u001b[0m\u001b[1;33m\u001b[0m\u001b[1;33m\u001b[0m\u001b[0m\n",
      "\u001b[1;32mC:\\Users\\Rafi\\AppData\\Local\\Continuum\\Anaconda3\\lib\\site-packages\\sklearn\\svm\\base.py\u001b[0m in \u001b[0;36mfit\u001b[1;34m(self, X, y, sample_weight)\u001b[0m\n\u001b[0;32m    185\u001b[0m \u001b[1;33m\u001b[0m\u001b[0m\n\u001b[0;32m    186\u001b[0m         \u001b[0mseed\u001b[0m \u001b[1;33m=\u001b[0m \u001b[0mrnd\u001b[0m\u001b[1;33m.\u001b[0m\u001b[0mrandint\u001b[0m\u001b[1;33m(\u001b[0m\u001b[0mnp\u001b[0m\u001b[1;33m.\u001b[0m\u001b[0miinfo\u001b[0m\u001b[1;33m(\u001b[0m\u001b[1;34m'i'\u001b[0m\u001b[1;33m)\u001b[0m\u001b[1;33m.\u001b[0m\u001b[0mmax\u001b[0m\u001b[1;33m)\u001b[0m\u001b[1;33m\u001b[0m\u001b[0m\n\u001b[1;32m--> 187\u001b[1;33m         \u001b[0mfit\u001b[0m\u001b[1;33m(\u001b[0m\u001b[0mX\u001b[0m\u001b[1;33m,\u001b[0m \u001b[0my\u001b[0m\u001b[1;33m,\u001b[0m \u001b[0msample_weight\u001b[0m\u001b[1;33m,\u001b[0m \u001b[0msolver_type\u001b[0m\u001b[1;33m,\u001b[0m \u001b[0mkernel\u001b[0m\u001b[1;33m,\u001b[0m \u001b[0mrandom_seed\u001b[0m\u001b[1;33m=\u001b[0m\u001b[0mseed\u001b[0m\u001b[1;33m)\u001b[0m\u001b[1;33m\u001b[0m\u001b[0m\n\u001b[0m\u001b[0;32m    188\u001b[0m         \u001b[1;31m# see comment on the other call to np.iinfo in this file\u001b[0m\u001b[1;33m\u001b[0m\u001b[1;33m\u001b[0m\u001b[0m\n\u001b[0;32m    189\u001b[0m \u001b[1;33m\u001b[0m\u001b[0m\n",
      "\u001b[1;32mC:\\Users\\Rafi\\AppData\\Local\\Continuum\\Anaconda3\\lib\\site-packages\\sklearn\\svm\\base.py\u001b[0m in \u001b[0;36m_dense_fit\u001b[1;34m(self, X, y, sample_weight, solver_type, kernel, random_seed)\u001b[0m\n\u001b[0;32m    252\u001b[0m                 \u001b[0mcache_size\u001b[0m\u001b[1;33m=\u001b[0m\u001b[0mself\u001b[0m\u001b[1;33m.\u001b[0m\u001b[0mcache_size\u001b[0m\u001b[1;33m,\u001b[0m \u001b[0mcoef0\u001b[0m\u001b[1;33m=\u001b[0m\u001b[0mself\u001b[0m\u001b[1;33m.\u001b[0m\u001b[0mcoef0\u001b[0m\u001b[1;33m,\u001b[0m\u001b[1;33m\u001b[0m\u001b[0m\n\u001b[0;32m    253\u001b[0m                 \u001b[0mgamma\u001b[0m\u001b[1;33m=\u001b[0m\u001b[0mself\u001b[0m\u001b[1;33m.\u001b[0m\u001b[0m_gamma\u001b[0m\u001b[1;33m,\u001b[0m \u001b[0mepsilon\u001b[0m\u001b[1;33m=\u001b[0m\u001b[0mself\u001b[0m\u001b[1;33m.\u001b[0m\u001b[0mepsilon\u001b[0m\u001b[1;33m,\u001b[0m\u001b[1;33m\u001b[0m\u001b[0m\n\u001b[1;32m--> 254\u001b[1;33m                 max_iter=self.max_iter, random_seed=random_seed)\n\u001b[0m\u001b[0;32m    255\u001b[0m \u001b[1;33m\u001b[0m\u001b[0m\n\u001b[0;32m    256\u001b[0m         \u001b[0mself\u001b[0m\u001b[1;33m.\u001b[0m\u001b[0m_warn_from_fit_status\u001b[0m\u001b[1;33m(\u001b[0m\u001b[1;33m)\u001b[0m\u001b[1;33m\u001b[0m\u001b[0m\n",
      "\u001b[1;31mKeyboardInterrupt\u001b[0m: "
     ]
    }
   ],
   "source": [
    "\n",
    "for c in clist:\n",
    "    svm_model(c,trainX,trainY,testX,testY,svm_kernel=\"linear\");\n",
    "    \n"
   ]
  },
  {
   "cell_type": "code",
   "execution_count": 37,
   "metadata": {
    "collapsed": false
   },
   "outputs": [
    {
     "name": "stdout",
     "output_type": "stream",
     "text": [
      "kernel: rbf\n",
      "c:0.001000\n",
      "\tTrain Accuracy = 0.5356\n",
      "\tTest Accuracy = 0.5344\n",
      "kernel: rbf\n",
      "c:0.010000\n",
      "\tTrain Accuracy = 0.5356\n",
      "\tTest Accuracy = 0.5344\n",
      "kernel: rbf\n",
      "c:0.100000\n",
      "\tTrain Accuracy = 0.6112\n",
      "\tTest Accuracy = 0.5952\n",
      "kernel: rbf\n",
      "c:1.000000\n",
      "\tTrain Accuracy = 0.72\n",
      "\tTest Accuracy = 0.5924\n",
      "kernel: rbf\n",
      "c:10.000000\n",
      "\tTrain Accuracy = 0.8576\n",
      "\tTest Accuracy = 0.5636\n",
      "kernel: rbf\n",
      "c:100.000000\n",
      "\tTrain Accuracy = 0.9596\n",
      "\tTest Accuracy = 0.5312\n"
     ]
    }
   ],
   "source": [
    "for c in clist:\n",
    "    svm_model(c,trainX,trainY,testX,testY,svm_kernel=\"rbf\");"
   ]
  },
  {
   "cell_type": "code",
   "execution_count": 25,
   "metadata": {
    "collapsed": true
   },
   "outputs": [],
   "source": [
    "acc_train_svm_rbf = [0.5356,0.5356,0.6112,0.72,0.8576,0.9596]\n",
    "acc_test_svm_rbf = [0.5344,0.5344,0.5952,0.5924,0.5626,0.5312]\n",
    "c_svm_rbf = [0.001,0.01,0.1,1.0,10.0,100.0]"
   ]
  },
  {
   "cell_type": "code",
   "execution_count": 26,
   "metadata": {
    "collapsed": false
   },
   "outputs": [
    {
     "data": {
      "text/plain": [
       "<matplotlib.legend.Legend at 0x1b251741cc0>"
      ]
     },
     "execution_count": 26,
     "metadata": {},
     "output_type": "execute_result"
    },
    {
     "data": {
      "image/png": "[encoded data removed]",
      "text/plain": [
       "<matplotlib.figure.Figure at 0x1b2516d30b8>"
      ]
     },
     "metadata": {},
     "output_type": "display_data"
    }
   ],
   "source": [
    "plt.plot(c_svm_rbf, acc_train_svm_rbf, 'ro-') \n",
    "plt.plot(c_svm_rbf, acc_test_svm_rbf,'bo-') \n",
    "plt.grid()\n",
    "\n",
    "# Use the following function to have a legend\n",
    "plt.legend(['Training Accuracy', 'Test Accuracy'], loc='lower right')"
   ]
  },
  {
   "cell_type": "code",
   "execution_count": 32,
   "metadata": {
    "collapsed": false
   },
   "outputs": [
    {
     "name": "stdout",
     "output_type": "stream",
     "text": [
      "kernel: poly\n",
      "c:0.001000\n",
      "\tTrain Accuracy = 0.54216\n",
      "ding1\n",
      "ding2\n",
      "\tTest Accuracy = 0.54679245283\n",
      "kernel: poly\n",
      "c:0.010000\n",
      "\tTrain Accuracy = 0.5516\n",
      "ding1\n",
      "ding2\n",
      "\tTest Accuracy = 0.554905660377\n",
      "kernel: poly\n",
      "c:0.100000\n",
      "\tTrain Accuracy = 0.60464\n",
      "ding1\n",
      "ding2\n",
      "\tTest Accuracy = 0.59320754717\n",
      "kernel: poly\n",
      "c:1.000000\n",
      "\tTrain Accuracy = 0.66832\n",
      "ding1\n",
      "ding2\n",
      "\tTest Accuracy = 0.595660377358\n",
      "kernel: poly\n",
      "c:10.000000\n",
      "\tTrain Accuracy = 0.69992\n",
      "ding1\n",
      "ding2\n",
      "\tTest Accuracy = 0.588113207547\n",
      "kernel: poly\n",
      "c:100.000000\n"
     ]
    },
    {
     "ename": "KeyboardInterrupt",
     "evalue": "",
     "output_type": "error",
     "traceback": [
      "\u001b[1;31m---------------------------------------------------------------------------\u001b[0m",
      "\u001b[1;31mKeyboardInterrupt\u001b[0m                         Traceback (most recent call last)",
      "\u001b[1;32m<ipython-input-32-41cfb63178c5>\u001b[0m in \u001b[0;36m<module>\u001b[1;34m()\u001b[0m\n\u001b[0;32m      1\u001b[0m \u001b[1;32mfor\u001b[0m \u001b[0mc\u001b[0m \u001b[1;32min\u001b[0m \u001b[0mclist\u001b[0m\u001b[1;33m:\u001b[0m\u001b[1;33m\u001b[0m\u001b[0m\n\u001b[1;32m----> 2\u001b[1;33m     \u001b[0msvm_model\u001b[0m\u001b[1;33m(\u001b[0m\u001b[0mc\u001b[0m\u001b[1;33m,\u001b[0m\u001b[0mtrainX\u001b[0m\u001b[1;33m,\u001b[0m\u001b[0mtrainY\u001b[0m\u001b[1;33m,\u001b[0m\u001b[0mtestX\u001b[0m\u001b[1;33m,\u001b[0m\u001b[0mtestY\u001b[0m\u001b[1;33m,\u001b[0m\u001b[0msvm_kernel\u001b[0m\u001b[1;33m=\u001b[0m\u001b[1;34m\"poly\"\u001b[0m\u001b[1;33m)\u001b[0m\u001b[1;33m\u001b[0m\u001b[0m\n\u001b[0m",
      "\u001b[1;32m<ipython-input-31-0aa99fbaa481>\u001b[0m in \u001b[0;36msvm_model\u001b[1;34m(c, X_train, Y_train, X_test, Y_test, svm_kernel)\u001b[0m\n\u001b[0;32m     14\u001b[0m \u001b[1;33m\u001b[0m\u001b[0m\n\u001b[0;32m     15\u001b[0m     \u001b[1;31m# TODO - Fit the classifier on the training set - 5 points\u001b[0m\u001b[1;33m\u001b[0m\u001b[1;33m\u001b[0m\u001b[0m\n\u001b[1;32m---> 16\u001b[1;33m     \u001b[0msvc\u001b[0m\u001b[1;33m.\u001b[0m\u001b[0mfit\u001b[0m\u001b[1;33m(\u001b[0m\u001b[0mX_train\u001b[0m\u001b[1;33m,\u001b[0m \u001b[0mY_train\u001b[0m\u001b[1;33m)\u001b[0m\u001b[1;33m\u001b[0m\u001b[0m\n\u001b[0m\u001b[0;32m     17\u001b[0m \u001b[1;33m\u001b[0m\u001b[0m\n\u001b[0;32m     18\u001b[0m     \u001b[1;31m# TODO - Find the prediction and accuracy on the training set - 5 points\u001b[0m\u001b[1;33m\u001b[0m\u001b[1;33m\u001b[0m\u001b[0m\n",
      "\u001b[1;32mC:\\Users\\Rafi\\AppData\\Local\\Continuum\\Anaconda3\\lib\\site-packages\\sklearn\\svm\\base.py\u001b[0m in \u001b[0;36mfit\u001b[1;34m(self, X, y, sample_weight)\u001b[0m\n\u001b[0;32m    185\u001b[0m \u001b[1;33m\u001b[0m\u001b[0m\n\u001b[0;32m    186\u001b[0m         \u001b[0mseed\u001b[0m \u001b[1;33m=\u001b[0m \u001b[0mrnd\u001b[0m\u001b[1;33m.\u001b[0m\u001b[0mrandint\u001b[0m\u001b[1;33m(\u001b[0m\u001b[0mnp\u001b[0m\u001b[1;33m.\u001b[0m\u001b[0miinfo\u001b[0m\u001b[1;33m(\u001b[0m\u001b[1;34m'i'\u001b[0m\u001b[1;33m)\u001b[0m\u001b[1;33m.\u001b[0m\u001b[0mmax\u001b[0m\u001b[1;33m)\u001b[0m\u001b[1;33m\u001b[0m\u001b[0m\n\u001b[1;32m--> 187\u001b[1;33m         \u001b[0mfit\u001b[0m\u001b[1;33m(\u001b[0m\u001b[0mX\u001b[0m\u001b[1;33m,\u001b[0m \u001b[0my\u001b[0m\u001b[1;33m,\u001b[0m \u001b[0msample_weight\u001b[0m\u001b[1;33m,\u001b[0m \u001b[0msolver_type\u001b[0m\u001b[1;33m,\u001b[0m \u001b[0mkernel\u001b[0m\u001b[1;33m,\u001b[0m \u001b[0mrandom_seed\u001b[0m\u001b[1;33m=\u001b[0m\u001b[0mseed\u001b[0m\u001b[1;33m)\u001b[0m\u001b[1;33m\u001b[0m\u001b[0m\n\u001b[0m\u001b[0;32m    188\u001b[0m         \u001b[1;31m# see comment on the other call to np.iinfo in this file\u001b[0m\u001b[1;33m\u001b[0m\u001b[1;33m\u001b[0m\u001b[0m\n\u001b[0;32m    189\u001b[0m \u001b[1;33m\u001b[0m\u001b[0m\n",
      "\u001b[1;32mC:\\Users\\Rafi\\AppData\\Local\\Continuum\\Anaconda3\\lib\\site-packages\\sklearn\\svm\\base.py\u001b[0m in \u001b[0;36m_dense_fit\u001b[1;34m(self, X, y, sample_weight, solver_type, kernel, random_seed)\u001b[0m\n\u001b[0;32m    252\u001b[0m                 \u001b[0mcache_size\u001b[0m\u001b[1;33m=\u001b[0m\u001b[0mself\u001b[0m\u001b[1;33m.\u001b[0m\u001b[0mcache_size\u001b[0m\u001b[1;33m,\u001b[0m \u001b[0mcoef0\u001b[0m\u001b[1;33m=\u001b[0m\u001b[0mself\u001b[0m\u001b[1;33m.\u001b[0m\u001b[0mcoef0\u001b[0m\u001b[1;33m,\u001b[0m\u001b[1;33m\u001b[0m\u001b[0m\n\u001b[0;32m    253\u001b[0m                 \u001b[0mgamma\u001b[0m\u001b[1;33m=\u001b[0m\u001b[0mself\u001b[0m\u001b[1;33m.\u001b[0m\u001b[0m_gamma\u001b[0m\u001b[1;33m,\u001b[0m \u001b[0mepsilon\u001b[0m\u001b[1;33m=\u001b[0m\u001b[0mself\u001b[0m\u001b[1;33m.\u001b[0m\u001b[0mepsilon\u001b[0m\u001b[1;33m,\u001b[0m\u001b[1;33m\u001b[0m\u001b[0m\n\u001b[1;32m--> 254\u001b[1;33m                 max_iter=self.max_iter, random_seed=random_seed)\n\u001b[0m\u001b[0;32m    255\u001b[0m \u001b[1;33m\u001b[0m\u001b[0m\n\u001b[0;32m    256\u001b[0m         \u001b[0mself\u001b[0m\u001b[1;33m.\u001b[0m\u001b[0m_warn_from_fit_status\u001b[0m\u001b[1;33m(\u001b[0m\u001b[1;33m)\u001b[0m\u001b[1;33m\u001b[0m\u001b[0m\n",
      "\u001b[1;31mKeyboardInterrupt\u001b[0m: "
     ]
    }
   ],
   "source": [
    "for c in clist:\n",
    "    svm_model(c,trainX,trainY,testX,testY,svm_kernel=\"poly\") #Reduced inputs"
   ]
  },
  {
   "cell_type": "code",
   "execution_count": null,
   "metadata": {
    "collapsed": true
   },
   "outputs": [
    {
     "name": "stdout",
     "output_type": "stream",
     "text": [
      "kernel: rbf\n",
      "c:0.001000\n"
     ]
    }
   ],
   "source": [
    "for c in clist:\n",
    "    svm_model(c,trainXpoly,trainY,testXpoly,testY,svm_kernel=\"rbf\")"
   ]
  },
  {
   "cell_type": "code",
   "execution_count": 27,
   "metadata": {
    "collapsed": true
   },
   "outputs": [],
   "source": [
    "acc_train_svm_poly = [0.546,0.5628,0.6072,0.7416,0.8884,0.976]\n",
    "acc_test_svm_poly = [0.5248,0.534,0.5356,0.538,0.5292,0.5256]\n",
    "c_svm_poly = [0.001,0.01,0.1,1.0,10.0,100.0]"
   ]
  },
  {
   "cell_type": "code",
   "execution_count": 28,
   "metadata": {
    "collapsed": false
   },
   "outputs": [
    {
     "data": {
      "text/plain": [
       "<matplotlib.legend.Legend at 0x1b2517b2d68>"
      ]
     },
     "execution_count": 28,
     "metadata": {},
     "output_type": "execute_result"
    },
    {
     "data": {
      "image/png": "[encoded data removed]",
      "text/plain": [
       "<matplotlib.figure.Figure at 0x1b244bcbf98>"
      ]
     },
     "metadata": {},
     "output_type": "display_data"
    }
   ],
   "source": [
    "plt.plot(c_svm_poly, acc_train_svm_poly, 'ro-') \n",
    "plt.plot(c_svm_poly, acc_test_svm_poly,'bo-') \n",
    "plt.grid()\n",
    "\n",
    "# Use the following function to have a legend\n",
    "plt.legend(['Training Accuracy', 'Test Accuracy'], loc='lower right')"
   ]
  },
  {
   "cell_type": "markdown",
   "metadata": {},
   "source": [
    "Neural Networks"
   ]
  },
  {
   "cell_type": "code",
   "execution_count": 39,
   "metadata": {
    "collapsed": true
   },
   "outputs": [],
   "source": [
    "# Variations:\n",
    "# hidden layers (use 1,2 and 3)\n",
    "# hidden layer nodes (use 10,20 and 5)\n",
    "# activation function (use sigmoid, ReLU, tanh)\n",
    "\n",
    "def f(z):\n",
    "    return 1 / (1 + np.exp(-z))\n",
    "\n",
    "\n",
    "def f_deriv(z):\n",
    "    return f(z) * (1 - f(z))\n",
    "\n",
    "def f2(z):\n",
    "    if z>0:\n",
    "        return z\n",
    "    else:\n",
    "        return 0\n",
    "    \n",
    "def f2_deriv(z):\n",
    "    if z>0:\n",
    "        return 1\n",
    "    else:\n",
    "        return 0\n",
    "    \n",
    "def f3(z):\n",
    "    return (np.exp(z)-np.exp(-z))/(np.exp(z)+np.exp(-z))\n",
    "\n",
    "def f3_deriv(z):\n",
    "    return 1-(f3(z))^2"
   ]
  },
  {
   "cell_type": "code",
   "execution_count": 45,
   "metadata": {
    "collapsed": false
   },
   "outputs": [],
   "source": [
    "def setup_and_init_weights(nn_structure):\n",
    "    W = {} #creating a dictionary i.e. a set of key: value pairs\n",
    "    b = {}\n",
    "    for l in range(1, len(nn_structure)):\n",
    "        W[l] = r.random_sample((nn_structure[l], nn_structure[l-1])) #Return “continuous uniform” random floats in the half-open interval [0.0, 1.0). \n",
    "        b[l] = r.random_sample((nn_structure[l],))\n",
    "    return W, b\n",
    "\n",
    "def init_tri_values(nn_structure):\n",
    "    tri_W = {}\n",
    "    tri_b = {}\n",
    "    for l in range(1, len(nn_structure)):\n",
    "        tri_W[l] = np.zeros((nn_structure[l], nn_structure[l-1]))\n",
    "        tri_b[l] = np.zeros((nn_structure[l],))\n",
    "    return tri_W, tri_b\n",
    "\n",
    "def feed_forward(x, W, b, act_func=1):\n",
    "    a = {1: x}\n",
    "    z = {}\n",
    "    for l in range(1, len(W) + 1):\n",
    "        node_in = a[l]\n",
    "        #print(\"\\n\",W[l],\"\\n\",node_in,\"\\n\",b[l])\n",
    "        z[l+1] = W[l].dot(node_in) + b[l]\n",
    "        if act_func==1:\n",
    "            a[l+1] = f(z[l+1])\n",
    "        elif act_func == 2:\n",
    "            a[l+1] = f2(z[l+1])\n",
    "        elif act_func == 3:\n",
    "            a[l+1] = f3(z[l+1])\n",
    "        \n",
    "    return a, z\n",
    "\n",
    "def calculate_out_layer_delta(y, a_out, z_out,act_func=1):\n",
    "    if act_func==1:\n",
    "        return -(y-a_out) * f_deriv(z_out)\n",
    "    elif act_func==2:\n",
    "        return -(y-a_out) * f2_deriv(z_out)\n",
    "    elif act_func==3:\n",
    "        return -(y-a_out) * f3_deriv(z_out)\n",
    "\n",
    "\n",
    "def calculate_hidden_delta(delta_plus_1, w_l, z_l, act_func=1):\n",
    "    if act_func==1:\n",
    "        return np.dot(np.transpose(w_l), delta_plus_1) * f_deriv(z_l)\n",
    "    elif act_func==2:\n",
    "        return np.dot(np.transpose(w_l), delta_plus_1) * f2_deriv(z_l)\n",
    "    elif act_func==3:\n",
    "        return np.dot(np.transpose(w_l), delta_plus_1) * f3_deriv(z_l)\n",
    "\n",
    "def train_nn(nn_structure, X, y, iter_num=3000, alpha=0.25, act_func=1):\n",
    "    W, b = setup_and_init_weights(nn_structure)\n",
    "    cnt = 0\n",
    "    N = len(y)\n",
    "    avg_cost_func = []\n",
    "    print('Starting gradient descent for {} iterations'.format(iter_num))\n",
    "    while cnt < iter_num:\n",
    "        if cnt%1000 == 0:\n",
    "            print('Iteration {} of {}'.format(cnt, iter_num))\n",
    "        tri_W, tri_b = init_tri_values(nn_structure)\n",
    "        avg_cost = 0\n",
    "        for i in range(N):\n",
    "            delta = {}\n",
    "            a, z = feed_forward(X[i, :], W, b,act_func)\n",
    "            for l in range(len(nn_structure), 0, -1):\n",
    "                if l == len(nn_structure):\n",
    "                    \n",
    "                    delta[l] = calculate_out_layer_delta(y[i,:], a[l], z[l],act_func)\n",
    "                    avg_cost += np.linalg.norm((y[i,:]-a[l]))\n",
    "                else:\n",
    "                    if l > 1:\n",
    "                        delta[l] = calculate_hidden_delta(delta[l+1], W[l], z[l],act_func)\n",
    "                    #print(type(tri_W))\n",
    "                    tri_W[l] = tri_W[l] + np.dot(delta[l+1][:,np.newaxis], np.transpose(a[l][:,np.newaxis]))\n",
    "                    tri_b[l] = tri_b[l] + delta[l+1]\n",
    "        for l in range(len(nn_structure) - 1, 0, -1):\n",
    "            W[l] = W[l] + -alpha * (1.0/N * tri_W[l])\n",
    "            b[l] = b[l] + -alpha * (1.0/N * tri_b[l])\n",
    "        avg_cost = 1.0/N * avg_cost\n",
    "        avg_cost_func.append(avg_cost)\n",
    "        cnt += 1\n",
    "    return W, b, avg_cost_func\n",
    "\n",
    "\n",
    "def predict_y(W, b, X, n_layers):\n",
    "    N = X.shape[0]\n",
    "    y = np.zeros((N,))\n",
    "    for i in range(N):\n",
    "        a, z = feed_forward(X[i, :], W, b)\n",
    "        y[i] = np.argmax(a[n_layers])\n",
    "    return y"
   ]
  },
  {
   "cell_type": "code",
   "execution_count": 41,
   "metadata": {
    "collapsed": true
   },
   "outputs": [],
   "source": [
    "nn_structure1 = [24, 10, 1]\n",
    "nn_structure2 = [24, 20, 1]\n",
    "nn_structure3 = [24, 5, 1]\n",
    "\n",
    "nn_structure4 = [24, 10, 10, 1]\n",
    "nn_structure5 = [24, 10, 10, 10, 1]"
   ]
  },
  {
   "cell_type": "code",
   "execution_count": 42,
   "metadata": {
    "collapsed": true
   },
   "outputs": [],
   "source": [
    "trainYvec=trainY.reshape((trainY.shape[0],1))\n",
    "testYvec=testY.reshape((testY.shape[0],1))"
   ]
  },
  {
   "cell_type": "code",
   "execution_count": 14,
   "metadata": {
    "collapsed": true
   },
   "outputs": [
    {
     "name": "stdout",
     "output_type": "stream",
     "text": [
      "[[11.0 1.0 41.0 0.0 1.0 0.0 0.0 0.0 1.0 0 0 0 0 0 0 1.0 0.0 0.0 0.0 1.0 0.0\n",
      "  1.0 0.0 0.0]\n",
      " [12.0 3.0 59.0 0.0 18.0 0.0 0.0 0.0 9.0 0 0 0 3 1 1 1.0 0.0 0.0 0.0 1.0\n",
      "  0.0 1.0 0.0 0.0]\n",
      " [13.0 2.0 11.0 5.0 13.0 2.0 0.0 1.0 6.0 0 0 2 0 0 1 0.0 0.0 0.0 1.0 1.0\n",
      "  0.0 0.0 0.0 0.0]\n",
      " [14.0 2.0 44.0 1.0 16.0 0.0 0.0 0.0 7.0 0 0 0 3 1 1 1.0 0.0 0.0 0.0 0.0\n",
      "  1.0 0.0 1.0 0.0]\n",
      " [14.5 1.0 51.0 0.0 8.0 0.0 0.0 0.0 5.0 0 0 2 2 1 1 1.0 0.0 0.0 0.0 0.0 1.0\n",
      "  0.0 1.0 0.0]\n",
      " [15.0 3.0 31.0 6.0 16.0 0.0 0.0 0.0 9.0 0 0 0 2 0 1 1.0 0.0 0.0 0.0 0.0\n",
      "  1.0 1.0 0.0 0.0]\n",
      " [15.5 4.0 70.0 1.0 21.0 0.0 0.0 0.0 7.0 0 2 0 2 1 1 1.0 0.0 0.0 0.0 0.0\n",
      "  1.0 1.0 0.0 0.0]\n",
      " [16.0 5.0 73.0 0.0 12.0 0.0 0.0 0.0 8.0 0 0 0 0 0 1 1.0 0.0 0.0 0.0 0.0\n",
      "  1.0 1.0 0.0 0.0]\n",
      " [16.5 13.0 68.0 2.0 28.0 0.0 0.0 0.0 8.0 0 0 2 2 1 1 1.0 0.0 0.0 0.0 1.0\n",
      "  0.0 1.0 0.0 0.0]\n",
      " [17.0 12.0 33.0 3.0 18.0 0.0 0.0 0.0 8.0 0 0 0 2 1 1 1.0 0.0 0.0 0.0 1.0\n",
      "  0.0 1.0 0.0 0.0]\n",
      " [14.5 9.0 47.0 2.0 17.0 0.0 0.0 0.0 9.0 0 0 0 2 0 1 0.0 0.0 0.0 1.0 1.0\n",
      "  0.0 1.0 0.0 0.0]\n",
      " [15.5 7.0 62.0 0.0 11.0 0.0 0.0 0.0 7.0 0 0 0 2 1 1 0.0 0.0 0.0 1.0 0.0\n",
      "  1.0 0.0 1.0 0.0]\n",
      " [14.5 7.0 60.0 0.0 15.0 0.0 1.0 0.0 8.0 0 2 0 1 1 1 1.0 0.0 0.0 0.0 1.0\n",
      "  0.0 1.0 0.0 0.0]\n",
      " [16.5 10.0 55.0 1.0 31.0 0.0 0.0 0.0 8.0 0 0 0 2 0 1 1.0 0.0 0.0 0.0 0.0\n",
      "  1.0 1.0 0.0 0.0]\n",
      " [15.5 1.0 49.0 5.0 2.0 0.0 0.0 0.0 8.0 0 0 0 2 0 1 0.0 0.0 0.0 1.0 1.0 0.0\n",
      "  0.0 0.0 0.0]\n",
      " [15.5 12.0 75.0 5.0 13.0 0.0 0.0 0.0 9.0 0 0 0 3 1 1 0.0 0.0 0.0 1.0 0.0\n",
      "  1.0 0.0 0.0 1.0]\n",
      " [15.0 4.0 45.0 4.0 17.0 0.0 0.0 0.0 8.0 0 0 2 2 1 1 0.0 0.0 0.0 1.0 0.0\n",
      "  1.0 1.0 0.0 0.0]\n",
      " [15.0 3.0 29.0 0.0 11.0 0.0 0.0 0.0 3.0 0 0 0 0 0 1 1.0 0.0 0.0 0.0 1.0\n",
      "  0.0 0.0 0.0 0.0]\n",
      " [16.0 5.0 35.0 5.0 23.0 0.0 0.0 0.0 9.0 0 0 0 2 0 1 0.0 0.0 0.0 1.0 0.0\n",
      "  1.0 1.0 0.0 0.0]\n",
      " [16.0 6.0 42.0 2.0 23.0 0.0 0.0 0.0 8.0 0 0 0 2 1 1 0.0 0.0 0.0 0.0 0.0\n",
      "  1.0 0.0 0.0 0.0]]\n"
     ]
    }
   ],
   "source": [
    "print(X[0:20])"
   ]
  },
  {
   "cell_type": "markdown",
   "metadata": {},
   "source": [
    "# v HERE!!!!"
   ]
  },
  {
   "cell_type": "code",
   "execution_count": null,
   "metadata": {
    "collapsed": true
   },
   "outputs": [],
   "source": [
    "np.random.seed(0)\n",
    "model_1=Sequential()\n",
    "model_2=Sequential()\n",
    "model_3=Sequential()\n",
    "model_4=Sequential()\n",
    "model_5=Sequential()\n",
    "model_6=Sequential()\n",
    "model_7=Sequential()\n",
    "\n",
    "model_1.add(Dense(len(trainX[0]),input_dim=len(trainX[0]),activation='sigmoid'))\n",
    "model_1.add(Dense(10,activation='sigmoid'))\n",
    "model_1.add(Dense(1,activation='sigmoid'))\n",
    "\n",
    "model_2.add(Dense(len(trainX[0]),input_dim=len(trainX[0]),activation='relu'))\n",
    "model_2.add(Dense(10,activation='sigmoid'))\n",
    "model_2.add(Dense(1,activation='sigmoid'))\n",
    "\n",
    "model_3.add(Dense(len(trainX[0]),input_dim=len(trainX[0]),activation='tanh'))\n",
    "model_3.add(Dense(10,activation='sigmoid'))\n",
    "model_3.add(Dense(1,activation='sigmoid'))\n",
    "\n",
    "model_4.add(Dense(len(trainX[0]),input_dim=len(trainX[0]),activation='tanh'))\n",
    "model_4.add(Dense(5,activation='sigmoid'))\n",
    "model_4.add(Dense(1,activation='sigmoid'))\n",
    "model_4.compile(loss='mse',optimizer='rmsprop',metrics=['accuracy'])\n",
    "\n",
    "model_5.add(Dense(len(trainX[0]),input_dim=len(trainX[0]),activation='tanh'))\n",
    "model_5.add(Dense(20,activation='sigmoid'))\n",
    "model_5.add(Dense(1,activation='sigmoid'))\n",
    "model_5.compile(loss='mse',optimizer='rmsprop',metrics=['accuracy'])\n",
    "\n",
    "model_6.add(Dense(len(trainX[0]),input_dim=len(trainX[0]),activation='sigmoid'))\n",
    "model_6.add(Dense(10,activation='sigmoid'))\n",
    "model_6.add(Dense(10,activation='sigmoid'))\n",
    "model_6.add(Dense(1,activation='sigmoid'))\n",
    "\n",
    "model_7.add(Dense(len(trainX[0]),input_dim=len(trainX[0]),activation='sigmoid'))\n",
    "model_7.add(Dense(10,activation='sigmoid'))\n",
    "model_7.add(Dense(10,activation='sigmoid'))\n",
    "model_7.add(Dense(10,activation='sigmoid'))\n",
    "model_7.add(Dense(1,activation='sigmoid'))"
   ]
  },
  {
   "cell_type": "code",
   "execution_count": null,
   "metadata": {
    "collapsed": true
   },
   "outputs": [],
   "source": [
    "model_1.compile(loss='mse',optimizer='rmsprop',metrics=['accuracy'])\n",
    "history = model_1.fit(X, Y, epochs=1500, batch_size=4603)\n",
    "scores = model_1.evaluate(X, Y)\n",
    "print(\"\\n%s: %.2f%%\" % (model_1.metrics_names[1], scores[1]*100))"
   ]
  },
  {
   "cell_type": "code",
   "execution_count": null,
   "metadata": {
    "collapsed": true
   },
   "outputs": [],
   "source": [
    "model_2.compile(loss='mse',optimizer='rmsprop',metrics=['accuracy'])\n",
    "history = model_2.fit(X, Y, epochs=1500, batch_size=4603)\n",
    "scores = model_2.evaluate(X, Y)\n",
    "print(\"\\n%s: %.2f%%\" % (model_2.metrics_names[1], scores[1]*100))"
   ]
  },
  {
   "cell_type": "code",
   "execution_count": null,
   "metadata": {
    "collapsed": true
   },
   "outputs": [],
   "source": [
    "model_3.compile(loss='mse',optimizer='rmsprop',metrics=['accuracy'])\n",
    "history = model_3.fit(X, Y, epochs=1500, batch_size=4603)\n",
    "scores = model_3.evaluate(X, Y)\n",
    "print(\"\\n%s: %.2f%%\" % (model_3.metrics_names[1], scores[1]*100))"
   ]
  },
  {
   "cell_type": "code",
   "execution_count": null,
   "metadata": {
    "collapsed": true
   },
   "outputs": [],
   "source": [
    "model_4.compile(loss='mse',optimizer='rmsprop',metrics=['accuracy'])\n",
    "history = model_4.fit(X, Y, epochs=1500, batch_size=4603)\n",
    "scores = model_4.evaluate(X, Y)\n",
    "print(\"\\n%s: %.2f%%\" % (model_4.metrics_names[1], scores[1]*100))"
   ]
  },
  {
   "cell_type": "code",
   "execution_count": null,
   "metadata": {
    "collapsed": true
   },
   "outputs": [],
   "source": [
    "model_5.compile(loss='mse',optimizer='rmsprop',metrics=['accuracy'])\n",
    "history = model_5.fit(X, Y, epochs=1500, batch_size=4603)\n",
    "scores = model_5.evaluate(X, Y)\n",
    "print(\"\\n%s: %.2f%%\" % (model_5.metrics_names[1], scores[1]*100))"
   ]
  },
  {
   "cell_type": "code",
   "execution_count": null,
   "metadata": {
    "collapsed": true
   },
   "outputs": [],
   "source": [
    "model_6.compile(loss='mse',optimizer='rmsprop',metrics=['accuracy'])\n",
    "history = model_6.fit(X, Y, epochs=1500, batch_size=4603)\n",
    "scores = model_6.evaluate(X, Y)\n",
    "print(\"\\n%s: %.2f%%\" % (model_6.metrics_names[1], scores[1]*100))"
   ]
  },
  {
   "cell_type": "code",
   "execution_count": null,
   "metadata": {
    "collapsed": true
   },
   "outputs": [],
   "source": [
    "model_7.compile(loss='mse',optimizer='rmsprop',metrics=['accuracy'])\n",
    "history = model_7.fit(X, Y, epochs=1500, batch_size=4603)\n",
    "scores = model_7.evaluate(X, Y)\n",
    "print(\"\\n%s: %.2f%%\" % (model_7.metrics_names[1], scores[1]*100))"
   ]
  },
  {
   "cell_type": "markdown",
   "metadata": {},
   "source": [
    "# ^ UNTIL HERE!!! (set epochs and batch size)"
   ]
  },
  {
   "cell_type": "code",
   "execution_count": 46,
   "metadata": {
    "collapsed": false,
    "scrolled": true
   },
   "outputs": [
    {
     "name": "stdout",
     "output_type": "stream",
     "text": [
      "Starting gradient descent for 3000 iterations\n",
      "Iteration 0 of 3000\n"
     ]
    },
    {
     "ename": "KeyboardInterrupt",
     "evalue": "",
     "output_type": "error",
     "traceback": [
      "\u001b[1;31m---------------------------------------------------------------------------\u001b[0m",
      "\u001b[1;31mKeyboardInterrupt\u001b[0m                         Traceback (most recent call last)",
      "\u001b[1;32m<ipython-input-46-cf28df259b34>\u001b[0m in \u001b[0;36m<module>\u001b[1;34m()\u001b[0m\n\u001b[1;32m----> 1\u001b[1;33m \u001b[0mW_1\u001b[0m\u001b[1;33m,\u001b[0m \u001b[0mb_1\u001b[0m\u001b[1;33m,\u001b[0m \u001b[0mavg_cost_func_1\u001b[0m \u001b[1;33m=\u001b[0m \u001b[0mtrain_nn\u001b[0m\u001b[1;33m(\u001b[0m\u001b[0mnn_structure1\u001b[0m\u001b[1;33m,\u001b[0m \u001b[0mtrainX\u001b[0m\u001b[1;33m,\u001b[0m \u001b[0mtrainYvec\u001b[0m\u001b[1;33m,\u001b[0m \u001b[1;36m3000\u001b[0m\u001b[1;33m,\u001b[0m\u001b[0mact_func\u001b[0m\u001b[1;33m=\u001b[0m\u001b[1;36m1\u001b[0m\u001b[1;33m)\u001b[0m\u001b[1;33m\u001b[0m\u001b[0m\n\u001b[0m",
      "\u001b[1;32m<ipython-input-45-564fccba9f95>\u001b[0m in \u001b[0;36mtrain_nn\u001b[1;34m(nn_structure, X, y, iter_num, alpha, act_func)\u001b[0m\n\u001b[0;32m     69\u001b[0m                 \u001b[1;32melse\u001b[0m\u001b[1;33m:\u001b[0m\u001b[1;33m\u001b[0m\u001b[0m\n\u001b[0;32m     70\u001b[0m                     \u001b[1;32mif\u001b[0m \u001b[0ml\u001b[0m \u001b[1;33m>\u001b[0m \u001b[1;36m1\u001b[0m\u001b[1;33m:\u001b[0m\u001b[1;33m\u001b[0m\u001b[0m\n\u001b[1;32m---> 71\u001b[1;33m                         \u001b[0mdelta\u001b[0m\u001b[1;33m[\u001b[0m\u001b[0ml\u001b[0m\u001b[1;33m]\u001b[0m \u001b[1;33m=\u001b[0m \u001b[0mcalculate_hidden_delta\u001b[0m\u001b[1;33m(\u001b[0m\u001b[0mdelta\u001b[0m\u001b[1;33m[\u001b[0m\u001b[0ml\u001b[0m\u001b[1;33m+\u001b[0m\u001b[1;36m1\u001b[0m\u001b[1;33m]\u001b[0m\u001b[1;33m,\u001b[0m \u001b[0mW\u001b[0m\u001b[1;33m[\u001b[0m\u001b[0ml\u001b[0m\u001b[1;33m]\u001b[0m\u001b[1;33m,\u001b[0m \u001b[0mz\u001b[0m\u001b[1;33m[\u001b[0m\u001b[0ml\u001b[0m\u001b[1;33m]\u001b[0m\u001b[1;33m,\u001b[0m\u001b[0mact_func\u001b[0m\u001b[1;33m)\u001b[0m\u001b[1;33m\u001b[0m\u001b[0m\n\u001b[0m\u001b[0;32m     72\u001b[0m                     \u001b[1;31m#print(type(tri_W))\u001b[0m\u001b[1;33m\u001b[0m\u001b[1;33m\u001b[0m\u001b[0m\n\u001b[0;32m     73\u001b[0m                     \u001b[0mtri_W\u001b[0m\u001b[1;33m[\u001b[0m\u001b[0ml\u001b[0m\u001b[1;33m]\u001b[0m \u001b[1;33m=\u001b[0m \u001b[0mtri_W\u001b[0m\u001b[1;33m[\u001b[0m\u001b[0ml\u001b[0m\u001b[1;33m]\u001b[0m \u001b[1;33m+\u001b[0m \u001b[0mnp\u001b[0m\u001b[1;33m.\u001b[0m\u001b[0mdot\u001b[0m\u001b[1;33m(\u001b[0m\u001b[0mdelta\u001b[0m\u001b[1;33m[\u001b[0m\u001b[0ml\u001b[0m\u001b[1;33m+\u001b[0m\u001b[1;36m1\u001b[0m\u001b[1;33m]\u001b[0m\u001b[1;33m[\u001b[0m\u001b[1;33m:\u001b[0m\u001b[1;33m,\u001b[0m\u001b[0mnp\u001b[0m\u001b[1;33m.\u001b[0m\u001b[0mnewaxis\u001b[0m\u001b[1;33m]\u001b[0m\u001b[1;33m,\u001b[0m \u001b[0mnp\u001b[0m\u001b[1;33m.\u001b[0m\u001b[0mtranspose\u001b[0m\u001b[1;33m(\u001b[0m\u001b[0ma\u001b[0m\u001b[1;33m[\u001b[0m\u001b[0ml\u001b[0m\u001b[1;33m]\u001b[0m\u001b[1;33m[\u001b[0m\u001b[1;33m:\u001b[0m\u001b[1;33m,\u001b[0m\u001b[0mnp\u001b[0m\u001b[1;33m.\u001b[0m\u001b[0mnewaxis\u001b[0m\u001b[1;33m]\u001b[0m\u001b[1;33m)\u001b[0m\u001b[1;33m)\u001b[0m\u001b[1;33m\u001b[0m\u001b[0m\n",
      "\u001b[1;32m<ipython-input-45-564fccba9f95>\u001b[0m in \u001b[0;36mcalculate_hidden_delta\u001b[1;34m(delta_plus_1, w_l, z_l, act_func)\u001b[0m\n\u001b[0;32m     42\u001b[0m \u001b[1;32mdef\u001b[0m \u001b[0mcalculate_hidden_delta\u001b[0m\u001b[1;33m(\u001b[0m\u001b[0mdelta_plus_1\u001b[0m\u001b[1;33m,\u001b[0m \u001b[0mw_l\u001b[0m\u001b[1;33m,\u001b[0m \u001b[0mz_l\u001b[0m\u001b[1;33m,\u001b[0m \u001b[0mact_func\u001b[0m\u001b[1;33m=\u001b[0m\u001b[1;36m1\u001b[0m\u001b[1;33m)\u001b[0m\u001b[1;33m:\u001b[0m\u001b[1;33m\u001b[0m\u001b[0m\n\u001b[0;32m     43\u001b[0m     \u001b[1;32mif\u001b[0m \u001b[0mact_func\u001b[0m\u001b[1;33m==\u001b[0m\u001b[1;36m1\u001b[0m\u001b[1;33m:\u001b[0m\u001b[1;33m\u001b[0m\u001b[0m\n\u001b[1;32m---> 44\u001b[1;33m         \u001b[1;32mreturn\u001b[0m \u001b[0mnp\u001b[0m\u001b[1;33m.\u001b[0m\u001b[0mdot\u001b[0m\u001b[1;33m(\u001b[0m\u001b[0mnp\u001b[0m\u001b[1;33m.\u001b[0m\u001b[0mtranspose\u001b[0m\u001b[1;33m(\u001b[0m\u001b[0mw_l\u001b[0m\u001b[1;33m)\u001b[0m\u001b[1;33m,\u001b[0m \u001b[0mdelta_plus_1\u001b[0m\u001b[1;33m)\u001b[0m \u001b[1;33m*\u001b[0m \u001b[0mf_deriv\u001b[0m\u001b[1;33m(\u001b[0m\u001b[0mz_l\u001b[0m\u001b[1;33m)\u001b[0m\u001b[1;33m\u001b[0m\u001b[0m\n\u001b[0m\u001b[0;32m     45\u001b[0m     \u001b[1;32melif\u001b[0m \u001b[0mact_func\u001b[0m\u001b[1;33m==\u001b[0m\u001b[1;36m2\u001b[0m\u001b[1;33m:\u001b[0m\u001b[1;33m\u001b[0m\u001b[0m\n\u001b[0;32m     46\u001b[0m         \u001b[1;32mreturn\u001b[0m \u001b[0mnp\u001b[0m\u001b[1;33m.\u001b[0m\u001b[0mdot\u001b[0m\u001b[1;33m(\u001b[0m\u001b[0mnp\u001b[0m\u001b[1;33m.\u001b[0m\u001b[0mtranspose\u001b[0m\u001b[1;33m(\u001b[0m\u001b[0mw_l\u001b[0m\u001b[1;33m)\u001b[0m\u001b[1;33m,\u001b[0m \u001b[0mdelta_plus_1\u001b[0m\u001b[1;33m)\u001b[0m \u001b[1;33m*\u001b[0m \u001b[0mf2_deriv\u001b[0m\u001b[1;33m(\u001b[0m\u001b[0mz_l\u001b[0m\u001b[1;33m)\u001b[0m\u001b[1;33m\u001b[0m\u001b[0m\n",
      "\u001b[1;31mKeyboardInterrupt\u001b[0m: "
     ]
    }
   ],
   "source": [
    "W_1, b_1, avg_cost_func_1 = train_nn(nn_structure1, trainX, trainYvec, 3000,act_func=1)"
   ]
  },
  {
   "cell_type": "code",
   "execution_count": null,
   "metadata": {
    "collapsed": true
   },
   "outputs": [],
   "source": [
    "W_2, b_2, avg_cost_func_2 = train_nn(nn_structure1, trainX, trainYvec, 3000,act_func=2)"
   ]
  },
  {
   "cell_type": "code",
   "execution_count": null,
   "metadata": {
    "collapsed": true
   },
   "outputs": [],
   "source": [
    "W_3, b_3, avg_cost_func_3 = train_nn(nn_structure1, trainX, trainYvec, 3000,act_func=3)"
   ]
  },
  {
   "cell_type": "code",
   "execution_count": null,
   "metadata": {
    "collapsed": true
   },
   "outputs": [],
   "source": [
    "W_4, b_4, avg_cost_func_4 = train_nn(nn_structure2, trainX, trainYvec, 3000,act_func=1)"
   ]
  },
  {
   "cell_type": "code",
   "execution_count": null,
   "metadata": {
    "collapsed": true
   },
   "outputs": [],
   "source": [
    "W_5, b_5, avg_cost_func_5 = train_nn(nn_structure3, trainX, trainYvec, 3000,act_func=1)"
   ]
  },
  {
   "cell_type": "code",
   "execution_count": null,
   "metadata": {
    "collapsed": true
   },
   "outputs": [],
   "source": [
    "W_6, b_6, avg_cost_func_6 = train_nn(nn_structure4, trainX, trainYvec, 3000,act_func=1)"
   ]
  },
  {
   "cell_type": "code",
   "execution_count": null,
   "metadata": {
    "collapsed": true
   },
   "outputs": [],
   "source": [
    "W_7, b_7, avg_cost_func_7 = train_nn(nn_structure5, trainX, trainYvec, 3000,act_func=1)"
   ]
  },
  {
   "cell_type": "code",
   "execution_count": null,
   "metadata": {
    "collapsed": true
   },
   "outputs": [],
   "source": [
    "plt.plot(avg_cost_func_1)\n",
    "plt.ylabel('Average J')\n",
    "plt.xlabel('Iteration number')\n",
    "plt.show()\n",
    "\n",
    "predY = predict_y(W_1, b_1, testX, 3)\n",
    "print('Prediction accuracy is {}%'.format(accuracy_score(testYvec, predY) * 100))"
   ]
  },
  {
   "cell_type": "code",
   "execution_count": null,
   "metadata": {
    "collapsed": true
   },
   "outputs": [],
   "source": [
    "plt.plot(avg_cost_func_2)\n",
    "plt.ylabel('Average J')\n",
    "plt.xlabel('Iteration number')\n",
    "plt.show()\n",
    "\n",
    "predY = predict_y(W_2, b_2, testX, 3)\n",
    "print('Prediction accuracy is {}%'.format(accuracy_score(testYvec, predY) * 100))"
   ]
  },
  {
   "cell_type": "code",
   "execution_count": null,
   "metadata": {
    "collapsed": true
   },
   "outputs": [],
   "source": [
    "plt.plot(avg_cost_func_3)\n",
    "plt.ylabel('Average J')\n",
    "plt.xlabel('Iteration number')\n",
    "plt.show()\n",
    "\n",
    "predY = predict_y(W_3, b_3, testX, 3)\n",
    "print('Prediction accuracy is {}%'.format(accuracy_score(testYvec, predY) * 100))"
   ]
  },
  {
   "cell_type": "code",
   "execution_count": null,
   "metadata": {
    "collapsed": true
   },
   "outputs": [],
   "source": [
    "plt.plot(avg_cost_func_4)\n",
    "plt.ylabel('Average J')\n",
    "plt.xlabel('Iteration number')\n",
    "plt.show()\n",
    "\n",
    "predY = predict_y(W_4, b_4, testX, 3)\n",
    "print('Prediction accuracy is {}%'.format(accuracy_score(testYvec, predY) * 100))"
   ]
  },
  {
   "cell_type": "code",
   "execution_count": null,
   "metadata": {
    "collapsed": true
   },
   "outputs": [],
   "source": [
    "plt.plot(avg_cost_func_5)\n",
    "plt.ylabel('Average J')\n",
    "plt.xlabel('Iteration number')\n",
    "plt.show()\n",
    "\n",
    "predY = predict_y(W_5, b_5, testX, 3)\n",
    "print('Prediction accuracy is {}%'.format(accuracy_score(testYvec, predY) * 100))"
   ]
  },
  {
   "cell_type": "code",
   "execution_count": null,
   "metadata": {
    "collapsed": true
   },
   "outputs": [],
   "source": [
    "plt.plot(avg_cost_func_6)\n",
    "plt.ylabel('Average J')\n",
    "plt.xlabel('Iteration number')\n",
    "plt.show()\n",
    "\n",
    "predY = predict_y(W_6, b_6, testX, 3)\n",
    "print('Prediction accuracy is {}%'.format(accuracy_score(testYvec, predY) * 100))"
   ]
  },
  {
   "cell_type": "code",
   "execution_count": null,
   "metadata": {
    "collapsed": true
   },
   "outputs": [],
   "source": [
    "plt.plot(avg_cost_func_7)\n",
    "plt.ylabel('Average J')\n",
    "plt.xlabel('Iteration number')\n",
    "plt.show()\n",
    "\n",
    "predY = predict_y(W_7, b_7, testX, 3)\n",
    "print('Prediction accuracy is {}%'.format(accuracy_score(testYvec, predY) * 100))"
   ]
  }
 ],
 "metadata": {
  "anaconda-cloud": {},
  "kernelspec": {
   "display_name": "Python [Root]",
   "language": "python",
   "name": "Python [Root]"
  },
  "language_info": {
   "codemirror_mode": {
    "name": "ipython",
    "version": 3
   },
   "file_extension": ".py",
   "mimetype": "text/x-python",
   "name": "python",
   "nbconvert_exporter": "python",
   "pygments_lexer": "ipython3",
   "version": "3.5.2"
  }
 },
 "nbformat": 4,
 "nbformat_minor": 0
}
