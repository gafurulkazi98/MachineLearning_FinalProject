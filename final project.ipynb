{
 "cells": [
  {
   "cell_type": "markdown",
   "metadata": {},
   "source": [
    "Setup"
   ]
  },
  {
   "cell_type": "code",
   "execution_count": 33,
   "metadata": {
    "collapsed": false
   },
   "outputs": [],
   "source": [
    "from sklearn.linear_model import LogisticRegression\n",
    "from sklearn import preprocessing\n",
    "#from sklearn.cross_validation import train_test_split \n",
    "import numpy as np\n",
    "import pandas as pd\n",
    "import math\n",
    "import matplotlib.pyplot as plt\n",
    "import numpy.polynomial.polynomial as poly\n",
    "%matplotlib inline\n",
    "\n",
    "df = pd.read_csv(\"qudditch_training.csv\",)"
   ]
  },
  {
   "cell_type": "code",
   "execution_count": 79,
   "metadata": {
    "collapsed": false
   },
   "outputs": [
    {
     "name": "stdout",
     "output_type": "stream",
     "text": [
      "(101266, 48)\n",
      "?\n",
      "['Gryffindor' 'Female' 11.0 '?' 6 25 1 1 '38' 41 0 1 0 0 0 'Beater' 1\n",
      " 'None' 'None' 'No' 'No' 'No' 'No' 'No' 'No' 'No' 'No' 'No' 'No' 'No' 'No'\n",
      " 'No' 'No' 'No' 'No' 'No' 'No' 'No' 'No' 'No' 'No' 'No' 'No' 'No' 'NO']\n",
      "['Gryffindor' 'Female' 11.0 '?' 6 25 1 1 '38' 41 0 1 0 0 0 'Beater' 1\n",
      " 'None' 'None' 'No' 'No' 'No' 'No' 'No' 'No' 'No' 'No' 'No' 'No' 'No' 'No'\n",
      " 'No' 'No' 'No' 'No' 'No' 'No' 'No' 'No' 'No' 'No' 'No' 'No' 'No']\n"
     ]
    }
   ],
   "source": [
    "#data = (df[~np.isnan(df).any(axis=1)])\n",
    "\n",
    "print(df.shape)\n",
    "data = df.values\n",
    "print(data[0,5])\n",
    "X0 = data[:,2:47]\n",
    "print(X[0])\n",
    "X = np.delete(X0,8,1)\n",
    "\n",
    "Y0 = data[:,-1]\n",
    "print(X[0])\n",
    "\n",
    "#Y0 = np.array(Y0)\n",
    "Y = Y0=='YES'\n",
    "Y = Y.reshape((Y.shape[0],1))\n",
    "#print(Y)\n",
    "\n",
    "#X = data[:,].values\n",
    "#Y = data[:,].values\n",
    "#\n",
    "#def convert_y_to_vect(y):\n",
    "#    y_vect = np.zeros((len(y), 10))\n",
    "#    for i in range(len(y)):\n",
    "#        y_vect[i, y[i]] = 1\n",
    "#    return y_vect"
   ]
  },
  {
   "cell_type": "markdown",
   "metadata": {},
   "source": [
    "Logistic Regression"
   ]
  },
  {
   "cell_type": "code",
   "execution_count": null,
   "metadata": {
    "collapsed": true
   },
   "outputs": [],
   "source": []
  },
  {
   "cell_type": "markdown",
   "metadata": {},
   "source": [
    "Support Vector Machines"
   ]
  },
  {
   "cell_type": "code",
   "execution_count": null,
   "metadata": {
    "collapsed": true
   },
   "outputs": [],
   "source": []
  },
  {
   "cell_type": "markdown",
   "metadata": {},
   "source": [
    "Neural Networks"
   ]
  },
  {
   "cell_type": "code",
   "execution_count": null,
   "metadata": {
    "collapsed": true
   },
   "outputs": [],
   "source": []
  }
 ],
 "metadata": {
  "kernelspec": {
   "display_name": "Python [Root]",
   "language": "python",
   "name": "Python [Root]"
  },
  "language_info": {
   "codemirror_mode": {
    "name": "ipython",
    "version": 3
   },
   "file_extension": ".py",
   "mimetype": "text/x-python",
   "name": "python",
   "nbconvert_exporter": "python",
   "pygments_lexer": "ipython3",
   "version": "3.5.2"
  }
 },
 "nbformat": 4,
 "nbformat_minor": 0
}
