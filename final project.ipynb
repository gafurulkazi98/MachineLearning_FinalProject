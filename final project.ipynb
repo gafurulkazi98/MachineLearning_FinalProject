{
 "cells": [
  {
   "cell_type": "markdown",
   "metadata": {},
   "source": [
    "Setup"
   ]
  },
  {
   "cell_type": "code",
   "execution_count": 2,
   "metadata": {
    "collapsed": false
   },
   "outputs": [],
   "source": [
    "from sklearn.linear_model import LogisticRegression\n",
    "from sklearn import preprocessing\n",
    "#from sklearn.cross_validation import train_test_split \n",
    "import numpy as np\n",
    "import pandas as pd\n",
    "import math\n",
    "import matplotlib.pyplot as plt\n",
    "import numpy.polynomial.polynomial as poly\n",
    "%matplotlib inline\n",
    "\n",
    "df = pd.read_csv(\"qudditch_training.csv\",)"
   ]
  },
  {
   "cell_type": "code",
   "execution_count": 62,
   "metadata": {
    "collapsed": false,
    "scrolled": true
   },
   "outputs": [
    {
     "name": "stdout",
     "output_type": "stream",
     "text": [
      "(101268, 48)\n",
      "(101268, 20)\n",
      "(101268, 1)\n",
      "['Gryffindor' 'Female' 11.0 6.0 25.0 1.0 1.0 '38' 41.0 0.0 1.0 0.0 0.0 0.0\n",
      " 'Beater' 1.0 'None' 'No' 'No' 'No']\n",
      "['Gryffindor' 'Female' 11.0 6.0 25.0 1.0 1.0 '38' 41.0 0.0 1.0 0.0 0.0 0.0\n",
      " 'Beater' 1.0 'None' 'No' 0 0]\n",
      "[11.0 6.0 25.0 1.0 1.0 '38' 41.0 0.0 1.0 0.0 0.0 0.0 'Beater' 1.0 'None'\n",
      " 'No' 0 0 1.0 0.0 0.0 0.0 1.0 0.0]\n",
      "[[1.0 0.0 0.0 0.0]\n",
      " [1.0 0.0 0.0 0.0]\n",
      " [0.0 0.0 0.0 1.0]\n",
      " [1.0 0.0 0.0 0.0]\n",
      " [1.0 0.0 0.0 0.0]\n",
      " [1.0 0.0 0.0 0.0]\n",
      " [1.0 0.0 0.0 0.0]\n",
      " [1.0 0.0 0.0 0.0]\n",
      " [1.0 0.0 0.0 0.0]\n",
      " [1.0 0.0 0.0 0.0]\n",
      " [0.0 0.0 0.0 1.0]\n",
      " [0.0 0.0 0.0 1.0]\n",
      " [1.0 0.0 0.0 0.0]\n",
      " [1.0 0.0 0.0 0.0]\n",
      " [0.0 0.0 0.0 1.0]\n",
      " [0.0 0.0 0.0 1.0]\n",
      " [0.0 0.0 0.0 1.0]\n",
      " [1.0 0.0 0.0 0.0]\n",
      " [0.0 0.0 0.0 1.0]\n",
      " [0.0 0.0 0.0 0.0]]\n",
      "[[1.0 0.0]\n",
      " [1.0 0.0]\n",
      " [1.0 0.0]\n",
      " [0.0 1.0]\n",
      " [0.0 1.0]\n",
      " [0.0 1.0]\n",
      " [0.0 1.0]\n",
      " [0.0 1.0]\n",
      " [1.0 0.0]\n",
      " [1.0 0.0]\n",
      " [1.0 0.0]\n",
      " [0.0 1.0]\n",
      " [1.0 0.0]\n",
      " [0.0 1.0]\n",
      " [1.0 0.0]\n",
      " [0.0 1.0]\n",
      " [0.0 1.0]\n",
      " [1.0 0.0]\n",
      " [0.0 1.0]\n",
      " [0.0 1.0]]\n"
     ]
    }
   ],
   "source": [
    "#data = (df[~np.isnan(df).any(axis=1)])\n",
    "\n",
    "print(df.shape)\n",
    "data = df.values\n",
    "X0 = data[0:101267,2:47]\n",
    "X1 = np.delete(X0,[3,8,18,21,22,23,24,25,27,28,29,30,31,32,33,34,35,36,37,38,39,40,41,42,43],1)\n",
    "#X1:house, gender, age, foul_type_id, game_move_id,penalty_id,game_duration,move_speciality,num_game_moves,\n",
    "#   num_game_losses,num_practice_sessions,num_games_satout,num_games_injured,num_games_notpartof,player_type,\n",
    "#   num_games_won,stooging?,body_blow?,power_play?,sloth_grip_roll?,change,snitch_caught\n",
    "\n",
    "Y0 = data[:,-1]\n",
    "print(X1.shape)\n",
    "\n",
    "#Y0 = np.array(Y0)\n",
    "Y = Y0=='YES'\n",
    "Y = Y.reshape((Y.shape[0],1))\n",
    "print(Y.shape)\n",
    "\n",
    "gryffindor = np.zeros((X1.shape[0],1))\n",
    "hufflepuff = np.zeros((X1.shape[0],1))\n",
    "ravenclaw = np.zeros((X1.shape[0],1))\n",
    "slytherin = np.zeros((X1.shape[0],1))\n",
    "\n",
    "female = np.zeros((X1.shape[0],1))\n",
    "male = np.zeros((X1.shape[0],1))\n",
    "\n",
    "print(X1[0])\n",
    "\n",
    "for row in range(len(X1)):\n",
    "    if X1[row][0]==\"Gryffindor\":\n",
    "        gryffindor[row]=True\n",
    "    elif X1[row][0]==\"Hufflepuff\":\n",
    "        hufflepuff[row]=True\n",
    "    elif X1[row][0]==\"Ravenclaw\":\n",
    "        ravenclaw[row]=True\n",
    "    elif X1[row][0]==\"Slytherin\":\n",
    "        slytherin[row]=True\n",
    "        \n",
    "    if X1[row][1]==\"Female\":\n",
    "        female[row]=True\n",
    "    elif X1[row][1]==\"Male\":\n",
    "        male[row]=True\n",
    "        \n",
    "    if X1[row][-1]==\"Yes\":\n",
    "        X1[row][-1]=1\n",
    "    else:\n",
    "        X1[row][-1]=0\n",
    "        \n",
    "    if X1[row][-2]==\"Ch\":\n",
    "        X1[row][-2]=1\n",
    "    else:\n",
    "        X1[row][-2]=0\n",
    "        \n",
    "print(X1[0])\n",
    "        \n",
    "X1 = np.hstack((X1,gryffindor,hufflepuff,ravenclaw,slytherin,female,male))\n",
    "X = np.delete(X1,[0,1],1)\n",
    "print(X[0])\n",
    "\n",
    "print(X[0:20,-6:-2])\n",
    "print(X[0:20,-2:])"
   ]
  },
  {
   "cell_type": "code",
   "execution_count": null,
   "metadata": {
    "collapsed": true
   },
   "outputs": [],
   "source": [
    "trainX=X[0:50634]\n",
    "testX=X[50534:101267]"
   ]
  },
  {
   "cell_type": "markdown",
   "metadata": {},
   "source": [
    "Logistic Regression"
   ]
  },
  {
   "cell_type": "code",
   "execution_count": null,
   "metadata": {
    "collapsed": true
   },
   "outputs": [],
   "source": []
  },
  {
   "cell_type": "markdown",
   "metadata": {},
   "source": [
    "Support Vector Machines"
   ]
  },
  {
   "cell_type": "code",
   "execution_count": null,
   "metadata": {
    "collapsed": true
   },
   "outputs": [],
   "source": []
  },
  {
   "cell_type": "markdown",
   "metadata": {},
   "source": [
    "Neural Networks"
   ]
  },
  {
   "cell_type": "code",
   "execution_count": null,
   "metadata": {
    "collapsed": true
   },
   "outputs": [],
   "source": []
  }
 ],
 "metadata": {
  "kernelspec": {
   "display_name": "Python [Root]",
   "language": "python",
   "name": "Python [Root]"
  },
  "language_info": {
   "codemirror_mode": {
    "name": "ipython",
    "version": 3
   },
   "file_extension": ".py",
   "mimetype": "text/x-python",
   "name": "python",
   "nbconvert_exporter": "python",
   "pygments_lexer": "ipython3",
   "version": "3.5.2"
  }
 },
 "nbformat": 4,
 "nbformat_minor": 0
}
